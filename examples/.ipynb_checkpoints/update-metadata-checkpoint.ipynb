{
 "cells": [
  {
   "cell_type": "code",
   "execution_count": 5,
   "metadata": {
    "collapsed": true
   },
   "outputs": [],
   "source": [
    "from ovation.session import connect\n",
    "\n",
    "import ovation.contents as contents"
   ]
  },
  {
   "cell_type": "code",
   "execution_count": 2,
   "metadata": {
    "collapsed": true
   },
   "outputs": [],
   "source": [
    "s = connect('barry@ovation.io')"
   ]
  },
  {
   "cell_type": "code",
   "execution_count": 3,
   "metadata": {
    "collapsed": true
   },
   "outputs": [],
   "source": [
    "project_id = '65e13a1a-2e1a-45ac-aa2f-b7b334b4c2f2'"
   ]
  },
  {
   "cell_type": "code",
   "execution_count": 4,
   "metadata": {
    "collapsed": true
   },
   "outputs": [],
   "source": [
    "p = s.get(s.entity_path('project', project_id))"
   ]
  },
  {
   "cell_type": "code",
   "execution_count": 11,
   "metadata": {
    "collapsed": false
   },
   "outputs": [
    {
     "name": "stdout",
     "output_type": "stream",
     "text": [
      "colors.scss\n",
      "\tcc142173-2fac-4474-bd09-f5ddf4b1d83a\n",
      "\tdone\n",
      "style-guide-v8-8-16.pdf\n",
      "\te4ae987c-76de-4589-a966-1b45fa9faa88\n",
      "\tdone\n",
      "ovation-full-logo-revised-white-ov.psd\n",
      "\t2901e24f-8f0e-4651-bf6b-0a5a143e9e14\n",
      "\tdone\n",
      "ovation-full-logo-revised-white-ov.png\n",
      "\t048c0a1f-1b97-4a25-806c-fdf551ecc288\n",
      "\tdone\n",
      "ov-logo-revised.psd\n",
      "\t269543d2-d56f-4218-8df2-78dccca39ccf\n",
      "\tdone\n",
      "ovation-full-logo-revised-transparent-ov.psd\n",
      "\t2346eb33-7a86-4502-81fb-e6186a816f12\n",
      "\tdone\n",
      "logo-with-tagline-revised.png\n",
      "\t77159c80-f158-4dc7-b184-a43c4710c02c\n",
      "\tdone\n",
      "ov-logo-revised.png\n",
      "\tfb8b33bb-ca57-4d73-8a81-17221c927f90\n",
      "\tdone\n",
      "logo-with-tagline-revised.psd\n",
      "\ta4d21f0c-cf2d-4dd4-b258-d2d98f874a08\n",
      "\tdone\n",
      "ovation-full-logo-revised-transparent-ov.png\n",
      "\t71aed315-6db1-43d7-81d4-4ca20be0fc78\n",
      "\tdone\n",
      "proximanova-lightitalic-webfont.woff2\n",
      "\t9a86376e-1f01-4634-8ff5-608b4de3c2e6\n",
      "\tdone\n",
      "proximanova-regular-webfont.ttf\n",
      "\t03baeb2e-f6b3-403e-b6bf-38635bc2cd3c\n",
      "\tdone\n",
      "proximanova-semibold-webfont.ttf\n",
      "\tf9d1f1d9-844b-47e1-be46-83fe18e5c9bd\n",
      "\tdone\n",
      "proximanova-lightitalic-webfont.svg\n",
      "\tfb77fc83-cb75-4ea9-977e-795520e8c9ba\n",
      "\tdone\n",
      "proximanova-regitalic-webfont.svg\n",
      "\t48e4a7ea-580c-4c2d-8351-3327f8dd9f29\n",
      "\tdone\n",
      "proximanova-light-webfont.svg\n",
      "\tb12b3ad5-f750-4b44-955b-6b83d312fbb6\n",
      "\tdone\n",
      "proximanova-semibold-webfont.woff2\n",
      "\t01b17882-cff5-4089-99b2-5ab966b70085\n",
      "\tdone\n",
      "proximanova-semibold-webfont.svg\n",
      "\t910c33ca-ccb7-4ad8-b828-b4f5365df8b4\n",
      "\tdone\n",
      "proximanova-semibold-webfont.eot\n",
      "\t16687836-5b45-4df0-b52e-c53860163885\n",
      "\tdone\n",
      "proximanova-regitalic-webfont.ttf\n",
      "\tc439ade9-ecdc-4c21-a801-3a82bba6a0ea\n",
      "\tdone\n",
      "proximanova-light-webfont.eot\n",
      "\t8e9407d5-abd3-4e5a-af29-4964c8cb5cae\n",
      "\tdone\n",
      "proximanova-regular-webfont.eot\n",
      "\te0d0a180-3297-4815-920c-16d81afb5122\n",
      "\tdone\n",
      "proximanova-regular-webfont.svg\n",
      "\t67294298-e65c-49e1-992e-731ba30a68f6\n",
      "\tdone\n",
      "proximanova-light-webfont.ttf\n",
      "\tc1eca220-7574-46d2-9227-80ecba74994e\n",
      "\tdone\n",
      "proximanova-regular-webfont.woff\n",
      "\taafeb4b3-d708-4d2a-b1ff-cbad72a4362d\n",
      "\tdone\n",
      "proximanova-regitalic-webfont.woff\n",
      "\t443cc1b6-e30d-4b21-8da6-daa64132e757\n",
      "\tdone\n",
      "proximanova-lightitalic-webfont.woff\n",
      "\t48aac96e-2cdc-4d64-bae7-87430d2cc581\n",
      "\tdone\n",
      "proximanova-semibold-webfont.woff\n",
      "\tf2cb9545-26df-41e7-be99-31a52276696d\n",
      "\tdone\n",
      "proximanova-regitalic-webfont.eot\n",
      "\t64b47b01-e8b4-4460-9b86-915e307d824f\n",
      "\tdone\n",
      "proximanova-light-webfont.woff\n",
      "\tdbcdaa8c-421c-4469-80ce-9391ae543509\n",
      "\tdone\n",
      "proximanova-lightitalic-webfont.ttf\n",
      "\tb16b1679-9e90-4cb8-8297-da6700d0b5f5\n",
      "\tdone\n",
      "proximanova-regular-webfont.woff2\n",
      "\t4284b8a9-5759-4e8b-a3f9-355d2d48c025\n",
      "\tdone\n",
      "proximanova-lightitalic-webfont.eot\n",
      "\t38ea88e7-f02d-427e-87af-3253d8bbf143\n",
      "\tdone\n",
      "proximanova-regitalic-webfont.woff2\n",
      "\t19f32870-4e0f-493d-a0fe-8c4912476b9a\n",
      "\tdone\n",
      "proximanova-light-webfont.woff2\n",
      "\t206c616f-9a13-4fde-85fb-d99984f3cffe\n",
      "\tdone\n"
     ]
    }
   ],
   "source": [
    "for (parent, folders, files) in contents.walk(s,p, recurse=True):\n",
    "    for f in files:\n",
    "        print(f.attributes.name)\n",
    "        for rev in s.get(f.links.heads):\n",
    "            print('\\t' + rev._id)\n",
    "            s.put(rev.links['upload-complete'], entity=None)\n",
    "            print('\\t' + 'done')\n",
    "            "
   ]
  },
  {
   "cell_type": "code",
   "execution_count": null,
   "metadata": {
    "collapsed": true
   },
   "outputs": [],
   "source": []
  }
 ],
 "metadata": {
  "kernelspec": {
   "display_name": "Python 3",
   "language": "python",
   "name": "python3"
  },
  "language_info": {
   "codemirror_mode": {
    "name": "ipython",
    "version": 3
   },
   "file_extension": ".py",
   "mimetype": "text/x-python",
   "name": "python",
   "nbconvert_exporter": "python",
   "pygments_lexer": "ipython3",
   "version": "3.5.2"
  }
 },
 "nbformat": 4,
 "nbformat_minor": 0
}
