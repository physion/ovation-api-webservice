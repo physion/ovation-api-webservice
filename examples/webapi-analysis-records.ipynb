{
 "metadata": {
  "name": "",
  "signature": "sha256:82f601622ca6312c01c0bde23e63b866dc7091e2eb6a4fb1dadbb7fd7a315dcd"
 },
 "nbformat": 3,
 "nbformat_minor": 0,
 "worksheets": [
  {
   "cells": [
    {
     "cell_type": "code",
     "collapsed": false,
     "input": [
      "import requests\n",
      "import os\n",
      "import datetime\n",
      "import pytz\n",
      "import json\n",
      "\n",
      "import pprint as pp\n",
      "from urllib.parse import urljoin\n",
      "from getpass import getpass"
     ],
     "language": "python",
     "metadata": {},
     "outputs": [],
     "prompt_number": 46
    },
    {
     "cell_type": "markdown",
     "metadata": {},
     "source": [
      "The Ovation web API is a RESTful API that you use with any HTTP client. In this tutorial, we'll use the Python `requests` package."
     ]
    },
    {
     "cell_type": "heading",
     "level": 3,
     "metadata": {},
     "source": [
      "Utilities"
     ]
    },
    {
     "cell_type": "code",
     "collapsed": false,
     "input": [
      "API_HOST = 'http://localhost:3000/'\n",
      "def make_url(path, host=API_HOST): #'https://api-dev.ovation.io/'):\n",
      "    return urljoin(host, path)"
     ],
     "language": "python",
     "metadata": {},
     "outputs": [],
     "prompt_number": 53
    },
    {
     "cell_type": "code",
     "collapsed": false,
     "input": [
      "make_url('/api/v1/projects')"
     ],
     "language": "python",
     "metadata": {},
     "outputs": [
      {
       "metadata": {},
       "output_type": "pyout",
       "prompt_number": 3,
       "text": [
        "'http://localhost:3001/api/v1/projects'"
       ]
      }
     ],
     "prompt_number": 3
    },
    {
     "cell_type": "heading",
     "level": 3,
     "metadata": {},
     "source": [
      "Credentials"
     ]
    },
    {
     "cell_type": "markdown",
     "metadata": {},
     "source": [
      "The API key prompt will appear **on the terminal**."
     ]
    },
    {
     "cell_type": "code",
     "collapsed": false,
     "input": [
      "api_key = getpass(prompt=\"API Key: \")"
     ],
     "language": "python",
     "metadata": {},
     "outputs": [],
     "prompt_number": 4
    },
    {
     "cell_type": "code",
     "collapsed": false,
     "input": [
      "auth_params = {'api-key' : api_key}"
     ],
     "language": "python",
     "metadata": {},
     "outputs": [],
     "prompt_number": 5
    },
    {
     "cell_type": "markdown",
     "metadata": {},
     "source": [
      "We create a `requests.Session` object for use with the Ovation API"
     ]
    },
    {
     "cell_type": "code",
     "collapsed": false,
     "input": [
      "api = requests.Session()\n",
      "api.verify = True # Verify SSL certificates\n",
      "api.headers['content-type'] = 'application/json'\n",
      "api.params = auth_params # Send api-key with each request"
     ],
     "language": "python",
     "metadata": {},
     "outputs": [],
     "prompt_number": 41
    },
    {
     "cell_type": "heading",
     "level": 3,
     "metadata": {},
     "source": [
      "Projects"
     ]
    },
    {
     "cell_type": "code",
     "collapsed": false,
     "input": [
      "r = api.get(make_url('/api/v1/projects'))\n",
      "r.raise_for_status()"
     ],
     "language": "python",
     "metadata": {},
     "outputs": [],
     "prompt_number": 54
    },
    {
     "cell_type": "code",
     "collapsed": false,
     "input": [
      "projects = r.json()"
     ],
     "language": "python",
     "metadata": {},
     "outputs": [],
     "prompt_number": 8
    },
    {
     "cell_type": "code",
     "collapsed": false,
     "input": [
      "len(projects)"
     ],
     "language": "python",
     "metadata": {},
     "outputs": [
      {
       "metadata": {},
       "output_type": "pyout",
       "prompt_number": 9,
       "text": [
        "2"
       ]
      }
     ],
     "prompt_number": 9
    },
    {
     "cell_type": "code",
     "collapsed": false,
     "input": [
      "pp.pprint(projects[0])"
     ],
     "language": "python",
     "metadata": {},
     "outputs": [
      {
       "output_type": "stream",
       "stream": "stdout",
       "text": [
        "{'_id': '7cebfee3-ee3f-4f34-a0dc-e4e7f79a18a6',\n",
        " '_rev': '3-b0ede23a375c31c56663960447319237',\n",
        " 'attributes': {'name': 'My First Project',\n",
        "                'purpose': 'First Project',\n",
        "                'start': '2014-09-25T22:18:19.724-04:00'},\n",
        " 'links': {'_collaboration_roots': '/api/v1/entities/7cebfee3-ee3f-4f34-a0dc-e4e7f79a18a6/links/_collaboration_roots',\n",
        "           'experiments': '/api/v1/entities/7cebfee3-ee3f-4f34-a0dc-e4e7f79a18a6/links/experiments',\n",
        "           'owner': '/api/v1/entities/7cebfee3-ee3f-4f34-a0dc-e4e7f79a18a6/links/owner',\n",
        "           'self': '/api/v1/entities/7cebfee3-ee3f-4f34-a0dc-e4e7f79a18a6'},\n",
        " 'named_links': {},\n",
        " 'type': 'Project'}\n"
       ]
      }
     ],
     "prompt_number": 10
    },
    {
     "cell_type": "heading",
     "level": 3,
     "metadata": {},
     "source": [
      "Following links"
     ]
    },
    {
     "cell_type": "code",
     "collapsed": false,
     "input": [
      "r = api.get(make_url(projects[0]['links']['experiments']))\n",
      "r.raise_for_status()"
     ],
     "language": "python",
     "metadata": {},
     "outputs": [],
     "prompt_number": 13
    },
    {
     "cell_type": "code",
     "collapsed": false,
     "input": [
      "experiments = r.json()"
     ],
     "language": "python",
     "metadata": {},
     "outputs": [],
     "prompt_number": 14
    },
    {
     "cell_type": "code",
     "collapsed": false,
     "input": [
      "exp = experiments[0]\n",
      "pp.pprint(exp)"
     ],
     "language": "python",
     "metadata": {},
     "outputs": [
      {
       "output_type": "stream",
       "stream": "stdout",
       "text": [
        "{'_id': 'e8e6661f-6101-40ea-9a49-9d38613fee12',\n",
        " '_rev': '1-7d8cfe4a8a0f531e2b043e0780a57d05',\n",
        " 'attributes': {'purpose': 'First Experiment',\n",
        "                'start': '2014-09-25T22:18:20.519-04:00'},\n",
        " 'links': {'_collaboration_roots': '/api/v1/entities/e8e6661f-6101-40ea-9a49-9d38613fee12/links/_collaboration_roots',\n",
        "           'epoch_groups': '/api/v1/entities/e8e6661f-6101-40ea-9a49-9d38613fee12/links/epoch_groups',\n",
        "           'epochs': '/api/v1/entities/e8e6661f-6101-40ea-9a49-9d38613fee12/links/epochs',\n",
        "           'owner': '/api/v1/entities/e8e6661f-6101-40ea-9a49-9d38613fee12/links/owner',\n",
        "           'projects': '/api/v1/entities/e8e6661f-6101-40ea-9a49-9d38613fee12/links/projects',\n",
        "           'self': '/api/v1/entities/e8e6661f-6101-40ea-9a49-9d38613fee12'},\n",
        " 'named_links': {},\n",
        " 'type': 'Experiment'}\n"
       ]
      }
     ],
     "prompt_number": 15
    },
    {
     "cell_type": "code",
     "collapsed": false,
     "input": [
      "\n",
      "for p in projects:\n",
      "    experiments = api.get(make_url(p['links']['experiments'])).json()\n",
      "    for exp in experiments:\n",
      "        pp.pprint(api.get(make_url('/api/v1/entities/{}/links/epoch_groups'.format(exp['_id']))).json())\n",
      "        pp.pprint(api.get(make_url(exp['links']['epochs'])).json())"
     ],
     "language": "python",
     "metadata": {},
     "outputs": [
      {
       "output_type": "stream",
       "stream": "stdout",
       "text": [
        "[]\n",
        "[]"
       ]
      },
      {
       "output_type": "stream",
       "stream": "stdout",
       "text": [
        "\n",
        "[]"
       ]
      },
      {
       "output_type": "stream",
       "stream": "stdout",
       "text": [
        "\n",
        "[]"
       ]
      },
      {
       "output_type": "stream",
       "stream": "stdout",
       "text": [
        "\n",
        "["
       ]
      },
      {
       "output_type": "stream",
       "stream": "stdout",
       "text": [
        "{'_id': 'b4821d9e-0b20-43ec-984d-0658cbf4b185',\n",
        "  '_rev': '1-d93a121f755c1065e430efa1199892ce',\n",
        "  'attributes': {'device_parameters': {},\n",
        "                 'label': 'Group 0',\n",
        "                 'protocol_parameters': {},\n",
        "                 'start': '2014-09-25T22:18:40.851-04:00'},\n",
        "  'links': {'_collaboration_roots': '/api/v1/entities/b4821d9e-0b20-43ec-984d-0658cbf4b185/links/_collaboration_roots',\n",
        "            'epoch_groups': '/api/v1/entities/b4821d9e-0b20-43ec-984d-0658cbf4b185/links/epoch_groups',\n",
        "            'epochs': '/api/v1/entities/b4821d9e-0b20-43ec-984d-0658cbf4b185/links/epochs',\n",
        "            'owner': '/api/v1/entities/b4821d9e-0b20-43ec-984d-0658cbf4b185/links/owner',\n",
        "            'parent': '/api/v1/entities/b4821d9e-0b20-43ec-984d-0658cbf4b185/links/parent',\n",
        "            'protocol': '/api/v1/entities/b4821d9e-0b20-43ec-984d-0658cbf4b185/links/protocol',\n",
        "            'self': '/api/v1/entities/b4821d9e-0b20-43ec-984d-0658cbf4b185'},\n",
        "  'named_links': {},\n",
        "  'type': 'EpochGroup'},\n",
        " {'_id': 'd4bdccfa-9ee9-4467-90b4-4e725f856a13',\n",
        "  '_rev': '1-74d261d77ced01eecb099a28816fdb96',\n",
        "  'attributes': {'device_parameters': {},\n",
        "                 'label': 'Group 1',\n",
        "                 'protocol_parameters': {},\n",
        "                 'start': '2014-09-25T22:18:55.937-04:00'},\n",
        "  'links': {'_collaboration_roots': '/api/v1/entities/d4bdccfa-9ee9-4467-90b4-4e725f856a13/links/_collaboration_roots',\n",
        "            'epoch_groups': '/api/v1/entities/d4bdccfa-9ee9-4467-90b4-4e725f856a13/links/epoch_groups',\n",
        "            'epochs': '/api/v1/entities/d4bdccfa-9ee9-4467-90b4-4e725f856a13/links/epochs',\n",
        "            'owner': '/api/v1/entities/d4bdccfa-9ee9-4467-90b4-4e725f856a13/links/owner',\n",
        "            'parent': '/api/v1/entities/d4bdccfa-9ee9-4467-90b4-4e725f856a13/links/parent',\n",
        "            'protocol': '/api/v1/entities/d4bdccfa-9ee9-4467-90b4-4e725f856a13/links/protocol',\n",
        "            'self': '/api/v1/entities/d4bdccfa-9ee9-4467-90b4-4e725f856a13'},\n",
        "  'named_links': {},\n",
        "  'type': 'EpochGroup'}]\n",
        "{"
       ]
      },
      {
       "output_type": "stream",
       "stream": "stdout",
       "text": [
        "'errors': [{'named_links': {'input_sources': {'input 1': '(not '\n",
        "                                                          '(instance? '\n",
        "                                                          'java.lang.String '\n",
        "                                                          'a-clojure.lang.PersistentArrayMap))',\n",
        "                                               'input 2': '(not '\n",
        "                                                          '(instance? '\n",
        "                                                          'java.lang.String '\n",
        "                                                          'a-clojure.lang.PersistentArrayMap))'}}},\n",
        "            {'named_links': {'input_sources': {'input 1': '(not '\n",
        "                                                          '(instance? '\n",
        "                                                          'java.lang.String '\n",
        "                                                          'a-clojure.lang.PersistentArrayMap))',\n",
        "                                               'input 2': '(not '\n",
        "                                                          '(instance? '\n",
        "                                                          'java.lang.String '\n",
        "                                                          'a-clojure.lang.PersistentArrayMap))'}}},\n",
        "            {'named_links': {'input_sources': {'input 1': '(not '\n",
        "                                                          '(instance? '\n",
        "                                                          'java.lang.String '\n",
        "                                                          'a-clojure.lang.PersistentArrayMap))',\n",
        "                                               'input 2': '(not '\n",
        "                                                          '(instance? '\n",
        "                                                          'java.lang.String '\n",
        "                                                          'a-clojure.lang.PersistentArrayMap))'}}}]}\n",
        "[]"
       ]
      },
      {
       "output_type": "stream",
       "stream": "stdout",
       "text": [
        "\n",
        "[]"
       ]
      },
      {
       "output_type": "stream",
       "stream": "stdout",
       "text": [
        "\n"
       ]
      }
     ],
     "prompt_number": 16
    },
    {
     "cell_type": "heading",
     "level": 3,
     "metadata": {},
     "source": [
      "Adding analysis record"
     ]
    },
    {
     "cell_type": "code",
     "collapsed": false,
     "input": [
      "json.dumps(new_record)"
     ],
     "language": "python",
     "metadata": {},
     "outputs": [
      {
       "metadata": {},
       "output_type": "pyout",
       "prompt_number": 61,
       "text": [
        "'{\"named_links\": {\"inputs\": {\"project\": [{\"target_id\": \"7cebfee3-ee3f-4f34-a0dc-e4e7f79a18a6\", \"inverse_rel\": \"analysis_records\"}]}}, \"attributes\": {\"name\": \"Tutorial Analysis\", \"date\": \"2014-10-10T12:43:43.214519-04:00\"}, \"type\": \"AnalysisRecord\"}'"
       ]
      }
     ],
     "prompt_number": 61
    },
    {
     "cell_type": "code",
     "collapsed": false,
     "input": [
      "# TODO we should define the types somewhere\n",
      "est = pytz.timezone('US/Eastern')\n",
      "d = datetime.datetime.now(est)\n",
      "\n",
      "new_record = {'type': 'AnalysisRecord',\n",
      "              'attributes' : {'name': 'Tutorial Analysis',\n",
      "                              'date': d.isoformat()},\n",
      "              'named_links': {'inputs': {'project': [{'target_id': projects[0]['_id'],\n",
      "                                                      'inverse_rel': 'analysis_records'}]}}\n",
      "              }\n",
      "\n",
      "r = api.post(make_url('/api/v1/entities'), data=json.dumps(new_record))\n",
      "r.json()"
     ],
     "language": "python",
     "metadata": {},
     "outputs": [
      {
       "metadata": {},
       "output_type": "pyout",
       "prompt_number": 60,
       "text": [
        "{'message': 'No matching method found: create',\n",
        " 'type': 'class java.lang.IllegalArgumentException'}"
       ]
      }
     ],
     "prompt_number": 60
    },
    {
     "cell_type": "code",
     "collapsed": false,
     "input": [
      "r.status_code"
     ],
     "language": "python",
     "metadata": {},
     "outputs": [
      {
       "metadata": {},
       "output_type": "pyout",
       "prompt_number": 58,
       "text": [
        "500"
       ]
      }
     ],
     "prompt_number": 58
    }
   ],
   "metadata": {}
  }
 ]
}