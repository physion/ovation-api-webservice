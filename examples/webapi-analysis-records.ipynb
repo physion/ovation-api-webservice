{
 "metadata": {
  "name": "",
  "signature": "sha256:2e691749cf856e10da929cff40af98b1463ca9ae64d7ab7490b4dacab51cce7e"
 },
 "nbformat": 3,
 "nbformat_minor": 0,
 "worksheets": [
  {
   "cells": [
    {
     "cell_type": "code",
     "collapsed": false,
     "input": [
      "import requests\n",
      "import os\n",
      "import pprint as pp\n",
      "from urllib.parse import urljoin\n",
      "from getpass import getpass"
     ],
     "language": "python",
     "metadata": {},
     "outputs": [],
     "prompt_number": 59
    },
    {
     "cell_type": "markdown",
     "metadata": {},
     "source": [
      "The Ovation web API is a RESTful API that you use with any HTTP client. In this tutorial, we'll use the Python `requests` package."
     ]
    },
    {
     "cell_type": "heading",
     "level": 3,
     "metadata": {},
     "source": [
      "Utilities"
     ]
    },
    {
     "cell_type": "code",
     "collapsed": false,
     "input": [
      "def make_url(path, host='https://api-dev.ovation.io/'):\n",
      "    return urljoin(host, path)"
     ],
     "language": "python",
     "metadata": {},
     "outputs": [],
     "prompt_number": 48
    },
    {
     "cell_type": "code",
     "collapsed": false,
     "input": [
      "make_url('/api/v1/projects')"
     ],
     "language": "python",
     "metadata": {},
     "outputs": [
      {
       "metadata": {},
       "output_type": "pyout",
       "prompt_number": 49,
       "text": [
        "'https://api-dev.ovation.io/api/v1/projects'"
       ]
      }
     ],
     "prompt_number": 49
    },
    {
     "cell_type": "heading",
     "level": 3,
     "metadata": {},
     "source": [
      "Credentials"
     ]
    },
    {
     "cell_type": "markdown",
     "metadata": {},
     "source": [
      "The API key prompt will appear **on the terminal**."
     ]
    },
    {
     "cell_type": "code",
     "collapsed": false,
     "input": [
      "api_key = getpass(prompt=\"API Key: \")"
     ],
     "language": "python",
     "metadata": {},
     "outputs": [],
     "prompt_number": 3
    },
    {
     "cell_type": "code",
     "collapsed": false,
     "input": [
      "auth_params = {'api-key' : api_key}"
     ],
     "language": "python",
     "metadata": {},
     "outputs": [],
     "prompt_number": 10
    },
    {
     "cell_type": "markdown",
     "metadata": {},
     "source": [
      "We create a `requests.Session` object for use with the Ovation API"
     ]
    },
    {
     "cell_type": "code",
     "collapsed": false,
     "input": [
      "api = requests.Session()\n",
      "api.verify = True # Verify SSL certificates\n",
      "api.params = auth_params # Send api-key with each request"
     ],
     "language": "python",
     "metadata": {},
     "outputs": [],
     "prompt_number": 15
    },
    {
     "cell_type": "heading",
     "level": 3,
     "metadata": {},
     "source": [
      "Projects"
     ]
    },
    {
     "cell_type": "code",
     "collapsed": false,
     "input": [
      "r = api.get(make_url('/api/v1/projects'))\n",
      "r.raise_for_status()"
     ],
     "language": "python",
     "metadata": {},
     "outputs": [],
     "prompt_number": 61
    },
    {
     "cell_type": "code",
     "collapsed": false,
     "input": [
      "projects = r.json()"
     ],
     "language": "python",
     "metadata": {},
     "outputs": [],
     "prompt_number": 51
    },
    {
     "cell_type": "code",
     "collapsed": false,
     "input": [
      "len(projects)"
     ],
     "language": "python",
     "metadata": {},
     "outputs": [
      {
       "metadata": {},
       "output_type": "pyout",
       "prompt_number": 74,
       "text": [
        "2"
       ]
      }
     ],
     "prompt_number": 74
    },
    {
     "cell_type": "code",
     "collapsed": false,
     "input": [
      "p = projects[0]\n",
      "pp.pprint(p)"
     ],
     "language": "python",
     "metadata": {},
     "outputs": [
      {
       "output_type": "stream",
       "stream": "stdout",
       "text": [
        "{'_id': '7cebfee3-ee3f-4f34-a0dc-e4e7f79a18a6',\n",
        " '_rev': '3-b0ede23a375c31c56663960447319237',\n",
        " 'attributes': {'name': 'My First Project',\n",
        "                'purpose': 'First Project',\n",
        "                'start': '2014-09-25T22:18:19.724-04:00'},\n",
        " 'links': {'_collaboration_roots': '/api/v1/entities/7cebfee3-ee3f-4f34-a0dc-e4e7f79a18a6/links/_collaboration_roots',\n",
        "           'experiments': '/api/v1/entities/7cebfee3-ee3f-4f34-a0dc-e4e7f79a18a6/links/experiments',\n",
        "           'owner': '/api/v1/entities/7cebfee3-ee3f-4f34-a0dc-e4e7f79a18a6/links/owner',\n",
        "           'self': '/api/v1/entities/7cebfee3-ee3f-4f34-a0dc-e4e7f79a18a6'},\n",
        " 'named_links': {},\n",
        " 'type': 'Project'}\n"
       ]
      }
     ],
     "prompt_number": 60
    },
    {
     "cell_type": "heading",
     "level": 3,
     "metadata": {},
     "source": [
      "Following links"
     ]
    },
    {
     "cell_type": "code",
     "collapsed": false,
     "input": [
      "r = api.get(make_url(p['links']['experiments']))\n",
      "r.raise_for_status()"
     ],
     "language": "python",
     "metadata": {},
     "outputs": [],
     "prompt_number": 62
    },
    {
     "cell_type": "code",
     "collapsed": false,
     "input": [
      "experiments = r.json()"
     ],
     "language": "python",
     "metadata": {},
     "outputs": [],
     "prompt_number": 63
    },
    {
     "cell_type": "code",
     "collapsed": false,
     "input": [
      "exp = experiments[0]\n",
      "pp.pprint(exp)"
     ],
     "language": "python",
     "metadata": {},
     "outputs": [
      {
       "output_type": "stream",
       "stream": "stdout",
       "text": [
        "{'_id': 'e8e6661f-6101-40ea-9a49-9d38613fee12',\n",
        " '_rev': '1-7d8cfe4a8a0f531e2b043e0780a57d05',\n",
        " 'attributes': {'purpose': 'First Experiment',\n",
        "                'start': '2014-09-25T22:18:20.519-04:00'},\n",
        " 'links': {'_collaboration_roots': '/api/v1/entities/e8e6661f-6101-40ea-9a49-9d38613fee12/links/_collaboration_roots',\n",
        "           'epochs': '/api/v1/entities/e8e6661f-6101-40ea-9a49-9d38613fee12/links/epochs',\n",
        "           'owner': '/api/v1/entities/e8e6661f-6101-40ea-9a49-9d38613fee12/links/owner',\n",
        "           'projects': '/api/v1/entities/e8e6661f-6101-40ea-9a49-9d38613fee12/links/projects',\n",
        "           'self': '/api/v1/entities/e8e6661f-6101-40ea-9a49-9d38613fee12'},\n",
        " 'named_links': {},\n",
        " 'type': 'Experiment'}\n"
       ]
      }
     ],
     "prompt_number": 64
    },
    {
     "cell_type": "code",
     "collapsed": false,
     "input": [
      "api.get(make_url('/api/v1/entities/e8e6661f-6101-40ea-9a49-9d38613fee12/links/projects')).json()"
     ],
     "language": "python",
     "metadata": {},
     "outputs": [
      {
       "metadata": {},
       "output_type": "pyout",
       "prompt_number": 68,
       "text": [
        "[{'_id': '7cebfee3-ee3f-4f34-a0dc-e4e7f79a18a6',\n",
        "  'named_links': {},\n",
        "  'attributes': {'purpose': 'First Project',\n",
        "   'start': '2014-09-25T22:18:19.724-04:00',\n",
        "   'name': 'My First Project'},\n",
        "  'links': {'experiments': '/api/v1/entities/7cebfee3-ee3f-4f34-a0dc-e4e7f79a18a6/links/experiments',\n",
        "   '_collaboration_roots': '/api/v1/entities/7cebfee3-ee3f-4f34-a0dc-e4e7f79a18a6/links/_collaboration_roots',\n",
        "   'self': '/api/v1/entities/7cebfee3-ee3f-4f34-a0dc-e4e7f79a18a6',\n",
        "   'owner': '/api/v1/entities/7cebfee3-ee3f-4f34-a0dc-e4e7f79a18a6/links/owner'},\n",
        "  'type': 'Project',\n",
        "  '_rev': '3-b0ede23a375c31c56663960447319237'}]"
       ]
      }
     ],
     "prompt_number": 68
    },
    {
     "cell_type": "code",
     "collapsed": false,
     "input": [
      "for p in projects:\n",
      "    experiments = api.get(make_url(p['links']['experiments'])).json()\n",
      "    for exp in experiments:\n",
      "        pp.pprint(api.get(make_url('/api/v1/entities/{}/links/epoch_groups'.format(exp['_id']))).json())\n",
      "        pp.pprint(api.get(make_url(exp['links']['epochs'])).json())"
     ],
     "language": "python",
     "metadata": {},
     "outputs": [
      {
       "output_type": "stream",
       "stream": "stdout",
       "text": [
        "[]\n",
        "[]"
       ]
      },
      {
       "output_type": "stream",
       "stream": "stdout",
       "text": [
        "\n",
        "[]"
       ]
      },
      {
       "output_type": "stream",
       "stream": "stdout",
       "text": [
        "\n",
        "[]"
       ]
      },
      {
       "output_type": "stream",
       "stream": "stdout",
       "text": [
        "\n",
        "[]"
       ]
      },
      {
       "output_type": "stream",
       "stream": "stdout",
       "text": [
        "\n",
        "{"
       ]
      },
      {
       "output_type": "stream",
       "stream": "stdout",
       "text": [
        "'errors': [{'attributes': {'device_parameters': '(not (some (check % {}) '\n",
        "                                                 'schemas))',\n",
        "                            'protocol_parameters': '(not (some (check % '\n",
        "                                                   '{}) schemas))'},\n",
        "             'named_links': {'input_sources': {'input 1': '(not '\n",
        "                                                          '(instance? '\n",
        "                                                          'java.lang.String '\n",
        "                                                          'a-clojure.lang.PersistentArrayMap))',\n",
        "                                               'input 2': '(not '\n",
        "                                                          '(instance? '\n",
        "                                                          'java.lang.String '\n",
        "                                                          'a-clojure.lang.PersistentArrayMap))'}}},\n",
        "            {'attributes': {'device_parameters': '(not (some (check % {}) '\n",
        "                                                 'schemas))',\n",
        "                            'protocol_parameters': '(not (some (check % '\n",
        "                                                   '{}) schemas))'},\n",
        "             'named_links': {'input_sources': {'input 1': '(not '\n",
        "                                                          '(instance? '\n",
        "                                                          'java.lang.String '\n",
        "                                                          'a-clojure.lang.PersistentArrayMap))',\n",
        "                                               'input 2': '(not '\n",
        "                                                          '(instance? '\n",
        "                                                          'java.lang.String '\n",
        "                                                          'a-clojure.lang.PersistentArrayMap))'}}},\n",
        "            {'attributes': {'device_parameters': '(not (some (check % {}) '\n",
        "                                                 'schemas))',\n",
        "                            'protocol_parameters': '(not (some (check % '\n",
        "                                                   '{}) schemas))'},\n",
        "             'named_links': {'input_sources': {'input 1': '(not '\n",
        "                                                          '(instance? '\n",
        "                                                          'java.lang.String '\n",
        "                                                          'a-clojure.lang.PersistentArrayMap))',\n",
        "                                               'input 2': '(not '\n",
        "                                                          '(instance? '\n",
        "                                                          'java.lang.String '\n",
        "                                                          'a-clojure.lang.PersistentArrayMap))'}}}]}\n",
        "[]"
       ]
      },
      {
       "output_type": "stream",
       "stream": "stdout",
       "text": [
        "\n",
        "[]"
       ]
      },
      {
       "output_type": "stream",
       "stream": "stdout",
       "text": [
        "\n"
       ]
      }
     ],
     "prompt_number": 75
    },
    {
     "cell_type": "code",
     "collapsed": false,
     "input": [],
     "language": "python",
     "metadata": {},
     "outputs": []
    }
   ],
   "metadata": {}
  }
 ]
}