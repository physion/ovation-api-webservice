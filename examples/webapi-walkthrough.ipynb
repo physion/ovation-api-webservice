{
 "worksheets": [
  {
   "cells": [
    {
     "cell_type": "code",
     "execution_count": null,
     "metadata": {},
     "outputs": [],
     "input": [
      "import requests\n",
      "import os\n",
      "import datetime\n",
      "import pytz\n",
      "import json\n",
      "\n",
      "import pprint as pp\n",
      "from urllib.parse import urljoin\n",
      "from getpass import getpass"
     ],
     "language": "python",
     "prompt_number": 1
    },
    {
     "cell_type": "markdown",
     "metadata": {},
     "source": [
      "The Ovation web API is a RESTful API that you use with any HTTP client. In this tutorial, we'll use the Python `requests` package."
     ]
    },
    {
     "cell_type": "heading",
     "metadata": {},
     "level": 3,
     "source": [
      "Utilities"
     ]
    },
    {
     "cell_type": "code",
     "execution_count": null,
     "metadata": {},
     "outputs": [],
     "input": [
      "API_HOST = 'https://api-dev.ovation.io/'\n",
      "def make_url(path, host=API_HOST): #'https://api-dev.ovation.io/'):\n",
      "    return urljoin(host, path)"
     ],
     "language": "python",
     "prompt_number": 2
    },
    {
     "cell_type": "code",
     "execution_count": null,
     "metadata": {},
     "outputs": [
      {
       "output_type": "pyout",
       "prompt_number": 3,
       "text": [
        "'https://api-dev.ovation.io/api/v1/projects'"
       ],
       "metadata": {}
      }
     ],
     "input": [
      "make_url('/api/v1/projects')"
     ],
     "language": "python",
     "prompt_number": 3
    },
    {
     "cell_type": "heading",
     "metadata": {},
     "level": 3,
     "source": [
      "Credentials"
     ]
    },
    {
     "cell_type": "markdown",
     "metadata": {},
     "source": [
      "The API key prompt will appear **on the terminal**."
     ]
    },
    {
     "cell_type": "code",
     "execution_count": null,
     "metadata": {},
     "outputs": [],
     "input": [
      "api_key = getpass(prompt=\"API Key: \")"
     ],
     "language": "python",
     "prompt_number": 4
    },
    {
     "cell_type": "markdown",
     "metadata": {},
     "source": [
      "We create a `requests.Session` object for use with the Ovation API"
     ]
    },
    {
     "cell_type": "code",
     "execution_count": null,
     "metadata": {},
     "outputs": [],
     "input": [
      "def make_session(api_key=api_key):\n",
      "    auth_params = {'api-key' : api_key}\n",
      "    \n",
      "    api = requests.Session()\n",
      "    api.verify = True # Verify SSL certificates\n",
      "    api.headers['content-type'] = 'application/json'\n",
      "    api.params = auth_params # Send api-key with each request\n",
      "    \n",
      "    return api\n",
      "\n",
      "api = make_session(api_key)"
     ],
     "language": "python",
     "prompt_number": 5
    },
    {
     "cell_type": "heading",
     "metadata": {},
     "level": 3,
     "source": [
      "Projects"
     ]
    },
    {
     "cell_type": "code",
     "execution_count": null,
     "metadata": {},
     "outputs": [],
     "input": [
      "r = api.get(make_url('/api/v1/projects'))\n",
      "r.raise_for_status()"
     ],
     "language": "python",
     "prompt_number": 6
    },
    {
     "cell_type": "code",
     "execution_count": null,
     "metadata": {},
     "outputs": [],
     "input": [
      "projects = r.json()"
     ],
     "language": "python",
     "prompt_number": 7
    },
    {
     "cell_type": "code",
     "execution_count": null,
     "metadata": {},
     "outputs": [
      {
       "output_type": "pyout",
       "prompt_number": 8,
       "text": [
        "6"
       ],
       "metadata": {}
      }
     ],
     "input": [
      "len(projects)"
     ],
     "language": "python",
     "prompt_number": 8
    },
    {
     "cell_type": "code",
     "execution_count": null,
     "metadata": {},
     "outputs": [
      {
       "output_type": "stream",
       "stream": "stdout",
       "text": [
        "{'_id': '0f1ad537-3868-456a-805e-9b2f9cc7499a',\n",
        " '_rev': '12-8b431d7df2b4a71a84be00619a8a340e',\n",
        " 'annotations': {'keywords': {'ovation://entities/30925590-cf08-0131-805d-22000a7bab2e': [{'_id': 'keywords_b61ba6e8-58a0-4264-b226-8876bde00646',\n",
        "                                                                                           '_rev': '9-bbf1b4efaecb3b6acab89a8b17af0a48',\n",
        "                                                                                           'annotation': {'tag': 'tag1'},\n",
        "                                                                                           'annotation_type': 'keywords',\n",
        "                                                                                           'entity': 'ovation://entities/0f1ad537-3868-456a-805e-9b2f9cc7499a',\n",
        "                                                                                           'links': {'_collaboration_roots': ['0f1ad537-3868-456a-805e-9b2f9cc7499a']},\n",
        "                                                                                           'user': 'ovation://entities/30925590-cf08-0131-805d-22000a7bab2e'},\n",
        "                                                                                          {'_id': 'keywords_838585fb-9a1d-4685-985c-bf7e3286fd45',\n",
        "                                                                                           '_rev': '1-147818983e88e859b559b969da4fa892',\n",
        "                                                                                           'annotation': {':tag': 'bloop'},\n",
        "                                                                                           'annotation_type': 'keywords',\n",
        "                                                                                           'entity': 'ovation://entities/0f1ad537-3868-456a-805e-9b2f9cc7499a',\n",
        "                                                                                           'links': {'_collaboration_roots': ['0f1ad537-3868-456a-805e-9b2f9cc7499a']},\n",
        "                                                                                           'user': 'ovation://entities/30925590-cf08-0131-805d-22000a7bab2e'},\n",
        "                                                                                          {'_id': 'keywords_9b111f8f-678c-45e2-b032-a1a2bea15916',\n",
        "                                                                                           '_rev': '8-231cbd3d04e23640ce92582ebe93d186',\n",
        "                                                                                           'annotation': {'tag': 'tag2'},\n",
        "                                                                                           'annotation_type': 'keywords',\n",
        "                                                                                           'entity': 'ovation://entities/0f1ad537-3868-456a-805e-9b2f9cc7499a',\n",
        "                                                                                           'links': {'_collaboration_roots': ['0f1ad537-3868-456a-805e-9b2f9cc7499a']},\n",
        "                                                                                           'user': 'ovation://entities/30925590-cf08-0131-805d-22000a7bab2e'}]},\n",
        "                 'notes': {'ovation://entities/30925590-cf08-0131-805d-22000a7bab2e': [{'_id': 'notes_2ff62ac4-add3-48e3-ac55-2ba66402fee8',\n",
        "                                                                                        '_rev': '6-8c452c59b011847edb28dea230d08344',\n",
        "                                                                                        'annotation': {'text': 'Hi '\n",
        "                                                                                                               'Adam',\n",
        "                                                                                                       'time_stamp': '2014-10-03T14:38:17.970-04:00'},\n",
        "                                                                                        'annotation_type': 'notes',\n",
        "                                                                                        'entity': 'ovation://entities/0f1ad537-3868-456a-805e-9b2f9cc7499a',\n",
        "                                                                                        'links': {'_collaboration_roots': ['0f1ad537-3868-456a-805e-9b2f9cc7499a']},\n",
        "                                                                                        'user': 'ovation://entities/30925590-cf08-0131-805d-22000a7bab2e'},\n",
        "                                                                                       {'_id': 'notes_d3f071fa-3946-4daa-9c75-41fbadf4f618',\n",
        "                                                                                        '_rev': '6-8c452c59b011847edb28dea230d08344',\n",
        "                                                                                        'annotation': {'text': 'Hi '\n",
        "                                                                                                               'Adam',\n",
        "                                                                                                       'time_stamp': '2014-10-03T14:38:17.970-04:00'},\n",
        "                                                                                        'annotation_type': 'notes',\n",
        "                                                                                        'entity': 'ovation://entities/0f1ad537-3868-456a-805e-9b2f9cc7499a',\n",
        "                                                                                        'links': {'_collaboration_roots': ['0f1ad537-3868-456a-805e-9b2f9cc7499a']},\n",
        "                                                                                        'user': 'ovation://entities/30925590-cf08-0131-805d-22000a7bab2e'}]},\n",
        "                 'properties': {'ovation://entities/30925590-cf08-0131-805d-22000a7bab2e': [{'_id': 'properties_4c0698bd-dfa3-41c8-be66-b734ca8aa64b',\n",
        "                                                                                             '_rev': '7-f05409fde1e579131f4339d258c668c2',\n",
        "                                                                                             'annotation': {'key': 'key1',\n",
        "                                                                                                            'value': 'value1'},\n",
        "                                                                                             'annotation_type': 'properties',\n",
        "                                                                                             'entity': 'ovation://entities/0f1ad537-3868-456a-805e-9b2f9cc7499a',\n",
        "                                                                                             'links': {'_collaboration_roots': ['0f1ad537-3868-456a-805e-9b2f9cc7499a']},\n",
        "                                                                                             'user': 'ovation://entities/30925590-cf08-0131-805d-22000a7bab2e'},\n",
        "                                                                                            {'_id': 'properties_d6d092e9-010f-45da-a2fa-126777f6e2fa',\n",
        "                                                                                             '_rev': '6-6cd015f4eca4b0f1a90f1554e315d72b',\n",
        "                                                                                             'annotation': {'key': 'key2',\n",
        "                                                                                                            'value': 'value2'},\n",
        "                                                                                             'annotation_type': 'properties',\n",
        "                                                                                             'entity': 'ovation://entities/0f1ad537-3868-456a-805e-9b2f9cc7499a',\n",
        "                                                                                             'links': {'_collaboration_roots': ['0f1ad537-3868-456a-805e-9b2f9cc7499a']},\n",
        "                                                                                             'user': 'ovation://entities/30925590-cf08-0131-805d-22000a7bab2e'}]}},\n",
        " 'attributes': {},\n",
        " 'links': {'_collaboration_roots': '/api/v1/entities/0f1ad537-3868-456a-805e-9b2f9cc7499a/links/_collaboration_roots',\n",
        "           'analysis_records': '/api/v1/entities/0f1ad537-3868-456a-805e-9b2f9cc7499a/links/analysis_records',\n",
        "           'experiments': '/api/v1/entities/0f1ad537-3868-456a-805e-9b2f9cc7499a/links/experiments',\n",
        "           'notes': '/api/v1/entities/0f1ad537-3868-456a-805e-9b2f9cc7499a/annotations/notes',\n",
        "           'owner': '/api/v1/entities/0f1ad537-3868-456a-805e-9b2f9cc7499a/links/owner',\n",
        "           'properties': '/api/v1/entities/0f1ad537-3868-456a-805e-9b2f9cc7499a/annotations/properties',\n",
        "           'self': '/api/v1/entities/0f1ad537-3868-456a-805e-9b2f9cc7499a',\n",
        "           'tags': '/api/v1/entities/0f1ad537-3868-456a-805e-9b2f9cc7499a/annotations/tags',\n",
        "           'test-link': '/api/v1/entities/0f1ad537-3868-456a-805e-9b2f9cc7499a/links/test-link',\n",
        "           'timeline-events': '/api/v1/entities/0f1ad537-3868-456a-805e-9b2f9cc7499a/annotations/timeline-events'},\n",
        " 'type': 'Project'}\n"
       ]
      }
     ],
     "input": [
      "pp.pprint(projects[0])"
     ],
     "language": "python",
     "prompt_number": 9
    },
    {
     "cell_type": "heading",
     "metadata": {},
     "level": 3,
     "source": [
      "Following links"
     ]
    },
    {
     "cell_type": "code",
     "execution_count": null,
     "metadata": {},
     "outputs": [],
     "input": [
      "r = api.get(make_url(projects[0]['links']['experiments']))\n",
      "r.raise_for_status()"
     ],
     "language": "python",
     "prompt_number": 10
    },
    {
     "cell_type": "code",
     "execution_count": null,
     "metadata": {},
     "outputs": [],
     "input": [
      "experiments = r.json()"
     ],
     "language": "python",
     "prompt_number": 11
    },
    {
     "cell_type": "code",
     "execution_count": null,
     "metadata": {},
     "outputs": [
      {
       "output_type": "stream",
       "stream": "stdout",
       "text": [
        "{'_id': 'a6d89990-a563-4b3e-943f-92ecbca002a0',\n",
        " '_rev': '1-db78e0aad6836f790ecd1338e72fa634',\n",
        " 'attributes': {'purpose': 'Hi Adam',\n",
        "                'start': '2014-09-25T19:39:29.997-04:00'},\n",
        " 'links': {'_collaboration_roots': '/api/v1/entities/a6d89990-a563-4b3e-943f-92ecbca002a0/links/_collaboration_roots',\n",
        "           'analysis_records': '/api/v1/entities/a6d89990-a563-4b3e-943f-92ecbca002a0/links/analysis_records',\n",
        "           'epochs': '/api/v1/entities/a6d89990-a563-4b3e-943f-92ecbca002a0/links/epochs',\n",
        "           'notes': '/api/v1/entities/a6d89990-a563-4b3e-943f-92ecbca002a0/annotations/notes',\n",
        "           'owner': '/api/v1/entities/a6d89990-a563-4b3e-943f-92ecbca002a0/links/owner',\n",
        "           'projects': '/api/v1/entities/a6d89990-a563-4b3e-943f-92ecbca002a0/links/projects',\n",
        "           'properties': '/api/v1/entities/a6d89990-a563-4b3e-943f-92ecbca002a0/annotations/properties',\n",
        "           'self': '/api/v1/entities/a6d89990-a563-4b3e-943f-92ecbca002a0',\n",
        "           'tags': '/api/v1/entities/a6d89990-a563-4b3e-943f-92ecbca002a0/annotations/tags',\n",
        "           'timeline-events': '/api/v1/entities/a6d89990-a563-4b3e-943f-92ecbca002a0/annotations/timeline-events'},\n",
        " 'named_links': {},\n",
        " 'type': 'Experiment'}\n"
       ]
      }
     ],
     "input": [
      "exp = experiments[0]\n",
      "pp.pprint(exp)"
     ],
     "language": "python",
     "prompt_number": 12
    },
    {
     "cell_type": "code",
     "execution_count": null,
     "metadata": {},
     "outputs": [
      {
       "ename": "KeyError",
       "evalue": "'epoch_groups'",
       "output_type": "pyerr",
       "traceback": [
        "\u001b[0;31m---------------------------------------------------------------------------\u001b[0m\n\u001b[0;31mKeyError\u001b[0m                                  Traceback (most recent call last)",
        "\u001b[0;32m<ipython-input-15-96963deacbb8>\u001b[0m in \u001b[0;36m<module>\u001b[0;34m()\u001b[0m\n\u001b[1;32m      3\u001b[0m     \u001b[0mexperiments\u001b[0m \u001b[0;34m=\u001b[0m \u001b[0mapi\u001b[0m\u001b[0;34m.\u001b[0m\u001b[0mget\u001b[0m\u001b[0;34m(\u001b[0m\u001b[0mmake_url\u001b[0m\u001b[0;34m(\u001b[0m\u001b[0mp\u001b[0m\u001b[0;34m[\u001b[0m\u001b[0;34m'links'\u001b[0m\u001b[0;34m]\u001b[0m\u001b[0;34m[\u001b[0m\u001b[0;34m'experiments'\u001b[0m\u001b[0;34m]\u001b[0m\u001b[0;34m)\u001b[0m\u001b[0;34m)\u001b[0m\u001b[0;34m.\u001b[0m\u001b[0mjson\u001b[0m\u001b[0;34m(\u001b[0m\u001b[0;34m)\u001b[0m\u001b[0;34m\u001b[0m\u001b[0m\n\u001b[1;32m      4\u001b[0m     \u001b[0;32mfor\u001b[0m \u001b[0mexp\u001b[0m \u001b[0;32min\u001b[0m \u001b[0mexperiments\u001b[0m\u001b[0;34m:\u001b[0m\u001b[0;34m\u001b[0m\u001b[0m\n\u001b[0;32m----> 5\u001b[0;31m         \u001b[0mpp\u001b[0m\u001b[0;34m.\u001b[0m\u001b[0mpprint\u001b[0m\u001b[0;34m(\u001b[0m\u001b[0mapi\u001b[0m\u001b[0;34m.\u001b[0m\u001b[0mget\u001b[0m\u001b[0;34m(\u001b[0m\u001b[0mmake_url\u001b[0m\u001b[0;34m(\u001b[0m\u001b[0mexp\u001b[0m\u001b[0;34m[\u001b[0m\u001b[0;34m'links'\u001b[0m\u001b[0;34m]\u001b[0m\u001b[0;34m[\u001b[0m\u001b[0;34m'epoch_groups'\u001b[0m\u001b[0;34m]\u001b[0m\u001b[0;34m)\u001b[0m\u001b[0;34m)\u001b[0m\u001b[0;34m.\u001b[0m\u001b[0mjson\u001b[0m\u001b[0;34m(\u001b[0m\u001b[0;34m)\u001b[0m\u001b[0;34m)\u001b[0m\u001b[0;34m\u001b[0m\u001b[0m\n\u001b[0m\u001b[1;32m      6\u001b[0m         \u001b[0mpp\u001b[0m\u001b[0;34m.\u001b[0m\u001b[0mpprint\u001b[0m\u001b[0;34m(\u001b[0m\u001b[0mapi\u001b[0m\u001b[0;34m.\u001b[0m\u001b[0mget\u001b[0m\u001b[0;34m(\u001b[0m\u001b[0mmake_url\u001b[0m\u001b[0;34m(\u001b[0m\u001b[0mexp\u001b[0m\u001b[0;34m[\u001b[0m\u001b[0;34m'links'\u001b[0m\u001b[0;34m]\u001b[0m\u001b[0;34m[\u001b[0m\u001b[0;34m'epochs'\u001b[0m\u001b[0;34m]\u001b[0m\u001b[0;34m)\u001b[0m\u001b[0;34m)\u001b[0m\u001b[0;34m.\u001b[0m\u001b[0mjson\u001b[0m\u001b[0;34m(\u001b[0m\u001b[0;34m)\u001b[0m\u001b[0;34m)\u001b[0m\u001b[0;34m\u001b[0m\u001b[0m\n",
        "\u001b[0;31mKeyError\u001b[0m: 'epoch_groups'"
       ]
      }
     ],
     "input": [
      "for p in projects:\n",
      "    experiments = api.get(make_url(p['links']['experiments'])).json()\n",
      "    for exp in experiments:\n",
      "        pp.pprint(api.get(make_url(exp['links']['epoch_groups'])).json())\n",
      "        pp.pprint(api.get(make_url(exp['links']['epochs'])).json())"
     ],
     "language": "python",
     "prompt_number": 15
    },
    {
     "cell_type": "heading",
     "metadata": {},
     "level": 3,
     "source": [
      "Adding analysis record"
     ]
    },
    {
     "cell_type": "code",
     "execution_count": null,
     "metadata": {},
     "outputs": [
      {
       "output_type": "pyout",
       "prompt_number": 92,
       "text": [
        "[{'_id': '0fd8fd6e-d996-4595-a547-745e949c98af',\n",
        "  'links': {'self': '/api/v1/entities/0fd8fd6e-d996-4595-a547-745e949c98af',\n",
        "   'parent': '/api/v1/entities/0fd8fd6e-d996-4595-a547-745e949c98af/links/parent',\n",
        "   'owner': '/api/v1/entities/0fd8fd6e-d996-4595-a547-745e949c98af/links/owner',\n",
        "   '_collaboration_roots': '/api/v1/entities/0fd8fd6e-d996-4595-a547-745e949c98af/links/_collaboration_roots'},\n",
        "  'attributes': {'name': 'Tutorial Analysis',\n",
        "   'date': '2014-10-10T13:32:26.077167-04:00'},\n",
        "  'type': 'AnalysisRecord'}]"
       ],
       "metadata": {}
      }
     ],
     "input": [
      "# TODO we should define the types somewhere\n",
      "est = pytz.timezone('US/Eastern')\n",
      "d = datetime.datetime.now(est)\n",
      "\n",
      "new_record = {'type': 'AnalysisRecord',\n",
      "              'attributes': {'name': 'Tutorial Analysis',\n",
      "                              'date': d.isoformat()},\n",
      "              'links': {'parent': [{'target_id': projects[0]['_id'],\n",
      "                                    'inverse_rel': 'analysis_records'}]}\n",
      "              }\n",
      "\n",
      "r = api.post(make_url('/api/v1/entities'), data=json.dumps(new_record))\n",
      "r.json()"
     ],
     "language": "python",
     "prompt_number": 92
    },
    {
     "cell_type": "code",
     "execution_count": null,
     "metadata": {},
     "outputs": [],
     "input": [
      "ar = r.json()[0]"
     ],
     "language": "python",
     "prompt_number": 93
    },
    {
     "cell_type": "code",
     "execution_count": null,
     "metadata": {},
     "outputs": [
      {
       "output_type": "pyout",
       "prompt_number": 66,
       "text": [
        "201"
       ],
       "metadata": {}
      }
     ],
     "input": [
      "r.status_code"
     ],
     "language": "python",
     "prompt_number": 66
    },
    {
     "cell_type": "markdown",
     "metadata": {},
     "source": [
      "Refresh projects so that we get the up-to-date links"
     ]
    },
    {
     "cell_type": "code",
     "execution_count": null,
     "metadata": {},
     "outputs": [
      {
       "output_type": "pyout",
       "prompt_number": 77,
       "text": [
        "'/api/v1/entities/7cebfee3-ee3f-4f34-a0dc-e4e7f79a18a6'"
       ],
       "metadata": {}
      }
     ],
     "input": [
      "projects[0]['links']['self']"
     ],
     "language": "python",
     "prompt_number": 77
    },
    {
     "cell_type": "code",
     "execution_count": null,
     "metadata": {},
     "outputs": [],
     "input": [
      "p = api.get(make_url(projects[0]['links']['self'])).json()[0]"
     ],
     "language": "python",
     "prompt_number": 84
    },
    {
     "cell_type": "code",
     "execution_count": null,
     "metadata": {},
     "outputs": [
      {
       "output_type": "pyout",
       "prompt_number": 85,
       "text": [
        "{'_id': '7cebfee3-ee3f-4f34-a0dc-e4e7f79a18a6',\n",
        " 'named_links': {},\n",
        " 'attributes': {'name': 'My First Project',\n",
        "  'purpose': 'First Project',\n",
        "  'start': '2014-09-25T22:18:19.724-04:00'},\n",
        " 'type': 'Project',\n",
        " 'links': {'experiments': '/api/v1/entities/7cebfee3-ee3f-4f34-a0dc-e4e7f79a18a6/links/experiments',\n",
        "  'self': '/api/v1/entities/7cebfee3-ee3f-4f34-a0dc-e4e7f79a18a6',\n",
        "  'owner': '/api/v1/entities/7cebfee3-ee3f-4f34-a0dc-e4e7f79a18a6/links/owner',\n",
        "  '_collaboration_roots': '/api/v1/entities/7cebfee3-ee3f-4f34-a0dc-e4e7f79a18a6/links/_collaboration_roots'},\n",
        " '_rev': '3-b0ede23a375c31c56663960447319237'}"
       ],
       "metadata": {}
      }
     ],
     "input": [
      "p"
     ],
     "language": "python",
     "prompt_number": 85
    },
    {
     "cell_type": "code",
     "execution_count": null,
     "metadata": {},
     "outputs": [
      {
       "output_type": "pyout",
       "prompt_number": 94,
       "text": [
        "[{'_id': '0fd8fd6e-d996-4595-a547-745e949c98af',\n",
        "  'links': {'self': '/api/v1/entities/0fd8fd6e-d996-4595-a547-745e949c98af',\n",
        "   'parent': '/api/v1/entities/0fd8fd6e-d996-4595-a547-745e949c98af/links/parent',\n",
        "   'owner': '/api/v1/entities/0fd8fd6e-d996-4595-a547-745e949c98af/links/owner',\n",
        "   '_collaboration_roots': '/api/v1/entities/0fd8fd6e-d996-4595-a547-745e949c98af/links/_collaboration_roots'},\n",
        "  'attributes': {'name': 'Tutorial Analysis',\n",
        "   'date': '2014-10-10T13:32:26.077167-04:00'},\n",
        "  'type': 'AnalysisRecord',\n",
        "  '_rev': '1-bd7b00dcd33ed2cb8a387745b6133896'}]"
       ],
       "metadata": {}
      }
     ],
     "input": [
      "api.get(make_url(ar['links']['self'])).json()"
     ],
     "language": "python",
     "prompt_number": 94
    },
    {
     "cell_type": "code",
     "execution_count": null,
     "metadata": {},
     "outputs": [
      {
       "output_type": "pyout",
       "prompt_number": 98,
       "text": [
        "[]"
       ],
       "metadata": {}
      }
     ],
     "input": [
      "# TODO p['links']['analysis_records']\n",
      "api.get(make_url('/api/v1/entities/{}/links/analysis_records'.format(p['_id']))).json()"
     ],
     "language": "python",
     "prompt_number": 98
    },
    {
     "cell_type": "code",
     "execution_count": null,
     "metadata": {},
     "outputs": [
      {
       "output_type": "pyout",
       "prompt_number": 96,
       "text": [
        "'7cebfee3-ee3f-4f34-a0dc-e4e7f79a18a6'"
       ],
       "metadata": {}
      }
     ],
     "input": [
      ""
     ],
     "language": "python",
     "prompt_number": 96
    }
   ]
  }
 ],
 "cells": [],
 "metadata": {
  "name": "",
  "signature": "sha256:117b4dca47091729f4148f0b0d0b156479d1e6670bdcc6d24663dcd3e803c0c1"
 },
 "nbformat": 3,
 "nbformat_minor": 0
}