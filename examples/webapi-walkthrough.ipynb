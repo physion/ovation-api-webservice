{
 "cells": [
  {
   "cell_type": "code",
   "execution_count": 189,
   "metadata": {
    "collapsed": false
   },
   "outputs": [
    {
     "name": "stdout",
     "output_type": "stream",
     "text": [
      "Pretty printing has been turned ON\n"
     ]
    }
   ],
   "source": [
    "import requests\n",
    "import datetime\n",
    "import json\n",
    "import pytz\n",
    "\n",
    "from urllib.parse import urljoin \n",
    "from getpass import getpass\n",
    "from requests.auth import HTTPBasicAuth\n",
    "from pprint import pprint"
   ]
  },
  {
   "cell_type": "code",
   "execution_count": null,
   "metadata": {
    "collapsed": true
   },
   "outputs": [],
   "source": [
    "# Turn on pretty printing\n",
    "%pprint"
   ]
  },
  {
   "cell_type": "markdown",
   "metadata": {},
   "source": [
    "The Ovation web API is a RESTful API that you use with any HTTP client. In this tutorial, we'll use the Python `requests` package."
   ]
  },
  {
   "cell_type": "markdown",
   "metadata": {},
   "source": [
    "### Utilities"
   ]
  },
  {
   "cell_type": "code",
   "execution_count": 23,
   "metadata": {
    "collapsed": true
   },
   "outputs": [],
   "source": [
    "API_HOST = 'http://127.0.0.1:3000' #'https://api-dev.ovation.io/'\n",
    "def make_url(path, host=API_HOST):\n",
    "    return urljoin(host, path)"
   ]
  },
  {
   "cell_type": "code",
   "execution_count": 14,
   "metadata": {
    "collapsed": false
   },
   "outputs": [
    {
     "data": {
      "text/plain": [
       "'http://0.0.0.0:3000/api/v1/projects'"
      ]
     },
     "execution_count": 14,
     "metadata": {},
     "output_type": "execute_result"
    }
   ],
   "source": [
    "make_url('/api/v1/projects')"
   ]
  },
  {
   "cell_type": "markdown",
   "metadata": {},
   "source": [
    "### Credentials"
   ]
  },
  {
   "cell_type": "markdown",
   "metadata": {},
   "source": [
    "Enter your Ovation API key:"
   ]
  },
  {
   "cell_type": "code",
   "execution_count": 16,
   "metadata": {
    "collapsed": false
   },
   "outputs": [
    {
     "name": "stdout",
     "output_type": "stream",
     "text": [
      "API Key: ········\n"
     ]
    }
   ],
   "source": [
    "api_key = getpass(prompt=\"API Key: \")"
   ]
  },
  {
   "cell_type": "markdown",
   "metadata": {},
   "source": [
    "We create a `requests.Session` object for use with the Ovation API"
   ]
  },
  {
   "cell_type": "code",
   "execution_count": 34,
   "metadata": {
    "collapsed": true
   },
   "outputs": [],
   "source": [
    "def make_session(api_key=api_key):\n",
    "    auth_params = {'api-key' : api_key}\n",
    "    \n",
    "    api = requests.Session()\n",
    "    api.verify = True # Verify SSL certificates\n",
    "    api.headers['content-type'] = 'application/json'\n",
    "    api.headers['authorization'] = 'Token token={}'.format(api_key)\n",
    "    \n",
    "    return api\n",
    "\n",
    "api = make_session(api_key)"
   ]
  },
  {
   "cell_type": "markdown",
   "metadata": {},
   "source": [
    "### Projects"
   ]
  },
  {
   "cell_type": "code",
   "execution_count": 77,
   "metadata": {
    "collapsed": false
   },
   "outputs": [
    {
     "data": {
      "text/plain": [
       "'http://127.0.0.1:3000/api/v1/projects'"
      ]
     },
     "execution_count": 77,
     "metadata": {},
     "output_type": "execute_result"
    }
   ],
   "source": [
    "make_url('/api/v1/projects')"
   ]
  },
  {
   "cell_type": "code",
   "execution_count": 174,
   "metadata": {
    "collapsed": false
   },
   "outputs": [],
   "source": [
    "r = api.get(make_url('/api/v1/projects'))\n",
    "r.raise_for_status()"
   ]
  },
  {
   "cell_type": "code",
   "execution_count": 175,
   "metadata": {
    "collapsed": false
   },
   "outputs": [],
   "source": [
    "projects = r.json()['projects']"
   ]
  },
  {
   "cell_type": "code",
   "execution_count": 123,
   "metadata": {
    "collapsed": false
   },
   "outputs": [
    {
     "data": {
      "text/plain": [
       "10"
      ]
     },
     "execution_count": 123,
     "metadata": {},
     "output_type": "execute_result"
    }
   ],
   "source": [
    "len(projects)"
   ]
  },
  {
   "cell_type": "code",
   "execution_count": 192,
   "metadata": {
    "collapsed": false
   },
   "outputs": [
    {
     "name": "stdout",
     "output_type": "stream",
     "text": [
      "{'_id': '52b6366a-1528-4bf9-a091-09c4e935d1cd',\n",
      " '_rev': '3-eec6d9c40436a57aca7d88e96f92cb54',\n",
      " 'api_version': 4,\n",
      " 'attributes': {'name': 'abby'},\n",
      " 'links': {'_collaboration_roots': ['52b6366a-1528-4bf9-a091-09c4e935d1cd'],\n",
      "           'analysis_records': '/api/v1/entities/52b6366a-1528-4bf9-a091-09c4e935d1cd/links/analysis_records',\n",
      "           'experiments': '/api/v1/entities/52b6366a-1528-4bf9-a091-09c4e935d1cd/links/experiments',\n",
      "           'notes': '/api/v1/entities/52b6366a-1528-4bf9-a091-09c4e935d1cd/links/notes',\n",
      "           'owner': '/api/v1/entities/52b6366a-1528-4bf9-a091-09c4e935d1cd/links/owner',\n",
      "           'properties': '/api/v1/entities/52b6366a-1528-4bf9-a091-09c4e935d1cd/links/properties',\n",
      "           'self': '/api/v1/entities/52b6366a-1528-4bf9-a091-09c4e935d1cd',\n",
      "           'sftp': '/api/v1/entities/52b6366a-1528-4bf9-a091-09c4e935d1cd/links/sftp',\n",
      "           'tags': '/api/v1/entities/52b6366a-1528-4bf9-a091-09c4e935d1cd/links/tags',\n",
      "           'timeline-events': '/api/v1/entities/52b6366a-1528-4bf9-a091-09c4e935d1cd/links/timeline-events'},\n",
      " 'named_links': {},\n",
      " 'owner': '15cab930-1e24-0131-026c-22000a977b96',\n",
      " 'type': 'Project'}\n"
     ]
    }
   ],
   "source": [
    "pprint(projects[0])"
   ]
  },
  {
   "cell_type": "code",
   "execution_count": 193,
   "metadata": {
    "collapsed": false
   },
   "outputs": [
    {
     "name": "stdout",
     "output_type": "stream",
     "text": [
      "{'_id': '647ee703-d6ee-44ba-ac9f-a9e6c87e3301',\n",
      " '_rev': '17-caee57966eb8f2cda9e68bb534ed71aa',\n",
      " 'api_version': 4,\n",
      " 'attributes': {'name': 'sftp-upload-test'},\n",
      " 'links': {'_collaboration_roots': ['52b6366a-1528-4bf9-a091-09c4e935d1cd',\n",
      "                                    '647ee703-d6ee-44ba-ac9f-a9e6c87e3301'],\n",
      "           'analysis_records': '/api/v1/entities/647ee703-d6ee-44ba-ac9f-a9e6c87e3301/links/analysis_records',\n",
      "           'experiments': '/api/v1/entities/647ee703-d6ee-44ba-ac9f-a9e6c87e3301/links/experiments',\n",
      "           'notes': '/api/v1/entities/647ee703-d6ee-44ba-ac9f-a9e6c87e3301/links/notes',\n",
      "           'owner': '/api/v1/entities/647ee703-d6ee-44ba-ac9f-a9e6c87e3301/links/owner',\n",
      "           'properties': '/api/v1/entities/647ee703-d6ee-44ba-ac9f-a9e6c87e3301/links/properties',\n",
      "           'self': '/api/v1/entities/647ee703-d6ee-44ba-ac9f-a9e6c87e3301',\n",
      "           'tags': '/api/v1/entities/647ee703-d6ee-44ba-ac9f-a9e6c87e3301/links/tags',\n",
      "           'timeline-events': '/api/v1/entities/647ee703-d6ee-44ba-ac9f-a9e6c87e3301/links/timeline-events'},\n",
      " 'named_links': {},\n",
      " 'owner': '15cab930-1e24-0131-026c-22000a977b96',\n",
      " 'type': 'Project'}\n"
     ]
    }
   ],
   "source": [
    "pprint(projects[1])"
   ]
  },
  {
   "cell_type": "markdown",
   "metadata": {},
   "source": [
    "## Creating links"
   ]
  },
  {
   "cell_type": "code",
   "execution_count": 157,
   "metadata": {
    "collapsed": false
   },
   "outputs": [
    {
     "name": "stdout",
     "output_type": "stream",
     "text": [
      "{'entities': [{'_id': '52b6366a-1528-4bf9-a091-09c4e935d1cd',\n",
      "               '_rev': '2-69dbfca3c25590f089e9bcf2c6ccedc8',\n",
      "               'api_version': 4,\n",
      "               'attributes': {'name': 'abby'},\n",
      "               'links': {'_collaboration_roots': ['52b6366a-1528-4bf9-a091-09c4e935d1cd'],\n",
      "                         'analysis_records': '/api/v1/entities/52b6366a-1528-4bf9-a091-09c4e935d1cd/links/analysis_records',\n",
      "                         'experiments': '/api/v1/entities/52b6366a-1528-4bf9-a091-09c4e935d1cd/links/experiments',\n",
      "                         'notes': '/api/v1/entities/52b6366a-1528-4bf9-a091-09c4e935d1cd/links/notes',\n",
      "                         'owner': '/api/v1/entities/52b6366a-1528-4bf9-a091-09c4e935d1cd/links/owner',\n",
      "                         'properties': '/api/v1/entities/52b6366a-1528-4bf9-a091-09c4e935d1cd/links/properties',\n",
      "                         'self': '/api/v1/entities/52b6366a-1528-4bf9-a091-09c4e935d1cd',\n",
      "                         'sftp': '/api/v1/entities/52b6366a-1528-4bf9-a091-09c4e935d1cd/links/sftp',\n",
      "                         'tags': '/api/v1/entities/52b6366a-1528-4bf9-a091-09c4e935d1cd/links/tags',\n",
      "                         'timeline-events': '/api/v1/entities/52b6366a-1528-4bf9-a091-09c4e935d1cd/links/timeline-events'},\n",
      "               'named_links': {},\n",
      "               'owner': '15cab930-1e24-0131-026c-22000a977b96',\n",
      "               'type': 'Project'},\n",
      "              {'_id': '647ee703-d6ee-44ba-ac9f-a9e6c87e3301',\n",
      "               '_rev': '16-f8b6591a6b680037253dc67a21b844f8',\n",
      "               'api_version': 4,\n",
      "               'attributes': {'name': 'sftp-upload-test'},\n",
      "               'links': {'_collaboration_roots': ['52b6366a-1528-4bf9-a091-09c4e935d1cd',\n",
      "                                                  '647ee703-d6ee-44ba-ac9f-a9e6c87e3301'],\n",
      "                         'analysis_records': '/api/v1/entities/647ee703-d6ee-44ba-ac9f-a9e6c87e3301/links/analysis_records',\n",
      "                         'experiments': '/api/v1/entities/647ee703-d6ee-44ba-ac9f-a9e6c87e3301/links/experiments',\n",
      "                         'notes': '/api/v1/entities/647ee703-d6ee-44ba-ac9f-a9e6c87e3301/links/notes',\n",
      "                         'owner': '/api/v1/entities/647ee703-d6ee-44ba-ac9f-a9e6c87e3301/links/owner',\n",
      "                         'properties': '/api/v1/entities/647ee703-d6ee-44ba-ac9f-a9e6c87e3301/links/properties',\n",
      "                         'self': '/api/v1/entities/647ee703-d6ee-44ba-ac9f-a9e6c87e3301',\n",
      "                         'tags': '/api/v1/entities/647ee703-d6ee-44ba-ac9f-a9e6c87e3301/links/tags',\n",
      "                         'timeline-events': '/api/v1/entities/647ee703-d6ee-44ba-ac9f-a9e6c87e3301/links/timeline-events'},\n",
      "               'named_links': {},\n",
      "               'owner': '15cab930-1e24-0131-026c-22000a977b96',\n",
      "               'type': 'Project'}],\n",
      " 'links': [{'_id': '52b6366a-1528-4bf9-a091-09c4e935d1cd--sftp-->647ee703-d6ee-44ba-ac9f-a9e6c87e3301',\n",
      "            'rel': 'sftp',\n",
      "            'source_id': '52b6366a-1528-4bf9-a091-09c4e935d1cd',\n",
      "            'target_id': '647ee703-d6ee-44ba-ac9f-a9e6c87e3301',\n",
      "            'user_id': '15cab930-1e24-0131-026c-22000a977b96'}]}\n"
     ]
    }
   ],
   "source": [
    "links = [\n",
    "  {\"target_id\": projects[1]['_id']}\n",
    "]\n",
    "r = api.post(make_url('/api/v1/entities/52b6366a-1528-4bf9-a091-09c4e935d1cd/links/sftp'), data=json.dumps(links))\n",
    "r.raise_for_status()\n",
    "pprint(r.json())"
   ]
  },
  {
   "cell_type": "markdown",
   "metadata": {},
   "source": [
    "### Following links"
   ]
  },
  {
   "cell_type": "code",
   "execution_count": 177,
   "metadata": {
    "collapsed": false
   },
   "outputs": [
    {
     "name": "stdout",
     "output_type": "stream",
     "text": [
      "[{'_id': '647ee703-d6ee-44ba-ac9f-a9e6c87e3301',\n",
      "  '_rev': '17-caee57966eb8f2cda9e68bb534ed71aa',\n",
      "  'api_version': 4,\n",
      "  'attributes': {'name': 'sftp-upload-test'},\n",
      "  'links': {'_collaboration_roots': ['52b6366a-1528-4bf9-a091-09c4e935d1cd',\n",
      "                                     '647ee703-d6ee-44ba-ac9f-a9e6c87e3301'],\n",
      "            'analysis_records': '/api/v1/entities/647ee703-d6ee-44ba-ac9f-a9e6c87e3301/links/analysis_records',\n",
      "            'experiments': '/api/v1/entities/647ee703-d6ee-44ba-ac9f-a9e6c87e3301/links/experiments',\n",
      "            'notes': '/api/v1/entities/647ee703-d6ee-44ba-ac9f-a9e6c87e3301/links/notes',\n",
      "            'owner': '/api/v1/entities/647ee703-d6ee-44ba-ac9f-a9e6c87e3301/links/owner',\n",
      "            'properties': '/api/v1/entities/647ee703-d6ee-44ba-ac9f-a9e6c87e3301/links/properties',\n",
      "            'self': '/api/v1/entities/647ee703-d6ee-44ba-ac9f-a9e6c87e3301',\n",
      "            'tags': '/api/v1/entities/647ee703-d6ee-44ba-ac9f-a9e6c87e3301/links/tags',\n",
      "            'timeline-events': '/api/v1/entities/647ee703-d6ee-44ba-ac9f-a9e6c87e3301/links/timeline-events'},\n",
      "  'named_links': {},\n",
      "  'owner': '15cab930-1e24-0131-026c-22000a977b96',\n",
      "  'type': 'Project'}]\n"
     ]
    }
   ],
   "source": [
    "r = api.get(make_url(projects[0]['links']['sftp']))\n",
    "r.raise_for_status()\n",
    "targets = r.json()['sftp']\n",
    "pprint(targets)"
   ]
  },
  {
   "cell_type": "markdown",
   "metadata": {},
   "source": [
    "### Adding analysis record"
   ]
  },
  {
   "cell_type": "code",
   "execution_count": 195,
   "metadata": {
    "collapsed": false
   },
   "outputs": [
    {
     "ename": "ValueError",
     "evalue": "Expecting value: line 1 column 1 (char 0)",
     "output_type": "error",
     "traceback": [
      "\u001b[0;31m---------------------------------------------------------------------------\u001b[0m",
      "\u001b[0;31mStopIteration\u001b[0m                             Traceback (most recent call last)",
      "\u001b[0;32m/Users/barry/anaconda/lib/python3.4/json/decoder.py\u001b[0m in \u001b[0;36mraw_decode\u001b[0;34m(self, s, idx)\u001b[0m\n\u001b[1;32m    358\u001b[0m         \u001b[0;32mtry\u001b[0m\u001b[0;34m:\u001b[0m\u001b[0;34m\u001b[0m\u001b[0m\n\u001b[0;32m--> 359\u001b[0;31m             \u001b[0mobj\u001b[0m\u001b[0;34m,\u001b[0m \u001b[0mend\u001b[0m \u001b[0;34m=\u001b[0m \u001b[0mself\u001b[0m\u001b[0;34m.\u001b[0m\u001b[0mscan_once\u001b[0m\u001b[0;34m(\u001b[0m\u001b[0ms\u001b[0m\u001b[0;34m,\u001b[0m \u001b[0midx\u001b[0m\u001b[0;34m)\u001b[0m\u001b[0;34m\u001b[0m\u001b[0m\n\u001b[0m\u001b[1;32m    360\u001b[0m         \u001b[0;32mexcept\u001b[0m \u001b[0mStopIteration\u001b[0m \u001b[0;32mas\u001b[0m \u001b[0merr\u001b[0m\u001b[0;34m:\u001b[0m\u001b[0;34m\u001b[0m\u001b[0m\n",
      "\u001b[0;31mStopIteration\u001b[0m: 0",
      "\nDuring handling of the above exception, another exception occurred:\n",
      "\u001b[0;31mValueError\u001b[0m                                Traceback (most recent call last)",
      "\u001b[0;32m<ipython-input-195-d17bda16b36e>\u001b[0m in \u001b[0;36m<module>\u001b[0;34m()\u001b[0m\n\u001b[1;32m     16\u001b[0m \u001b[0;34m\u001b[0m\u001b[0m\n\u001b[1;32m     17\u001b[0m \u001b[0mr\u001b[0m \u001b[0;34m=\u001b[0m \u001b[0mapi\u001b[0m\u001b[0;34m.\u001b[0m\u001b[0mpost\u001b[0m\u001b[0;34m(\u001b[0m\u001b[0mmake_url\u001b[0m\u001b[0;34m(\u001b[0m\u001b[0;34m'/api/v1/analysis_records'\u001b[0m\u001b[0;34m)\u001b[0m\u001b[0;34m,\u001b[0m \u001b[0mdata\u001b[0m\u001b[0;34m=\u001b[0m\u001b[0mjson\u001b[0m\u001b[0;34m.\u001b[0m\u001b[0mdumps\u001b[0m\u001b[0;34m(\u001b[0m\u001b[0mnew_record\u001b[0m\u001b[0;34m)\u001b[0m\u001b[0;34m)\u001b[0m\u001b[0;34m\u001b[0m\u001b[0m\n\u001b[0;32m---> 18\u001b[0;31m \u001b[0mpprint\u001b[0m\u001b[0;34m(\u001b[0m\u001b[0mr\u001b[0m\u001b[0;34m.\u001b[0m\u001b[0mjson\u001b[0m\u001b[0;34m(\u001b[0m\u001b[0;34m)\u001b[0m\u001b[0;34m)\u001b[0m\u001b[0;34m\u001b[0m\u001b[0m\n\u001b[0m",
      "\u001b[0;32m/Users/barry/anaconda/lib/python3.4/site-packages/requests/models.py\u001b[0m in \u001b[0;36mjson\u001b[0;34m(self, **kwargs)\u001b[0m\n\u001b[1;32m    817\u001b[0m                     \u001b[0;31m# used.\u001b[0m\u001b[0;34m\u001b[0m\u001b[0;34m\u001b[0m\u001b[0m\n\u001b[1;32m    818\u001b[0m                     \u001b[0;32mpass\u001b[0m\u001b[0;34m\u001b[0m\u001b[0m\n\u001b[0;32m--> 819\u001b[0;31m         \u001b[0;32mreturn\u001b[0m \u001b[0mjson\u001b[0m\u001b[0;34m.\u001b[0m\u001b[0mloads\u001b[0m\u001b[0;34m(\u001b[0m\u001b[0mself\u001b[0m\u001b[0;34m.\u001b[0m\u001b[0mtext\u001b[0m\u001b[0;34m,\u001b[0m \u001b[0;34m**\u001b[0m\u001b[0mkwargs\u001b[0m\u001b[0;34m)\u001b[0m\u001b[0;34m\u001b[0m\u001b[0m\n\u001b[0m\u001b[1;32m    820\u001b[0m \u001b[0;34m\u001b[0m\u001b[0m\n\u001b[1;32m    821\u001b[0m     \u001b[0;34m@\u001b[0m\u001b[0mproperty\u001b[0m\u001b[0;34m\u001b[0m\u001b[0m\n",
      "\u001b[0;32m/Users/barry/anaconda/lib/python3.4/json/__init__.py\u001b[0m in \u001b[0;36mloads\u001b[0;34m(s, encoding, cls, object_hook, parse_float, parse_int, parse_constant, object_pairs_hook, **kw)\u001b[0m\n\u001b[1;32m    316\u001b[0m             \u001b[0mparse_int\u001b[0m \u001b[0;32mis\u001b[0m \u001b[0;32mNone\u001b[0m \u001b[0;32mand\u001b[0m \u001b[0mparse_float\u001b[0m \u001b[0;32mis\u001b[0m \u001b[0;32mNone\u001b[0m \u001b[0;32mand\u001b[0m\u001b[0;34m\u001b[0m\u001b[0m\n\u001b[1;32m    317\u001b[0m             parse_constant is None and object_pairs_hook is None and not kw):\n\u001b[0;32m--> 318\u001b[0;31m         \u001b[0;32mreturn\u001b[0m \u001b[0m_default_decoder\u001b[0m\u001b[0;34m.\u001b[0m\u001b[0mdecode\u001b[0m\u001b[0;34m(\u001b[0m\u001b[0ms\u001b[0m\u001b[0;34m)\u001b[0m\u001b[0;34m\u001b[0m\u001b[0m\n\u001b[0m\u001b[1;32m    319\u001b[0m     \u001b[0;32mif\u001b[0m \u001b[0mcls\u001b[0m \u001b[0;32mis\u001b[0m \u001b[0;32mNone\u001b[0m\u001b[0;34m:\u001b[0m\u001b[0;34m\u001b[0m\u001b[0m\n\u001b[1;32m    320\u001b[0m         \u001b[0mcls\u001b[0m \u001b[0;34m=\u001b[0m \u001b[0mJSONDecoder\u001b[0m\u001b[0;34m\u001b[0m\u001b[0m\n",
      "\u001b[0;32m/Users/barry/anaconda/lib/python3.4/json/decoder.py\u001b[0m in \u001b[0;36mdecode\u001b[0;34m(self, s, _w)\u001b[0m\n\u001b[1;32m    341\u001b[0m \u001b[0;34m\u001b[0m\u001b[0m\n\u001b[1;32m    342\u001b[0m         \"\"\"\n\u001b[0;32m--> 343\u001b[0;31m         \u001b[0mobj\u001b[0m\u001b[0;34m,\u001b[0m \u001b[0mend\u001b[0m \u001b[0;34m=\u001b[0m \u001b[0mself\u001b[0m\u001b[0;34m.\u001b[0m\u001b[0mraw_decode\u001b[0m\u001b[0;34m(\u001b[0m\u001b[0ms\u001b[0m\u001b[0;34m,\u001b[0m \u001b[0midx\u001b[0m\u001b[0;34m=\u001b[0m\u001b[0m_w\u001b[0m\u001b[0;34m(\u001b[0m\u001b[0ms\u001b[0m\u001b[0;34m,\u001b[0m \u001b[0;36m0\u001b[0m\u001b[0;34m)\u001b[0m\u001b[0;34m.\u001b[0m\u001b[0mend\u001b[0m\u001b[0;34m(\u001b[0m\u001b[0;34m)\u001b[0m\u001b[0;34m)\u001b[0m\u001b[0;34m\u001b[0m\u001b[0m\n\u001b[0m\u001b[1;32m    344\u001b[0m         \u001b[0mend\u001b[0m \u001b[0;34m=\u001b[0m \u001b[0m_w\u001b[0m\u001b[0;34m(\u001b[0m\u001b[0ms\u001b[0m\u001b[0;34m,\u001b[0m \u001b[0mend\u001b[0m\u001b[0;34m)\u001b[0m\u001b[0;34m.\u001b[0m\u001b[0mend\u001b[0m\u001b[0;34m(\u001b[0m\u001b[0;34m)\u001b[0m\u001b[0;34m\u001b[0m\u001b[0m\n\u001b[1;32m    345\u001b[0m         \u001b[0;32mif\u001b[0m \u001b[0mend\u001b[0m \u001b[0;34m!=\u001b[0m \u001b[0mlen\u001b[0m\u001b[0;34m(\u001b[0m\u001b[0ms\u001b[0m\u001b[0;34m)\u001b[0m\u001b[0;34m:\u001b[0m\u001b[0;34m\u001b[0m\u001b[0m\n",
      "\u001b[0;32m/Users/barry/anaconda/lib/python3.4/json/decoder.py\u001b[0m in \u001b[0;36mraw_decode\u001b[0;34m(self, s, idx)\u001b[0m\n\u001b[1;32m    359\u001b[0m             \u001b[0mobj\u001b[0m\u001b[0;34m,\u001b[0m \u001b[0mend\u001b[0m \u001b[0;34m=\u001b[0m \u001b[0mself\u001b[0m\u001b[0;34m.\u001b[0m\u001b[0mscan_once\u001b[0m\u001b[0;34m(\u001b[0m\u001b[0ms\u001b[0m\u001b[0;34m,\u001b[0m \u001b[0midx\u001b[0m\u001b[0;34m)\u001b[0m\u001b[0;34m\u001b[0m\u001b[0m\n\u001b[1;32m    360\u001b[0m         \u001b[0;32mexcept\u001b[0m \u001b[0mStopIteration\u001b[0m \u001b[0;32mas\u001b[0m \u001b[0merr\u001b[0m\u001b[0;34m:\u001b[0m\u001b[0;34m\u001b[0m\u001b[0m\n\u001b[0;32m--> 361\u001b[0;31m             \u001b[0;32mraise\u001b[0m \u001b[0mValueError\u001b[0m\u001b[0;34m(\u001b[0m\u001b[0merrmsg\u001b[0m\u001b[0;34m(\u001b[0m\u001b[0;34m\"Expecting value\"\u001b[0m\u001b[0;34m,\u001b[0m \u001b[0ms\u001b[0m\u001b[0;34m,\u001b[0m \u001b[0merr\u001b[0m\u001b[0;34m.\u001b[0m\u001b[0mvalue\u001b[0m\u001b[0;34m)\u001b[0m\u001b[0;34m)\u001b[0m \u001b[0;32mfrom\u001b[0m \u001b[0;32mNone\u001b[0m\u001b[0;34m\u001b[0m\u001b[0m\n\u001b[0m\u001b[1;32m    362\u001b[0m         \u001b[0;32mreturn\u001b[0m \u001b[0mobj\u001b[0m\u001b[0;34m,\u001b[0m \u001b[0mend\u001b[0m\u001b[0;34m\u001b[0m\u001b[0m\n",
      "\u001b[0;31mValueError\u001b[0m: Expecting value: line 1 column 1 (char 0)"
     ]
    }
   ],
   "source": [
    "# Attributes of the analysis -- we'll fill these in after creation\n",
    "est = pytz.timezone('US/Eastern')\n",
    "d = datetime.datetime.now(est)\n",
    "attributes = {'name': 'Tutorial Analysis',\n",
    "              'date': d.isoformat()}\n",
    "\n",
    "# Analysis parameters —- what's needed to recreate the analysis. This can be anything, but you may want to include\n",
    "# code repository (and revision), algorithm parameters, etc.\n",
    "parameters = {'code': 'https://github.com/physion/ovation-python',\n",
    "             'revision': 'c62e11e', # e.g. Git hash\n",
    "              'algorithm parameters' : {'param1': 1}}\n",
    "\n",
    "new_record = {'parameters': parameters,\n",
    "             'inputs': [],\n",
    "             'outputs': []}\n",
    "\n",
    "r = api.post(make_url('/api/v1/analysis_records'), data=json.dumps(new_record))\n",
    "pprint(r.json())"
   ]
  },
  {
   "cell_type": "code",
   "execution_count": null,
   "metadata": {
    "collapsed": true
   },
   "outputs": [],
   "source": []
  },
  {
   "cell_type": "code",
   "execution_count": 93,
   "metadata": {
    "collapsed": true
   },
   "outputs": [],
   "source": [
    "ar = r.json()[0]"
   ]
  },
  {
   "cell_type": "code",
   "execution_count": 66,
   "metadata": {
    "collapsed": false
   },
   "outputs": [
    {
     "data": {
      "text/plain": [
       "201"
      ]
     },
     "execution_count": 66,
     "metadata": {},
     "output_type": "execute_result"
    }
   ],
   "source": [
    "r.status_code"
   ]
  },
  {
   "cell_type": "markdown",
   "metadata": {},
   "source": [
    "Refresh projects so that we get the up-to-date links"
   ]
  },
  {
   "cell_type": "code",
   "execution_count": 77,
   "metadata": {
    "collapsed": false
   },
   "outputs": [
    {
     "data": {
      "text/plain": [
       "'/api/v1/entities/7cebfee3-ee3f-4f34-a0dc-e4e7f79a18a6'"
      ]
     },
     "execution_count": 77,
     "metadata": {},
     "output_type": "execute_result"
    }
   ],
   "source": [
    "projects[0]['links']['self']"
   ]
  },
  {
   "cell_type": "code",
   "execution_count": 84,
   "metadata": {
    "collapsed": true
   },
   "outputs": [],
   "source": [
    "p = api.get(make_url(projects[0]['links']['self'])).json()['entity']"
   ]
  },
  {
   "cell_type": "code",
   "execution_count": 85,
   "metadata": {
    "collapsed": false
   },
   "outputs": [
    {
     "data": {
      "text/plain": [
       "{'_id': '7cebfee3-ee3f-4f34-a0dc-e4e7f79a18a6',\n",
       " 'named_links': {},\n",
       " 'attributes': {'name': 'My First Project',\n",
       "  'purpose': 'First Project',\n",
       "  'start': '2014-09-25T22:18:19.724-04:00'},\n",
       " 'type': 'Project',\n",
       " 'links': {'experiments': '/api/v1/entities/7cebfee3-ee3f-4f34-a0dc-e4e7f79a18a6/links/experiments',\n",
       "  'self': '/api/v1/entities/7cebfee3-ee3f-4f34-a0dc-e4e7f79a18a6',\n",
       "  'owner': '/api/v1/entities/7cebfee3-ee3f-4f34-a0dc-e4e7f79a18a6/links/owner',\n",
       "  '_collaboration_roots': '/api/v1/entities/7cebfee3-ee3f-4f34-a0dc-e4e7f79a18a6/links/_collaboration_roots'},\n",
       " '_rev': '3-b0ede23a375c31c56663960447319237'}"
      ]
     },
     "execution_count": 85,
     "metadata": {},
     "output_type": "execute_result"
    }
   ],
   "source": [
    "p"
   ]
  },
  {
   "cell_type": "code",
   "execution_count": 94,
   "metadata": {
    "collapsed": false
   },
   "outputs": [
    {
     "data": {
      "text/plain": [
       "[{'_id': '0fd8fd6e-d996-4595-a547-745e949c98af',\n",
       "  'links': {'self': '/api/v1/entities/0fd8fd6e-d996-4595-a547-745e949c98af',\n",
       "   'parent': '/api/v1/entities/0fd8fd6e-d996-4595-a547-745e949c98af/links/parent',\n",
       "   'owner': '/api/v1/entities/0fd8fd6e-d996-4595-a547-745e949c98af/links/owner',\n",
       "   '_collaboration_roots': '/api/v1/entities/0fd8fd6e-d996-4595-a547-745e949c98af/links/_collaboration_roots'},\n",
       "  'attributes': {'name': 'Tutorial Analysis',\n",
       "   'date': '2014-10-10T13:32:26.077167-04:00'},\n",
       "  'type': 'AnalysisRecord',\n",
       "  '_rev': '1-bd7b00dcd33ed2cb8a387745b6133896'}]"
      ]
     },
     "execution_count": 94,
     "metadata": {},
     "output_type": "execute_result"
    }
   ],
   "source": [
    "api.get(make_url(ar['links']['self'])).json()"
   ]
  },
  {
   "cell_type": "code",
   "execution_count": 98,
   "metadata": {
    "collapsed": false
   },
   "outputs": [
    {
     "data": {
      "text/plain": [
       "[]"
      ]
     },
     "execution_count": 98,
     "metadata": {},
     "output_type": "execute_result"
    }
   ],
   "source": [
    "# TODO p['links']['analysis_records']\n",
    "api.get(make_url('/api/v1/entities/{}/links/analysis_records'.format(p['_id']))).json()"
   ]
  },
  {
   "cell_type": "code",
   "execution_count": 96,
   "metadata": {
    "collapsed": false
   },
   "outputs": [
    {
     "data": {
      "text/plain": [
       "'7cebfee3-ee3f-4f34-a0dc-e4e7f79a18a6'"
      ]
     },
     "execution_count": 96,
     "metadata": {},
     "output_type": "execute_result"
    }
   ],
   "source": []
  }
 ],
 "metadata": {
  "kernelspec": {
   "display_name": "Python 3",
   "language": "python",
   "name": "python3"
  },
  "language_info": {
   "codemirror_mode": {
    "name": "ipython",
    "version": 3
   },
   "file_extension": ".py",
   "mimetype": "text/x-python",
   "name": "python",
   "nbconvert_exporter": "python",
   "pygments_lexer": "ipython3",
   "version": "3.4.3"
  }
 },
 "nbformat": 4,
 "nbformat_minor": 0
}
