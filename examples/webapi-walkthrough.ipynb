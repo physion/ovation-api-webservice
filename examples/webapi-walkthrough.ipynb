{
 "cells": [
  {
   "cell_type": "code",
   "execution_count": 1,
   "metadata": {
    "collapsed": true
   },
   "outputs": [],
   "source": [
    "import requests\n",
    "import datetime\n",
    "import json\n",
    "import pytz\n",
    "\n",
    "from urllib.parse import urljoin \n",
    "from getpass import getpass\n",
    "from requests.auth import HTTPBasicAuth\n",
    "from pprint import pprint"
   ]
  },
  {
   "cell_type": "markdown",
   "metadata": {},
   "source": [
    "The Ovation web API is a RESTful API that you use with any HTTP client. In this tutorial, we'll use the Python `requests` package."
   ]
  },
  {
   "cell_type": "markdown",
   "metadata": {},
   "source": [
    "### Utilities"
   ]
  },
  {
   "cell_type": "code",
   "execution_count": 2,
   "metadata": {
    "collapsed": true
   },
   "outputs": [],
   "source": [
    "API_HOST = 'https://api-dev.ovation.io/' #'http://127.0.0.1:3000'\n",
    "def make_url(path, host=API_HOST):\n",
    "    return urljoin(host, path)"
   ]
  },
  {
   "cell_type": "code",
   "execution_count": 3,
   "metadata": {
    "collapsed": false
   },
   "outputs": [
    {
     "data": {
      "text/plain": [
       "'https://api-dev.ovation.io/api/v1/projects'"
      ]
     },
     "execution_count": 3,
     "metadata": {},
     "output_type": "execute_result"
    }
   ],
   "source": [
    "make_url('/api/v1/projects')"
   ]
  },
  {
   "cell_type": "markdown",
   "metadata": {},
   "source": [
    "### Credentials"
   ]
  },
  {
   "cell_type": "markdown",
   "metadata": {},
   "source": [
    "Enter your Ovation API key:"
   ]
  },
  {
   "cell_type": "code",
   "execution_count": 4,
   "metadata": {
    "collapsed": false
   },
   "outputs": [
    {
     "name": "stdout",
     "output_type": "stream",
     "text": [
      "API Key: ········\n"
     ]
    }
   ],
   "source": [
    "api_key = getpass(prompt=\"API Key: \")"
   ]
  },
  {
   "cell_type": "markdown",
   "metadata": {},
   "source": [
    "We create a `requests.Session` object for use with the Ovation API"
   ]
  },
  {
   "cell_type": "code",
   "execution_count": 5,
   "metadata": {
    "collapsed": true
   },
   "outputs": [],
   "source": [
    "def make_session(api_key=api_key):\n",
    "    \n",
    "    api = requests.Session()\n",
    "    api.verify = True # Verify SSL certificates\n",
    "    api.headers['content-type'] = 'application/json'\n",
    "    api.headers['authorization'] = 'Bearer {}'.format(api_key)\n",
    "    \n",
    "    return api\n",
    "\n",
    "api = make_session(api_key)"
   ]
  },
  {
   "cell_type": "markdown",
   "metadata": {},
   "source": [
    "### Projects"
   ]
  },
  {
   "cell_type": "code",
   "execution_count": 6,
   "metadata": {
    "collapsed": false
   },
   "outputs": [
    {
     "data": {
      "text/plain": [
       "'https://api-dev.ovation.io/api/v1/projects'"
      ]
     },
     "execution_count": 6,
     "metadata": {},
     "output_type": "execute_result"
    }
   ],
   "source": [
    "make_url('/api/v1/projects')"
   ]
  },
  {
   "cell_type": "code",
   "execution_count": 7,
   "metadata": {
    "collapsed": true
   },
   "outputs": [],
   "source": [
    "r = api.get(make_url('/api/v1/projects'))\n",
    "r.raise_for_status()"
   ]
  },
  {
   "cell_type": "code",
   "execution_count": 8,
   "metadata": {
    "collapsed": true
   },
   "outputs": [],
   "source": [
    "projects = r.json()['projects']"
   ]
  },
  {
   "cell_type": "code",
   "execution_count": 9,
   "metadata": {
    "collapsed": false
   },
   "outputs": [
    {
     "data": {
      "text/plain": [
       "13"
      ]
     },
     "execution_count": 9,
     "metadata": {},
     "output_type": "execute_result"
    }
   ],
   "source": [
    "len(projects)"
   ]
  },
  {
   "cell_type": "code",
   "execution_count": 10,
   "metadata": {
    "collapsed": false
   },
   "outputs": [
    {
     "name": "stdout",
     "output_type": "stream",
     "text": [
      "{'_id': '3d058a54-837c-4b24-bf58-4b0bc09b4e76',\n",
      " '_rev': '3-64743c417f02ed110d2dc437189757ec',\n",
      " 'api_version': 4,\n",
      " 'attributes': {'comment': 'from-api!', 'name': 'demo-patient-1'},\n",
      " 'links': {'_collaboration_roots': [],\n",
      "           'files': {'related': '/api/v1/projects/3d058a54-837c-4b24-bf58-4b0bc09b4e76/links/files',\n",
      "                     'self': '/api/v1/projects/3d058a54-837c-4b24-bf58-4b0bc09b4e76/links/files/relationships'},\n",
      "           'folders': {'related': '/api/v1/projects/3d058a54-837c-4b24-bf58-4b0bc09b4e76/links/folders',\n",
      "                       'self': '/api/v1/projects/3d058a54-837c-4b24-bf58-4b0bc09b4e76/links/folders/relationships'},\n",
      "           'notes': '/notes',\n",
      "           'properties': '/properties',\n",
      "           'self': '/api/v1/projects/3d058a54-837c-4b24-bf58-4b0bc09b4e76',\n",
      "           'tags': '/tags',\n",
      "           'timeline-events': '/timeline-events'},\n",
      " 'owner': '15cab930-1e24-0131-026c-22000a977b96',\n",
      " 'type': 'Project'}\n"
     ]
    }
   ],
   "source": [
    "pprint(projects[0])"
   ]
  },
  {
   "cell_type": "code",
   "execution_count": 12,
   "metadata": {
    "collapsed": false
   },
   "outputs": [
    {
     "name": "stdout",
     "output_type": "stream",
     "text": [
      "{'_id': '52b6366a-1528-4bf9-a091-09c4e935d1cd',\n",
      " '_rev': '3-eec6d9c40436a57aca7d88e96f92cb54',\n",
      " 'api_version': 4,\n",
      " 'attributes': {'name': 'abby'},\n",
      " 'links': {'_collaboration_roots': ['52b6366a-1528-4bf9-a091-09c4e935d1cd'],\n",
      "           'files': {'related': '/api/v1/projects/52b6366a-1528-4bf9-a091-09c4e935d1cd/links/files',\n",
      "                     'self': '/api/v1/projects/52b6366a-1528-4bf9-a091-09c4e935d1cd/links/files/relationships'},\n",
      "           'folders': {'related': '/api/v1/projects/52b6366a-1528-4bf9-a091-09c4e935d1cd/links/folders',\n",
      "                       'self': '/api/v1/projects/52b6366a-1528-4bf9-a091-09c4e935d1cd/links/folders/relationships'},\n",
      "           'notes': '/notes',\n",
      "           'properties': '/properties',\n",
      "           'self': '/api/v1/projects/52b6366a-1528-4bf9-a091-09c4e935d1cd',\n",
      "           'tags': '/tags',\n",
      "           'timeline-events': '/timeline-events'},\n",
      " 'owner': '15cab930-1e24-0131-026c-22000a977b96',\n",
      " 'type': 'Project'}\n"
     ]
    }
   ],
   "source": [
    "project = projects[1]\n",
    "pprint(project)"
   ]
  },
  {
   "cell_type": "markdown",
   "metadata": {},
   "source": [
    "## Add a folder"
   ]
  },
  {
   "cell_type": "markdown",
   "metadata": {},
   "source": [
    "To add a 'child' element, post a new entity descriptor to the parent. In this case, we create a `Folder` in the project by sending a `POST` to the `Project`"
   ]
  },
  {
   "cell_type": "code",
   "execution_count": 12,
   "metadata": {
    "collapsed": false
   },
   "outputs": [
    {
     "name": "stdout",
     "output_type": "stream",
     "text": [
      "{'project': {'_id': '540e18b1-8dde-4dee-ba77-097662e969e0',\n",
      "             '_rev': '1-c1ce2942b179ff126fffe0d6743a47e4',\n",
      "             'api_version': 4,\n",
      "             'attributes': {'label': 'speed test'},\n",
      "             'links': {'_collaboration_roots': [],\n",
      "                       'files': {'related': '/api/v1/projects/540e18b1-8dde-4dee-ba77-097662e969e0/links/files',\n",
      "                                 'self': '/api/v1/projects/540e18b1-8dde-4dee-ba77-097662e969e0/links/files/relationships'},\n",
      "                       'folders': {'related': '/api/v1/projects/540e18b1-8dde-4dee-ba77-097662e969e0/links/folders',\n",
      "                                   'self': '/api/v1/projects/540e18b1-8dde-4dee-ba77-097662e969e0/links/folders/relationships'},\n",
      "                       'notes': '/notes',\n",
      "                       'properties': '/properties',\n",
      "                       'self': '/api/v1/projects/540e18b1-8dde-4dee-ba77-097662e969e0',\n",
      "                       'tags': '/tags',\n",
      "                       'timeline-events': '/timeline-events'},\n",
      "             'owner': '15cab930-1e24-0131-026c-22000a977b96',\n",
      "             'type': 'Project'}}\n"
     ]
    }
   ],
   "source": [
    "pprint(api.get(make_url(\"/api/v1/projects/540e18b1-8dde-4dee-ba77-097662e969e0\")).json())"
   ]
  },
  {
   "cell_type": "code",
   "execution_count": 13,
   "metadata": {
    "collapsed": false
   },
   "outputs": [
    {
     "name": "stdout",
     "output_type": "stream",
     "text": [
      "{'entities': [{'_id': '45f34b3d-0a07-491f-91d0-a29b518e26e0',\n",
      "               'api_version': 4,\n",
      "               'attributes': {'label': 'api demo'},\n",
      "               'links': {'_collaboration_roots': ['52b6366a-1528-4bf9-a091-09c4e935d1cd']},\n",
      "               'owner': '15cab930-1e24-0131-026c-22000a977b96',\n",
      "               'type': 'Folder'}],\n",
      " 'links': [{'_id': '52b6366a-1528-4bf9-a091-09c4e935d1cd--folders-->45f34b3d-0a07-491f-91d0-a29b518e26e0',\n",
      "            'inverse_rel': 'parents',\n",
      "            'links': {'_collaboration_roots': ['52b6366a-1528-4bf9-a091-09c4e935d1cd',\n",
      "                                               '52b6366a-1528-4bf9-a091-09c4e935d1cd'],\n",
      "                      'self': '/api/v1/relationships/52b6366a-1528-4bf9-a091-09c4e935d1cd--folders-->45f34b3d-0a07-491f-91d0-a29b518e26e0'},\n",
      "            'rel': 'folders',\n",
      "            'source_id': '52b6366a-1528-4bf9-a091-09c4e935d1cd',\n",
      "            'target_id': '45f34b3d-0a07-491f-91d0-a29b518e26e0',\n",
      "            'type': 'Relation',\n",
      "            'user_id': '15cab930-1e24-0131-026c-22000a977b96'}],\n",
      " 'updates': [{'_id': '52b6366a-1528-4bf9-a091-09c4e935d1cd',\n",
      "              '_rev': '3-eec6d9c40436a57aca7d88e96f92cb54',\n",
      "              'api_version': 4,\n",
      "              'attributes': {'name': 'abby'},\n",
      "              'links': {'_collaboration_roots': ['52b6366a-1528-4bf9-a091-09c4e935d1cd'],\n",
      "                        'files': {'related': '/api/v1/projects/52b6366a-1528-4bf9-a091-09c4e935d1cd/links/files',\n",
      "                                  'self': '/api/v1/projects/52b6366a-1528-4bf9-a091-09c4e935d1cd/links/files/relationships'},\n",
      "                        'folders': {'related': '/api/v1/projects/52b6366a-1528-4bf9-a091-09c4e935d1cd/links/folders',\n",
      "                                    'self': '/api/v1/projects/52b6366a-1528-4bf9-a091-09c4e935d1cd/links/folders/relationships'},\n",
      "                        'notes': '/notes',\n",
      "                        'properties': '/properties',\n",
      "                        'self': '/api/v1/projects/52b6366a-1528-4bf9-a091-09c4e935d1cd',\n",
      "                        'tags': '/tags',\n",
      "                        'timeline-events': '/timeline-events'},\n",
      "              'owner': '15cab930-1e24-0131-026c-22000a977b96',\n",
      "              'type': 'Project'},\n",
      "             {'_id': '45f34b3d-0a07-491f-91d0-a29b518e26e0',\n",
      "              '_rev': '1-a0679a83eff4dccf1afc0e19185f0e52',\n",
      "              'api_version': 4,\n",
      "              'attributes': {'label': 'api demo'},\n",
      "              'links': {'_collaboration_roots': ['52b6366a-1528-4bf9-a091-09c4e935d1cd'],\n",
      "                        'children': {'related': '/api/v1/folders/45f34b3d-0a07-491f-91d0-a29b518e26e0/links/children',\n",
      "                                     'self': '/api/v1/folders/45f34b3d-0a07-491f-91d0-a29b518e26e0/links/children/relationships'},\n",
      "                        'files': {'related': '/api/v1/folders/45f34b3d-0a07-491f-91d0-a29b518e26e0/links/files',\n",
      "                                  'self': '/api/v1/folders/45f34b3d-0a07-491f-91d0-a29b518e26e0/links/files/relationships'},\n",
      "                        'notes': '/notes',\n",
      "                        'parents': {'related': '/api/v1/folders/45f34b3d-0a07-491f-91d0-a29b518e26e0/links/parents',\n",
      "                                    'self': '/api/v1/folders/45f34b3d-0a07-491f-91d0-a29b518e26e0/links/parents/relationships'},\n",
      "                        'properties': '/properties',\n",
      "                        'self': '/api/v1/folders/45f34b3d-0a07-491f-91d0-a29b518e26e0',\n",
      "                        'tags': '/tags',\n",
      "                        'timeline-events': '/timeline-events'},\n",
      "              'owner': '15cab930-1e24-0131-026c-22000a977b96',\n",
      "              'type': 'Folder'}]}\n"
     ]
    }
   ],
   "source": [
    "folders = [{\"type\": \"Folder\", \"attributes\":{\"label\": \"api demo\"}}]\n",
    "r = api.post(make_url(\"/api/v1/projects/{}\".format(project['_id'])), json=folders)\n",
    "r.raise_for_status()\n",
    "pprint(r.json())"
   ]
  },
  {
   "cell_type": "code",
   "execution_count": 14,
   "metadata": {
    "collapsed": false
   },
   "outputs": [
    {
     "name": "stdout",
     "output_type": "stream",
     "text": [
      "{'_id': '45f34b3d-0a07-491f-91d0-a29b518e26e0',\n",
      " 'api_version': 4,\n",
      " 'attributes': {'label': 'api demo'},\n",
      " 'links': {'_collaboration_roots': ['52b6366a-1528-4bf9-a091-09c4e935d1cd']},\n",
      " 'owner': '15cab930-1e24-0131-026c-22000a977b96',\n",
      " 'type': 'Folder'}\n"
     ]
    }
   ],
   "source": [
    "folder = r.json()['entities'][0]\n",
    "pprint(folder)"
   ]
  },
  {
   "cell_type": "markdown",
   "metadata": {},
   "source": [
    "## Creating links"
   ]
  },
  {
   "cell_type": "code",
   "execution_count": 15,
   "metadata": {
    "collapsed": true
   },
   "outputs": [],
   "source": [
    "link_url = make_url('/api/v1/projects/{}/links/foo/relationships'.format(project['_id']))\n",
    "links = [{'target_id': folder['_id']}]\n",
    "r = api.post(link_url, json=links)"
   ]
  },
  {
   "cell_type": "code",
   "execution_count": 16,
   "metadata": {
    "collapsed": false
   },
   "outputs": [
    {
     "name": "stdout",
     "output_type": "stream",
     "text": [
      "{'entities': [{'_id': '52b6366a-1528-4bf9-a091-09c4e935d1cd',\n",
      "               '_rev': '4-8c45666c0e498fabb4923bb83aab9750',\n",
      "               'api_version': 4,\n",
      "               'attributes': {'name': 'abby'},\n",
      "               'links': {'_collaboration_roots': ['52b6366a-1528-4bf9-a091-09c4e935d1cd'],\n",
      "                         'files': {'related': '/api/v1/projects/52b6366a-1528-4bf9-a091-09c4e935d1cd/links/files',\n",
      "                                   'self': '/api/v1/projects/52b6366a-1528-4bf9-a091-09c4e935d1cd/links/files/relationships'},\n",
      "                         'folders': {'related': '/api/v1/projects/52b6366a-1528-4bf9-a091-09c4e935d1cd/links/folders',\n",
      "                                     'self': '/api/v1/projects/52b6366a-1528-4bf9-a091-09c4e935d1cd/links/folders/relationships'},\n",
      "                         'notes': '/notes',\n",
      "                         'properties': '/properties',\n",
      "                         'self': '/api/v1/projects/52b6366a-1528-4bf9-a091-09c4e935d1cd',\n",
      "                         'tags': '/tags',\n",
      "                         'timeline-events': '/timeline-events'},\n",
      "               'owner': '15cab930-1e24-0131-026c-22000a977b96',\n",
      "               'type': 'Project'},\n",
      "              {'_id': '45f34b3d-0a07-491f-91d0-a29b518e26e0',\n",
      "               '_rev': '2-08cd3bae70e58a3ac07f0639c274b767',\n",
      "               'api_version': 4,\n",
      "               'attributes': {'label': 'api demo'},\n",
      "               'links': {'_collaboration_roots': ['52b6366a-1528-4bf9-a091-09c4e935d1cd'],\n",
      "                         'children': {'related': '/api/v1/folders/45f34b3d-0a07-491f-91d0-a29b518e26e0/links/children',\n",
      "                                      'self': '/api/v1/folders/45f34b3d-0a07-491f-91d0-a29b518e26e0/links/children/relationships'},\n",
      "                         'files': {'related': '/api/v1/folders/45f34b3d-0a07-491f-91d0-a29b518e26e0/links/files',\n",
      "                                   'self': '/api/v1/folders/45f34b3d-0a07-491f-91d0-a29b518e26e0/links/files/relationships'},\n",
      "                         'notes': '/notes',\n",
      "                         'parents': {'related': '/api/v1/folders/45f34b3d-0a07-491f-91d0-a29b518e26e0/links/parents',\n",
      "                                     'self': '/api/v1/folders/45f34b3d-0a07-491f-91d0-a29b518e26e0/links/parents/relationships'},\n",
      "                         'properties': '/properties',\n",
      "                         'self': '/api/v1/folders/45f34b3d-0a07-491f-91d0-a29b518e26e0',\n",
      "                         'tags': '/tags',\n",
      "                         'timeline-events': '/timeline-events'},\n",
      "               'owner': '15cab930-1e24-0131-026c-22000a977b96',\n",
      "               'type': 'Folder'}],\n",
      " 'links': [{'_id': '52b6366a-1528-4bf9-a091-09c4e935d1cd--foo-->45f34b3d-0a07-491f-91d0-a29b518e26e0',\n",
      "            'links': {'_collaboration_roots': ['52b6366a-1528-4bf9-a091-09c4e935d1cd',\n",
      "                                               '52b6366a-1528-4bf9-a091-09c4e935d1cd'],\n",
      "                      'self': '/api/v1/relationships/52b6366a-1528-4bf9-a091-09c4e935d1cd--foo-->45f34b3d-0a07-491f-91d0-a29b518e26e0'},\n",
      "            'rel': 'foo',\n",
      "            'source_id': '52b6366a-1528-4bf9-a091-09c4e935d1cd',\n",
      "            'target_id': '45f34b3d-0a07-491f-91d0-a29b518e26e0',\n",
      "            'type': 'Relation',\n",
      "            'user_id': '15cab930-1e24-0131-026c-22000a977b96'}]}\n"
     ]
    }
   ],
   "source": [
    "r.raise_for_status()\n",
    "pprint(r.json())"
   ]
  },
  {
   "cell_type": "markdown",
   "metadata": {},
   "source": [
    "### Following links"
   ]
  },
  {
   "cell_type": "code",
   "execution_count": 31,
   "metadata": {
    "collapsed": false
   },
   "outputs": [
    {
     "name": "stdout",
     "output_type": "stream",
     "text": [
      "[{'_id': '45f34b3d-0a07-491f-91d0-a29b518e26e0',\n",
      "  '_rev': '3-dab5a5774423fc0c54afa6f0081cf998',\n",
      "  'api_version': 4,\n",
      "  'attributes': {'label': 'api demo'},\n",
      "  'links': {'_collaboration_roots': ['52b6366a-1528-4bf9-a091-09c4e935d1cd'],\n",
      "            'children': {'related': '/api/v1/folders/45f34b3d-0a07-491f-91d0-a29b518e26e0/links/children',\n",
      "                         'self': '/api/v1/folders/45f34b3d-0a07-491f-91d0-a29b518e26e0/links/children/relationships'},\n",
      "            'files': {'related': '/api/v1/folders/45f34b3d-0a07-491f-91d0-a29b518e26e0/links/files',\n",
      "                      'self': '/api/v1/folders/45f34b3d-0a07-491f-91d0-a29b518e26e0/links/files/relationships'},\n",
      "            'notes': '/notes',\n",
      "            'parents': {'related': '/api/v1/folders/45f34b3d-0a07-491f-91d0-a29b518e26e0/links/parents',\n",
      "                        'self': '/api/v1/folders/45f34b3d-0a07-491f-91d0-a29b518e26e0/links/parents/relationships'},\n",
      "            'properties': '/properties',\n",
      "            'self': '/api/v1/folders/45f34b3d-0a07-491f-91d0-a29b518e26e0',\n",
      "            'tags': '/tags',\n",
      "            'timeline-events': '/timeline-events'},\n",
      "  'owner': '15cab930-1e24-0131-026c-22000a977b96',\n",
      "  'type': 'Folder'}]\n"
     ]
    }
   ],
   "source": [
    "r = api.get(make_url('/api/v1/projects/{}/links/folders'.format(project['_id'])))\n",
    "r.raise_for_status()\n",
    "targets = r.json()['folders']\n",
    "pprint(targets)\n",
    "folder = targets[0]"
   ]
  },
  {
   "cell_type": "code",
   "execution_count": 18,
   "metadata": {
    "collapsed": false
   },
   "outputs": [
    {
     "name": "stdout",
     "output_type": "stream",
     "text": [
      "[{'_id': '45f34b3d-0a07-491f-91d0-a29b518e26e0',\n",
      "  '_rev': '3-dab5a5774423fc0c54afa6f0081cf998',\n",
      "  'api_version': 4,\n",
      "  'attributes': {'label': 'api demo'},\n",
      "  'links': {'_collaboration_roots': ['52b6366a-1528-4bf9-a091-09c4e935d1cd'],\n",
      "            'children': {'related': '/api/v1/folders/45f34b3d-0a07-491f-91d0-a29b518e26e0/links/children',\n",
      "                         'self': '/api/v1/folders/45f34b3d-0a07-491f-91d0-a29b518e26e0/links/children/relationships'},\n",
      "            'files': {'related': '/api/v1/folders/45f34b3d-0a07-491f-91d0-a29b518e26e0/links/files',\n",
      "                      'self': '/api/v1/folders/45f34b3d-0a07-491f-91d0-a29b518e26e0/links/files/relationships'},\n",
      "            'notes': '/notes',\n",
      "            'parents': {'related': '/api/v1/folders/45f34b3d-0a07-491f-91d0-a29b518e26e0/links/parents',\n",
      "                        'self': '/api/v1/folders/45f34b3d-0a07-491f-91d0-a29b518e26e0/links/parents/relationships'},\n",
      "            'properties': '/properties',\n",
      "            'self': '/api/v1/folders/45f34b3d-0a07-491f-91d0-a29b518e26e0',\n",
      "            'tags': '/tags',\n",
      "            'timeline-events': '/timeline-events'},\n",
      "  'owner': '15cab930-1e24-0131-026c-22000a977b96',\n",
      "  'type': 'Folder'}]\n"
     ]
    }
   ],
   "source": [
    "r = api.get(make_url('/api/v1/projects/{}/links/foo'.format(project['_id'])))\n",
    "r.raise_for_status()\n",
    "targets = r.json()['foo']\n",
    "pprint(targets)"
   ]
  },
  {
   "cell_type": "markdown",
   "metadata": {},
   "source": [
    "## Tags"
   ]
  },
  {
   "cell_type": "markdown",
   "metadata": {},
   "source": [
    "### Add a tag"
   ]
  },
  {
   "cell_type": "code",
   "execution_count": 27,
   "metadata": {
    "collapsed": false
   },
   "outputs": [
    {
     "name": "stdout",
     "output_type": "stream",
     "text": [
      "'https://api-dev.ovation.io/api/v1/entities/45f34b3d-0a07-491f-91d0-a29b518e26e0/annotations/tags'\n"
     ]
    }
   ],
   "source": [
    "tags_url = make_url('/api/v1/entities/{}/annotations/tags'.format(folder['_id'])) #folder['links']\n",
    "pprint(tags_url)"
   ]
  },
  {
   "cell_type": "code",
   "execution_count": 28,
   "metadata": {
    "collapsed": false
   },
   "outputs": [],
   "source": [
    "r = api.post(tags_url, json=[{'tag': 'whoop'}])\n",
    "r.raise_for_status()"
   ]
  },
  {
   "cell_type": "markdown",
   "metadata": {},
   "source": [
    "### Get tags"
   ]
  },
  {
   "cell_type": "code",
   "execution_count": 29,
   "metadata": {
    "collapsed": false
   },
   "outputs": [
    {
     "name": "stdout",
     "output_type": "stream",
     "text": [
      "{'tags': {'45f34b3d-0a07-491f-91d0-a29b518e26e0': {'15cab930-1e24-0131-026c-22000a977b96': [{'_id': '03d477e0f13ca1b90e7e967fbf0610da',\n",
      "                                                                                             '_rev': '1-02b11c19ab451d175b801fb4d3496188',\n",
      "                                                                                             'annotation': {'tag': 'whoop'},\n",
      "                                                                                             'annotation_type': 'tags',\n",
      "                                                                                             'entity': '45f34b3d-0a07-491f-91d0-a29b518e26e0',\n",
      "                                                                                             'links': {'_collaboration_roots': ['52b6366a-1528-4bf9-a091-09c4e935d1cd']},\n",
      "                                                                                             'type': 'Annotation',\n",
      "                                                                                             'user': '15cab930-1e24-0131-026c-22000a977b96'},\n",
      "                                                                                            {'_id': '4932e7b74eb0b23d821d7219a74b8634',\n",
      "                                                                                             '_rev': '1-02b11c19ab451d175b801fb4d3496188',\n",
      "                                                                                             'annotation': {'tag': 'whoop'},\n",
      "                                                                                             'annotation_type': 'tags',\n",
      "                                                                                             'entity': '45f34b3d-0a07-491f-91d0-a29b518e26e0',\n",
      "                                                                                             'links': {'_collaboration_roots': ['52b6366a-1528-4bf9-a091-09c4e935d1cd']},\n",
      "                                                                                             'type': 'Annotation',\n",
      "                                                                                             'user': '15cab930-1e24-0131-026c-22000a977b96'}]}}}\n"
     ]
    }
   ],
   "source": [
    "r = api.get(tags_url)\n",
    "r.raise_for_status()\n",
    "pprint(r.json())"
   ]
  },
  {
   "cell_type": "markdown",
   "metadata": {},
   "source": [
    "## File upload"
   ]
  },
  {
   "cell_type": "markdown",
   "metadata": {},
   "source": [
    "### Create a file"
   ]
  },
  {
   "cell_type": "markdown",
   "metadata": {},
   "source": [
    "Create a `File` in an existing folder"
   ]
  },
  {
   "cell_type": "code",
   "execution_count": 32,
   "metadata": {
    "collapsed": false
   },
   "outputs": [
    {
     "name": "stdout",
     "output_type": "stream",
     "text": [
      "{'_collaboration_roots': ['52b6366a-1528-4bf9-a091-09c4e935d1cd'],\n",
      " 'children': {'related': '/api/v1/folders/45f34b3d-0a07-491f-91d0-a29b518e26e0/links/children',\n",
      "              'self': '/api/v1/folders/45f34b3d-0a07-491f-91d0-a29b518e26e0/links/children/relationships'},\n",
      " 'files': {'related': '/api/v1/folders/45f34b3d-0a07-491f-91d0-a29b518e26e0/links/files',\n",
      "           'self': '/api/v1/folders/45f34b3d-0a07-491f-91d0-a29b518e26e0/links/files/relationships'},\n",
      " 'notes': '/notes',\n",
      " 'parents': {'related': '/api/v1/folders/45f34b3d-0a07-491f-91d0-a29b518e26e0/links/parents',\n",
      "             'self': '/api/v1/folders/45f34b3d-0a07-491f-91d0-a29b518e26e0/links/parents/relationships'},\n",
      " 'properties': '/properties',\n",
      " 'self': '/api/v1/folders/45f34b3d-0a07-491f-91d0-a29b518e26e0',\n",
      " 'tags': '/tags',\n",
      " 'timeline-events': '/timeline-events'}\n"
     ]
    }
   ],
   "source": [
    "pprint(folder['links'])"
   ]
  },
  {
   "cell_type": "code",
   "execution_count": 34,
   "metadata": {
    "collapsed": false
   },
   "outputs": [],
   "source": [
    "r = api.post(make_url(folder['links']['self']), json=[{'type': 'File',\n",
    "                                                                 'attributes': {}}])\n",
    "r.raise_for_status()\n",
    "file = r.json()['entities'][0]\n",
    "pprint(file)"
   ]
  },
  {
   "cell_type": "code",
   "execution_count": 55,
   "metadata": {
    "collapsed": false
   },
   "outputs": [
    {
     "name": "stdout",
     "output_type": "stream",
     "text": [
      "{'_id': 'dc7ee82b-1d9e-447c-85bb-1b42af496f5f',\n",
      " '_rev': '2-9552620c4bf7ce05f6ee0b6b4d328662',\n",
      " 'api_version': 4,\n",
      " 'attributes': {},\n",
      " 'links': {'_collaboration_roots': ['52b6366a-1528-4bf9-a091-09c4e935d1cd'],\n",
      "           'head': {'related': '/api/v1/files/dc7ee82b-1d9e-447c-85bb-1b42af496f5f/links/head',\n",
      "                    'self': '/api/v1/files/dc7ee82b-1d9e-447c-85bb-1b42af496f5f/links/head/relationships'},\n",
      "           'notes': '/notes',\n",
      "           'parents': {'related': '/api/v1/files/dc7ee82b-1d9e-447c-85bb-1b42af496f5f/links/parents',\n",
      "                       'self': '/api/v1/files/dc7ee82b-1d9e-447c-85bb-1b42af496f5f/links/parents/relationships'},\n",
      "           'properties': '/properties',\n",
      "           'revisions': {'related': '/api/v1/files/dc7ee82b-1d9e-447c-85bb-1b42af496f5f/links/revisions',\n",
      "                         'self': '/api/v1/files/dc7ee82b-1d9e-447c-85bb-1b42af496f5f/links/revisions/relationships'},\n",
      "           'self': '/api/v1/files/dc7ee82b-1d9e-447c-85bb-1b42af496f5f',\n",
      "           'tags': '/tags',\n",
      "           'timeline-events': '/timeline-events'},\n",
      " 'owner': '15cab930-1e24-0131-026c-22000a977b96',\n",
      " 'type': 'File'}\n"
     ]
    }
   ],
   "source": [
    "file = api.get(make_url('/api/v1/files/{}'.format(file['_id']))).json()['file']\n",
    "pprint(file)"
   ]
  },
  {
   "cell_type": "code",
   "execution_count": 53,
   "metadata": {
    "collapsed": false
   },
   "outputs": [
    {
     "name": "stdout",
     "output_type": "stream",
     "text": [
      "https://api-dev.ovation.io/api/v1/files/dc7ee82b-1d9e-447c-85bb-1b42af496f5f/links/revisions/relationships\n"
     ]
    }
   ],
   "source": [
    "revs_url = make_url(file['links']['revisions']['self'])\n",
    "print(revs_url)"
   ]
  },
  {
   "cell_type": "markdown",
   "metadata": {},
   "source": [
    "### Create a Revision"
   ]
  },
  {
   "cell_type": "code",
   "execution_count": 52,
   "metadata": {
    "collapsed": false,
    "scrolled": true
   },
   "outputs": [
    {
     "name": "stdout",
     "output_type": "stream",
     "text": [
      "https://api-dev.ovation.io/api/v1/files/dc7ee82b-1d9e-447c-85bb-1b42af496f5f\n"
     ]
    }
   ],
   "source": [
    "file_url = make_url(file['links']['self'])\n",
    "print(file_url)"
   ]
  },
  {
   "cell_type": "code",
   "execution_count": 56,
   "metadata": {
    "collapsed": false
   },
   "outputs": [
    {
     "name": "stdout",
     "output_type": "stream",
     "text": [
      "{'file': {'_id': 'dc7ee82b-1d9e-447c-85bb-1b42af496f5f',\n",
      "          '_rev': '2-9552620c4bf7ce05f6ee0b6b4d328662',\n",
      "          'api_version': 4,\n",
      "          'attributes': {},\n",
      "          'links': {'_collaboration_roots': ['52b6366a-1528-4bf9-a091-09c4e935d1cd'],\n",
      "                    'head': {'related': '/api/v1/files/dc7ee82b-1d9e-447c-85bb-1b42af496f5f/links/head',\n",
      "                             'self': '/api/v1/files/dc7ee82b-1d9e-447c-85bb-1b42af496f5f/links/head/relationships'},\n",
      "                    'notes': '/notes',\n",
      "                    'parents': {'related': '/api/v1/files/dc7ee82b-1d9e-447c-85bb-1b42af496f5f/links/parents',\n",
      "                                'self': '/api/v1/files/dc7ee82b-1d9e-447c-85bb-1b42af496f5f/links/parents/relationships'},\n",
      "                    'properties': '/properties',\n",
      "                    'revisions': {'related': '/api/v1/files/dc7ee82b-1d9e-447c-85bb-1b42af496f5f/links/revisions',\n",
      "                                  'self': '/api/v1/files/dc7ee82b-1d9e-447c-85bb-1b42af496f5f/links/revisions/relationships'},\n",
      "                    'self': '/api/v1/files/dc7ee82b-1d9e-447c-85bb-1b42af496f5f',\n",
      "                    'tags': '/tags',\n",
      "                    'timeline-events': '/timeline-events'},\n",
      "          'owner': '15cab930-1e24-0131-026c-22000a977b96',\n",
      "          'type': 'File'}}\n"
     ]
    }
   ],
   "source": [
    "pprint(api.get(file_url).json())"
   ]
  },
  {
   "cell_type": "code",
   "execution_count": 48,
   "metadata": {
    "collapsed": false
   },
   "outputs": [
    {
     "ename": "HTTPError",
     "evalue": "500 Server Error: Internal Server Error",
     "output_type": "error",
     "traceback": [
      "\u001b[0;31m---------------------------------------------------------------------------\u001b[0m",
      "\u001b[0;31mHTTPError\u001b[0m                                 Traceback (most recent call last)",
      "\u001b[0;32m<ipython-input-48-e46532e7bc20>\u001b[0m in \u001b[0;36m<module>\u001b[0;34m()\u001b[0m\n\u001b[1;32m      6\u001b[0m                                           \u001b[0;34m'previous'\u001b[0m\u001b[0;34m:\u001b[0m \u001b[0;34m[\u001b[0m\u001b[0;34m]\u001b[0m\u001b[0;34m,\u001b[0m\u001b[0;34m\u001b[0m\u001b[0m\n\u001b[1;32m      7\u001b[0m                                           'resource': file['_id']}}])\n\u001b[0;32m----> 8\u001b[0;31m \u001b[0mr\u001b[0m\u001b[0;34m.\u001b[0m\u001b[0mraise_for_status\u001b[0m\u001b[0;34m(\u001b[0m\u001b[0;34m)\u001b[0m\u001b[0;34m\u001b[0m\u001b[0m\n\u001b[0m\u001b[1;32m      9\u001b[0m \u001b[0mrev\u001b[0m \u001b[0;34m=\u001b[0m \u001b[0mr\u001b[0m\u001b[0;34m.\u001b[0m\u001b[0mjson\u001b[0m\u001b[0;34m(\u001b[0m\u001b[0;34m)\u001b[0m\u001b[0;34m[\u001b[0m\u001b[0;34m'revisions'\u001b[0m\u001b[0;34m]\u001b[0m\u001b[0;34m[\u001b[0m\u001b[0;36m0\u001b[0m\u001b[0;34m]\u001b[0m\u001b[0;34m\u001b[0m\u001b[0m\n",
      "\u001b[0;32m/Users/barry/anaconda/envs/py35/lib/python3.5/site-packages/requests/models.py\u001b[0m in \u001b[0;36mraise_for_status\u001b[0;34m(self)\u001b[0m\n\u001b[1;32m    849\u001b[0m \u001b[0;34m\u001b[0m\u001b[0m\n\u001b[1;32m    850\u001b[0m         \u001b[0;32mif\u001b[0m \u001b[0mhttp_error_msg\u001b[0m\u001b[0;34m:\u001b[0m\u001b[0;34m\u001b[0m\u001b[0m\n\u001b[0;32m--> 851\u001b[0;31m             \u001b[0;32mraise\u001b[0m \u001b[0mHTTPError\u001b[0m\u001b[0;34m(\u001b[0m\u001b[0mhttp_error_msg\u001b[0m\u001b[0;34m,\u001b[0m \u001b[0mresponse\u001b[0m\u001b[0;34m=\u001b[0m\u001b[0mself\u001b[0m\u001b[0;34m)\u001b[0m\u001b[0;34m\u001b[0m\u001b[0m\n\u001b[0m\u001b[1;32m    852\u001b[0m \u001b[0;34m\u001b[0m\u001b[0m\n\u001b[1;32m    853\u001b[0m     \u001b[0;32mdef\u001b[0m \u001b[0mclose\u001b[0m\u001b[0;34m(\u001b[0m\u001b[0mself\u001b[0m\u001b[0;34m)\u001b[0m\u001b[0;34m:\u001b[0m\u001b[0;34m\u001b[0m\u001b[0m\n",
      "\u001b[0;31mHTTPError\u001b[0m: 500 Server Error: Internal Server Error"
     ]
    }
   ],
   "source": [
    "r = api.post(make_url(file['links']['self']), json=[{'type': 'Revision',\n",
    "                                                    'attributes': {'content_type': 'text/plain',\n",
    "                                                                  'data_url': '',\n",
    "                                                                  'file_name': 'demo.txt',\n",
    "                                                                  'version': '',\n",
    "                                                                  'previous': [],\n",
    "                                                                  'resource': file['_id']}}])\n",
    "r.raise_for_status()\n",
    "rev = r.json()['revisions'][0]"
   ]
  },
  {
   "cell_type": "markdown",
   "metadata": {},
   "source": [
    "Create a new `Resource` in Rails"
   ]
  },
  {
   "cell_type": "code",
   "execution_count": 41,
   "metadata": {
    "collapsed": false
   },
   "outputs": [
    {
     "ename": "TypeError",
     "evalue": "expected string or bytes-like object",
     "output_type": "error",
     "traceback": [
      "\u001b[0;31m---------------------------------------------------------------------------\u001b[0m",
      "\u001b[0;31mTypeError\u001b[0m                                 Traceback (most recent call last)",
      "\u001b[0;32m<ipython-input-41-ac1a78d2b025>\u001b[0m in \u001b[0;36m<module>\u001b[0;34m()\u001b[0m\n\u001b[1;32m      6\u001b[0m new_resource = {'entity_id': folder['_id'],\n\u001b[1;32m      7\u001b[0m                'path': 'demo.txt'}\n\u001b[0;32m----> 8\u001b[0;31m \u001b[0mr\u001b[0m \u001b[0;34m=\u001b[0m \u001b[0mrails\u001b[0m\u001b[0;34m.\u001b[0m\u001b[0mpost\u001b[0m\u001b[0;34m(\u001b[0m\u001b[0;34m'https://ovation.io/api/v1/resources'\u001b[0m\u001b[0;34m,\u001b[0m \u001b[0mjson\u001b[0m\u001b[0;34m=\u001b[0m\u001b[0mnew_resource\u001b[0m\u001b[0;34m)\u001b[0m\u001b[0;34m\u001b[0m\u001b[0m\n\u001b[0m\u001b[1;32m      9\u001b[0m \u001b[0mr\u001b[0m\u001b[0;34m.\u001b[0m\u001b[0mraise_for_status\u001b[0m\u001b[0;34m(\u001b[0m\u001b[0;34m)\u001b[0m\u001b[0;34m\u001b[0m\u001b[0m\n\u001b[1;32m     10\u001b[0m \u001b[0;34m\u001b[0m\u001b[0m\n",
      "\u001b[0;32m/Users/barry/anaconda/envs/py35/lib/python3.5/site-packages/requests/sessions.py\u001b[0m in \u001b[0;36mpost\u001b[0;34m(self, url, data, json, **kwargs)\u001b[0m\n\u001b[1;32m    506\u001b[0m         \"\"\"\n\u001b[1;32m    507\u001b[0m \u001b[0;34m\u001b[0m\u001b[0m\n\u001b[0;32m--> 508\u001b[0;31m         \u001b[0;32mreturn\u001b[0m \u001b[0mself\u001b[0m\u001b[0;34m.\u001b[0m\u001b[0mrequest\u001b[0m\u001b[0;34m(\u001b[0m\u001b[0;34m'POST'\u001b[0m\u001b[0;34m,\u001b[0m \u001b[0murl\u001b[0m\u001b[0;34m,\u001b[0m \u001b[0mdata\u001b[0m\u001b[0;34m=\u001b[0m\u001b[0mdata\u001b[0m\u001b[0;34m,\u001b[0m \u001b[0mjson\u001b[0m\u001b[0;34m=\u001b[0m\u001b[0mjson\u001b[0m\u001b[0;34m,\u001b[0m \u001b[0;34m**\u001b[0m\u001b[0mkwargs\u001b[0m\u001b[0;34m)\u001b[0m\u001b[0;34m\u001b[0m\u001b[0m\n\u001b[0m\u001b[1;32m    509\u001b[0m \u001b[0;34m\u001b[0m\u001b[0m\n\u001b[1;32m    510\u001b[0m     \u001b[0;32mdef\u001b[0m \u001b[0mput\u001b[0m\u001b[0;34m(\u001b[0m\u001b[0mself\u001b[0m\u001b[0;34m,\u001b[0m \u001b[0murl\u001b[0m\u001b[0;34m,\u001b[0m \u001b[0mdata\u001b[0m\u001b[0;34m=\u001b[0m\u001b[0;32mNone\u001b[0m\u001b[0;34m,\u001b[0m \u001b[0;34m**\u001b[0m\u001b[0mkwargs\u001b[0m\u001b[0;34m)\u001b[0m\u001b[0;34m:\u001b[0m\u001b[0;34m\u001b[0m\u001b[0m\n",
      "\u001b[0;32m/Users/barry/anaconda/envs/py35/lib/python3.5/site-packages/requests/sessions.py\u001b[0m in \u001b[0;36mrequest\u001b[0;34m(self, method, url, params, data, headers, cookies, files, auth, timeout, allow_redirects, proxies, hooks, stream, verify, cert, json)\u001b[0m\n\u001b[1;32m    463\u001b[0m         }\n\u001b[1;32m    464\u001b[0m         \u001b[0msend_kwargs\u001b[0m\u001b[0;34m.\u001b[0m\u001b[0mupdate\u001b[0m\u001b[0;34m(\u001b[0m\u001b[0msettings\u001b[0m\u001b[0;34m)\u001b[0m\u001b[0;34m\u001b[0m\u001b[0m\n\u001b[0;32m--> 465\u001b[0;31m         \u001b[0mresp\u001b[0m \u001b[0;34m=\u001b[0m \u001b[0mself\u001b[0m\u001b[0;34m.\u001b[0m\u001b[0msend\u001b[0m\u001b[0;34m(\u001b[0m\u001b[0mprep\u001b[0m\u001b[0;34m,\u001b[0m \u001b[0;34m**\u001b[0m\u001b[0msend_kwargs\u001b[0m\u001b[0;34m)\u001b[0m\u001b[0;34m\u001b[0m\u001b[0m\n\u001b[0m\u001b[1;32m    466\u001b[0m \u001b[0;34m\u001b[0m\u001b[0m\n\u001b[1;32m    467\u001b[0m         \u001b[0;32mreturn\u001b[0m \u001b[0mresp\u001b[0m\u001b[0;34m\u001b[0m\u001b[0m\n",
      "\u001b[0;32m/Users/barry/anaconda/envs/py35/lib/python3.5/site-packages/requests/sessions.py\u001b[0m in \u001b[0;36msend\u001b[0;34m(self, request, **kwargs)\u001b[0m\n\u001b[1;32m    571\u001b[0m \u001b[0;34m\u001b[0m\u001b[0m\n\u001b[1;32m    572\u001b[0m         \u001b[0;31m# Send the request\u001b[0m\u001b[0;34m\u001b[0m\u001b[0;34m\u001b[0m\u001b[0m\n\u001b[0;32m--> 573\u001b[0;31m         \u001b[0mr\u001b[0m \u001b[0;34m=\u001b[0m \u001b[0madapter\u001b[0m\u001b[0;34m.\u001b[0m\u001b[0msend\u001b[0m\u001b[0;34m(\u001b[0m\u001b[0mrequest\u001b[0m\u001b[0;34m,\u001b[0m \u001b[0;34m**\u001b[0m\u001b[0mkwargs\u001b[0m\u001b[0;34m)\u001b[0m\u001b[0;34m\u001b[0m\u001b[0m\n\u001b[0m\u001b[1;32m    574\u001b[0m \u001b[0;34m\u001b[0m\u001b[0m\n\u001b[1;32m    575\u001b[0m         \u001b[0;31m# Total elapsed time of the request (approximately)\u001b[0m\u001b[0;34m\u001b[0m\u001b[0;34m\u001b[0m\u001b[0m\n",
      "\u001b[0;32m/Users/barry/anaconda/envs/py35/lib/python3.5/site-packages/requests/adapters.py\u001b[0m in \u001b[0;36msend\u001b[0;34m(self, request, stream, timeout, verify, cert, proxies)\u001b[0m\n\u001b[1;32m    368\u001b[0m                     \u001b[0mdecode_content\u001b[0m\u001b[0;34m=\u001b[0m\u001b[0;32mFalse\u001b[0m\u001b[0;34m,\u001b[0m\u001b[0;34m\u001b[0m\u001b[0m\n\u001b[1;32m    369\u001b[0m                     \u001b[0mretries\u001b[0m\u001b[0;34m=\u001b[0m\u001b[0mself\u001b[0m\u001b[0;34m.\u001b[0m\u001b[0mmax_retries\u001b[0m\u001b[0;34m,\u001b[0m\u001b[0;34m\u001b[0m\u001b[0m\n\u001b[0;32m--> 370\u001b[0;31m                     \u001b[0mtimeout\u001b[0m\u001b[0;34m=\u001b[0m\u001b[0mtimeout\u001b[0m\u001b[0;34m\u001b[0m\u001b[0m\n\u001b[0m\u001b[1;32m    371\u001b[0m                 )\n\u001b[1;32m    372\u001b[0m \u001b[0;34m\u001b[0m\u001b[0m\n",
      "\u001b[0;32m/Users/barry/anaconda/envs/py35/lib/python3.5/site-packages/requests/packages/urllib3/connectionpool.py\u001b[0m in \u001b[0;36murlopen\u001b[0;34m(self, method, url, body, headers, retries, redirect, assert_same_host, timeout, pool_timeout, release_conn, **response_kw)\u001b[0m\n\u001b[1;32m    542\u001b[0m             httplib_response = self._make_request(conn, method, url,\n\u001b[1;32m    543\u001b[0m                                                   \u001b[0mtimeout\u001b[0m\u001b[0;34m=\u001b[0m\u001b[0mtimeout_obj\u001b[0m\u001b[0;34m,\u001b[0m\u001b[0;34m\u001b[0m\u001b[0m\n\u001b[0;32m--> 544\u001b[0;31m                                                   body=body, headers=headers)\n\u001b[0m\u001b[1;32m    545\u001b[0m \u001b[0;34m\u001b[0m\u001b[0m\n\u001b[1;32m    546\u001b[0m             \u001b[0;31m# If we're going to release the connection in ``finally:``, then\u001b[0m\u001b[0;34m\u001b[0m\u001b[0;34m\u001b[0m\u001b[0m\n",
      "\u001b[0;32m/Users/barry/anaconda/envs/py35/lib/python3.5/site-packages/requests/packages/urllib3/connectionpool.py\u001b[0m in \u001b[0;36m_make_request\u001b[0;34m(self, conn, method, url, timeout, **httplib_request_kw)\u001b[0m\n\u001b[1;32m    347\u001b[0m         \u001b[0;31m# conn.request() calls httplib.*.request, not the method in\u001b[0m\u001b[0;34m\u001b[0m\u001b[0;34m\u001b[0m\u001b[0m\n\u001b[1;32m    348\u001b[0m         \u001b[0;31m# urllib3.request. It also calls makefile (recv) on the socket.\u001b[0m\u001b[0;34m\u001b[0m\u001b[0;34m\u001b[0m\u001b[0m\n\u001b[0;32m--> 349\u001b[0;31m         \u001b[0mconn\u001b[0m\u001b[0;34m.\u001b[0m\u001b[0mrequest\u001b[0m\u001b[0;34m(\u001b[0m\u001b[0mmethod\u001b[0m\u001b[0;34m,\u001b[0m \u001b[0murl\u001b[0m\u001b[0;34m,\u001b[0m \u001b[0;34m**\u001b[0m\u001b[0mhttplib_request_kw\u001b[0m\u001b[0;34m)\u001b[0m\u001b[0;34m\u001b[0m\u001b[0m\n\u001b[0m\u001b[1;32m    350\u001b[0m \u001b[0;34m\u001b[0m\u001b[0m\n\u001b[1;32m    351\u001b[0m         \u001b[0;31m# Reset the timeout for the recv() on the socket\u001b[0m\u001b[0;34m\u001b[0m\u001b[0;34m\u001b[0m\u001b[0m\n",
      "\u001b[0;32m/Users/barry/anaconda/envs/py35/lib/python3.5/http/client.py\u001b[0m in \u001b[0;36mrequest\u001b[0;34m(self, method, url, body, headers)\u001b[0m\n\u001b[1;32m   1081\u001b[0m     \u001b[0;32mdef\u001b[0m \u001b[0mrequest\u001b[0m\u001b[0;34m(\u001b[0m\u001b[0mself\u001b[0m\u001b[0;34m,\u001b[0m \u001b[0mmethod\u001b[0m\u001b[0;34m,\u001b[0m \u001b[0murl\u001b[0m\u001b[0;34m,\u001b[0m \u001b[0mbody\u001b[0m\u001b[0;34m=\u001b[0m\u001b[0;32mNone\u001b[0m\u001b[0;34m,\u001b[0m \u001b[0mheaders\u001b[0m\u001b[0;34m=\u001b[0m\u001b[0;34m{\u001b[0m\u001b[0;34m}\u001b[0m\u001b[0;34m)\u001b[0m\u001b[0;34m:\u001b[0m\u001b[0;34m\u001b[0m\u001b[0m\n\u001b[1;32m   1082\u001b[0m         \u001b[0;34m\"\"\"Send a complete request to the server.\"\"\"\u001b[0m\u001b[0;34m\u001b[0m\u001b[0m\n\u001b[0;32m-> 1083\u001b[0;31m         \u001b[0mself\u001b[0m\u001b[0;34m.\u001b[0m\u001b[0m_send_request\u001b[0m\u001b[0;34m(\u001b[0m\u001b[0mmethod\u001b[0m\u001b[0;34m,\u001b[0m \u001b[0murl\u001b[0m\u001b[0;34m,\u001b[0m \u001b[0mbody\u001b[0m\u001b[0;34m,\u001b[0m \u001b[0mheaders\u001b[0m\u001b[0;34m)\u001b[0m\u001b[0;34m\u001b[0m\u001b[0m\n\u001b[0m\u001b[1;32m   1084\u001b[0m \u001b[0;34m\u001b[0m\u001b[0m\n\u001b[1;32m   1085\u001b[0m     \u001b[0;32mdef\u001b[0m \u001b[0m_set_content_length\u001b[0m\u001b[0;34m(\u001b[0m\u001b[0mself\u001b[0m\u001b[0;34m,\u001b[0m \u001b[0mbody\u001b[0m\u001b[0;34m,\u001b[0m \u001b[0mmethod\u001b[0m\u001b[0;34m)\u001b[0m\u001b[0;34m:\u001b[0m\u001b[0;34m\u001b[0m\u001b[0m\n",
      "\u001b[0;32m/Users/barry/anaconda/envs/py35/lib/python3.5/http/client.py\u001b[0m in \u001b[0;36m_send_request\u001b[0;34m(self, method, url, body, headers)\u001b[0m\n\u001b[1;32m   1121\u001b[0m             \u001b[0mself\u001b[0m\u001b[0;34m.\u001b[0m\u001b[0m_set_content_length\u001b[0m\u001b[0;34m(\u001b[0m\u001b[0mbody\u001b[0m\u001b[0;34m,\u001b[0m \u001b[0mmethod\u001b[0m\u001b[0;34m)\u001b[0m\u001b[0;34m\u001b[0m\u001b[0m\n\u001b[1;32m   1122\u001b[0m         \u001b[0;32mfor\u001b[0m \u001b[0mhdr\u001b[0m\u001b[0;34m,\u001b[0m \u001b[0mvalue\u001b[0m \u001b[0;32min\u001b[0m \u001b[0mheaders\u001b[0m\u001b[0;34m.\u001b[0m\u001b[0mitems\u001b[0m\u001b[0;34m(\u001b[0m\u001b[0;34m)\u001b[0m\u001b[0;34m:\u001b[0m\u001b[0;34m\u001b[0m\u001b[0m\n\u001b[0;32m-> 1123\u001b[0;31m             \u001b[0mself\u001b[0m\u001b[0;34m.\u001b[0m\u001b[0mputheader\u001b[0m\u001b[0;34m(\u001b[0m\u001b[0mhdr\u001b[0m\u001b[0;34m,\u001b[0m \u001b[0mvalue\u001b[0m\u001b[0;34m)\u001b[0m\u001b[0;34m\u001b[0m\u001b[0m\n\u001b[0m\u001b[1;32m   1124\u001b[0m         \u001b[0;32mif\u001b[0m \u001b[0misinstance\u001b[0m\u001b[0;34m(\u001b[0m\u001b[0mbody\u001b[0m\u001b[0;34m,\u001b[0m \u001b[0mstr\u001b[0m\u001b[0;34m)\u001b[0m\u001b[0;34m:\u001b[0m\u001b[0;34m\u001b[0m\u001b[0m\n\u001b[1;32m   1125\u001b[0m             \u001b[0;31m# RFC 2616 Section 3.7.1 says that text default has a\u001b[0m\u001b[0;34m\u001b[0m\u001b[0;34m\u001b[0m\u001b[0m\n",
      "\u001b[0;32m/Users/barry/anaconda/envs/py35/lib/python3.5/http/client.py\u001b[0m in \u001b[0;36mputheader\u001b[0;34m(self, header, *values)\u001b[0m\n\u001b[1;32m   1057\u001b[0m                 \u001b[0mvalues\u001b[0m\u001b[0;34m[\u001b[0m\u001b[0mi\u001b[0m\u001b[0;34m]\u001b[0m \u001b[0;34m=\u001b[0m \u001b[0mstr\u001b[0m\u001b[0;34m(\u001b[0m\u001b[0mone_value\u001b[0m\u001b[0;34m)\u001b[0m\u001b[0;34m.\u001b[0m\u001b[0mencode\u001b[0m\u001b[0;34m(\u001b[0m\u001b[0;34m'ascii'\u001b[0m\u001b[0;34m)\u001b[0m\u001b[0;34m\u001b[0m\u001b[0m\n\u001b[1;32m   1058\u001b[0m \u001b[0;34m\u001b[0m\u001b[0m\n\u001b[0;32m-> 1059\u001b[0;31m             \u001b[0;32mif\u001b[0m \u001b[0m_is_illegal_header_value\u001b[0m\u001b[0;34m(\u001b[0m\u001b[0mvalues\u001b[0m\u001b[0;34m[\u001b[0m\u001b[0mi\u001b[0m\u001b[0;34m]\u001b[0m\u001b[0;34m)\u001b[0m\u001b[0;34m:\u001b[0m\u001b[0;34m\u001b[0m\u001b[0m\n\u001b[0m\u001b[1;32m   1060\u001b[0m                 \u001b[0;32mraise\u001b[0m \u001b[0mValueError\u001b[0m\u001b[0;34m(\u001b[0m\u001b[0;34m'Invalid header value %r'\u001b[0m \u001b[0;34m%\u001b[0m \u001b[0;34m(\u001b[0m\u001b[0mvalues\u001b[0m\u001b[0;34m[\u001b[0m\u001b[0mi\u001b[0m\u001b[0;34m]\u001b[0m\u001b[0;34m,\u001b[0m\u001b[0;34m)\u001b[0m\u001b[0;34m)\u001b[0m\u001b[0;34m\u001b[0m\u001b[0m\n\u001b[1;32m   1061\u001b[0m \u001b[0;34m\u001b[0m\u001b[0m\n",
      "\u001b[0;31mTypeError\u001b[0m: expected string or bytes-like object"
     ]
    }
   ],
   "source": [
    "rails = requests.Session()\n",
    "rails.verify = True # Verify SSL certificates\n",
    "rails.headers['content-type'] = 'application/json'\n",
    "rails.headers['authorization'] = HTTPBasicAuth(api_key, 'X')\n",
    "\n",
    "new_resource = {'entity_id': folder['_id'],\n",
    "               'path': 'demo.txt'}\n",
    "r = rails.post('https://ovation.io/api/v1/resources', json=new_resource)\n",
    "r.raise_for_status()\n",
    "\n",
    "rsrc = r.json()\n",
    "pprint(rsrc)"
   ]
  },
  {
   "cell_type": "code",
   "execution_count": null,
   "metadata": {
    "collapsed": true
   },
   "outputs": [],
   "source": []
  }
 ],
 "metadata": {
  "kernelspec": {
   "display_name": "Python 3",
   "language": "python",
   "name": "python3"
  },
  "language_info": {
   "codemirror_mode": {
    "name": "ipython",
    "version": 3
   },
   "file_extension": ".py",
   "mimetype": "text/x-python",
   "name": "python",
   "nbconvert_exporter": "python",
   "pygments_lexer": "ipython3",
   "version": "3.5.0"
  }
 },
 "nbformat": 4,
 "nbformat_minor": 0
}
