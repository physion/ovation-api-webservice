{
 "cells": [
  {
   "cell_type": "code",
   "execution_count": 1,
   "metadata": {},
   "outputs": [],
   "source": [
    "import requests\n",
    "import datetime\n",
    "import json\n",
    "import pytz\n",
    "\n",
    "from urllib.parse import urljoin \n",
    "from getpass import getpass\n",
    "from requests.auth import HTTPBasicAuth\n",
    "from pprint import pprint"
   ]
  },
  {
   "cell_type": "markdown",
   "metadata": {},
   "source": [
    "The Ovation web API is a RESTful API that you use with any HTTP client. In this tutorial, we'll use the Python `requests` package."
   ]
  },
  {
   "cell_type": "markdown",
   "metadata": {},
   "source": [
    "### Utilities"
   ]
  },
  {
   "cell_type": "code",
   "execution_count": 2,
   "metadata": {},
   "outputs": [],
   "source": [
    "API_HOST = 'https://api-dev-direct.ovation.io/' #'http://127.0.0.1:3000'\n",
    "def make_url(path, host=API_HOST):\n",
    "    return urljoin(host, path)"
   ]
  },
  {
   "cell_type": "code",
   "execution_count": 3,
   "metadata": {},
   "outputs": [
    {
     "data": {
      "text/plain": [
       "'https://api-dev-direct.ovation.io/api/v1/projects'"
      ]
     },
     "execution_count": 3,
     "output_type": "execute_result",
     "metadata": {}
    }
   ],
   "source": [
    "make_url('/api/v1/projects')"
   ]
  },
  {
   "cell_type": "markdown",
   "metadata": {},
   "source": [
    "### Credentials"
   ]
  },
  {
   "cell_type": "markdown",
   "metadata": {},
   "source": [
    "Enter your Ovation API key:"
   ]
  },
  {
   "cell_type": "code",
   "execution_count": 4,
   "metadata": {},
   "outputs": [
    {
     "name": "stdout",
     "output_type": "stream",
     "text": [
      "API Key: ········\n"
     ]
    }
   ],
   "source": [
    "api_key = getpass(prompt=\"API Key: \")"
   ]
  },
  {
   "cell_type": "markdown",
   "metadata": {},
   "source": [
    "We create a `requests.Session` object for use with the Ovation API"
   ]
  },
  {
   "cell_type": "code",
   "execution_count": 5,
   "metadata": {},
   "outputs": [],
   "source": [
    "def make_session(api_key=api_key):\n",
    "    auth_params = {'api-key' : api_key}\n",
    "    \n",
    "    api = requests.Session()\n",
    "    api.verify = True # Verify SSL certificates\n",
    "    api.headers['content-type'] = 'application/json'\n",
    "    api.headers['authorization'] = 'Bearer {}'.format(api_key)\n",
    "    \n",
    "    return api\n",
    "\n",
    "api = make_session(api_key)"
   ]
  },
  {
   "cell_type": "markdown",
   "metadata": {},
   "source": [
    "### Projects"
   ]
  },
  {
   "cell_type": "code",
   "execution_count": 6,
   "metadata": {},
   "outputs": [
    {
     "data": {
      "text/plain": [
       "'https://api-dev-direct.ovation.io/api/v1/projects'"
      ]
     },
     "execution_count": 6,
     "output_type": "execute_result",
     "metadata": {}
    }
   ],
   "source": [
    "make_url('/api/v1/projects')"
   ]
  },
  {
   "cell_type": "code",
   "execution_count": 7,
   "metadata": {},
   "outputs": [],
   "source": [
    "r = api.get(make_url('/api/v1/projects'))\n",
    "r.raise_for_status()"
   ]
  },
  {
   "cell_type": "code",
   "execution_count": 8,
   "metadata": {},
   "outputs": [],
   "source": [
    "projects = r.json()['projects']"
   ]
  },
  {
   "cell_type": "code",
   "execution_count": 9,
   "metadata": {},
   "outputs": [
    {
     "data": {
      "text/plain": [
       "13"
      ]
     },
     "execution_count": 9,
     "output_type": "execute_result",
     "metadata": {}
    }
   ],
   "source": [
    "len(projects)"
   ]
  },
  {
   "cell_type": "code",
   "execution_count": 10,
   "metadata": {},
   "outputs": [
    {
     "name": "stdout",
     "output_type": "stream",
     "text": [
      "{'_id': '3d058a54-837c-4b24-bf58-4b0bc09b4e76',\n",
      " '_rev': '3-64743c417f02ed110d2dc437189757ec',\n",
      " 'api_version': 4,\n",
      " 'attributes': {'comment': 'from-api!', 'name': 'demo-patient-1'},\n",
      " 'links': {'_collaboration_roots': [],\n",
      "           'files': {'related': '/api/v1/projects/3d058a54-837c-4b24-bf58-4b0bc09b4e76/links/files',\n",
      "                     'self': '/api/v1/projects/3d058a54-837c-4b24-bf58-4b0bc09b4e76/links/files/relationships'},\n",
      "           'folders': {'related': '/api/v1/projects/3d058a54-837c-4b24-bf58-4b0bc09b4e76/links/folders',\n",
      "                       'self': '/api/v1/projects/3d058a54-837c-4b24-bf58-4b0bc09b4e76/links/folders/relationships'},\n",
      "           'notes': '/notes',\n",
      "           'properties': '/properties',\n",
      "           'self': '/api/v1/projects/3d058a54-837c-4b24-bf58-4b0bc09b4e76',\n",
      "           'tags': '/tags',\n",
      "           'timeline-events': '/timeline-events'},\n",
      " 'owner': '15cab930-1e24-0131-026c-22000a977b96',\n",
      " 'type': 'Project'}\n"
     ]
    }
   ],
   "source": [
    "pprint(projects[0])"
   ]
  },
  {
   "cell_type": "code",
   "execution_count": 20,
   "metadata": {},
   "outputs": [
    {
     "name": "stdout",
     "output_type": "stream",
     "text": [
      "{'_id': '52b6366a-1528-4bf9-a091-09c4e935d1cd',\n",
      " '_rev': '3-eec6d9c40436a57aca7d88e96f92cb54',\n",
      " 'api_version': 4,\n",
      " 'attributes': {'name': 'abby'},\n",
      " 'links': {'_collaboration_roots': ['52b6366a-1528-4bf9-a091-09c4e935d1cd'],\n",
      "           'files': {'related': '/api/v1/projects/52b6366a-1528-4bf9-a091-09c4e935d1cd/links/files',\n",
      "                     'self': '/api/v1/projects/52b6366a-1528-4bf9-a091-09c4e935d1cd/links/files/relationships'},\n",
      "           'folders': {'related': '/api/v1/projects/52b6366a-1528-4bf9-a091-09c4e935d1cd/links/folders',\n",
      "                       'self': '/api/v1/projects/52b6366a-1528-4bf9-a091-09c4e935d1cd/links/folders/relationships'},\n",
      "           'notes': '/notes',\n",
      "           'properties': '/properties',\n",
      "           'self': '/api/v1/projects/52b6366a-1528-4bf9-a091-09c4e935d1cd',\n",
      "           'tags': '/tags',\n",
      "           'timeline-events': '/timeline-events'},\n",
      " 'owner': '15cab930-1e24-0131-026c-22000a977b96',\n",
      " 'type': 'Project'}\n"
     ]
    }
   ],
   "source": [
    "pprint(projects[1])"
   ]
  },
  {
   "cell_type": "markdown",
   "metadata": {},
   "source": [
    "## Add a folder"
   ]
  },
  {
   "cell_type": "markdown",
   "metadata": {},
   "source": [
    "To add a 'child' element, post a new entity descriptor to the parent. In this case, we create a `Folder` in the project by sending a `POST` to the `Project`"
   ]
  },
  {
   "cell_type": "code",
   "execution_count": 12,
   "metadata": {},
   "outputs": [
    {
     "name": "stdout",
     "output_type": "stream",
     "text": [
      "{'project': {'_id': '540e18b1-8dde-4dee-ba77-097662e969e0',\n",
      "             '_rev': '1-c1ce2942b179ff126fffe0d6743a47e4',\n",
      "             'api_version': 4,\n",
      "             'attributes': {'label': 'speed test'},\n",
      "             'links': {'_collaboration_roots': [],\n",
      "                       'files': {'related': '/api/v1/projects/540e18b1-8dde-4dee-ba77-097662e969e0/links/files',\n",
      "                                 'self': '/api/v1/projects/540e18b1-8dde-4dee-ba77-097662e969e0/links/files/relationships'},\n",
      "                       'folders': {'related': '/api/v1/projects/540e18b1-8dde-4dee-ba77-097662e969e0/links/folders',\n",
      "                                   'self': '/api/v1/projects/540e18b1-8dde-4dee-ba77-097662e969e0/links/folders/relationships'},\n",
      "                       'notes': '/notes',\n",
      "                       'properties': '/properties',\n",
      "                       'self': '/api/v1/projects/540e18b1-8dde-4dee-ba77-097662e969e0',\n",
      "                       'tags': '/tags',\n",
      "                       'timeline-events': '/timeline-events'},\n",
      "             'owner': '15cab930-1e24-0131-026c-22000a977b96',\n",
      "             'type': 'Project'}}\n"
     ]
    }
   ],
   "source": [
    "pprint(api.get(make_url(\"/api/v1/projects/540e18b1-8dde-4dee-ba77-097662e969e0\")).json())"
   ]
  },
  {
   "cell_type": "code",
   "execution_count": 13,
   "metadata": {},
   "outputs": [
    {
     "name": "stdout",
     "output_type": "stream",
     "text": [
      "{'entities': [{'_id': '4d4838e7-b8cd-41f1-9ac2-a294098694aa',\n",
      "               'api_version': 4,\n",
      "               'attributes': {'label': 'api demo'},\n",
      "               'links': {'_collaboration_roots': []},\n",
      "               'owner': '15cab930-1e24-0131-026c-22000a977b96',\n",
      "               'type': 'Folder'}],\n",
      " 'links': [{'_id': '540e18b1-8dde-4dee-ba77-097662e969e0--folders-->4d4838e7-b8cd-41f1-9ac2-a294098694aa',\n",
      "            'inverse_rel': 'parents',\n",
      "            'links': {'_collaboration_roots': [],\n",
      "                      'self': '/api/v1/relationships/540e18b1-8dde-4dee-ba77-097662e969e0--folders-->4d4838e7-b8cd-41f1-9ac2-a294098694aa'},\n",
      "            'rel': 'folders',\n",
      "            'source_id': '540e18b1-8dde-4dee-ba77-097662e969e0',\n",
      "            'target_id': '4d4838e7-b8cd-41f1-9ac2-a294098694aa',\n",
      "            'type': 'Relation',\n",
      "            'user_id': '15cab930-1e24-0131-026c-22000a977b96'}],\n",
      " 'updates': [{'_id': '540e18b1-8dde-4dee-ba77-097662e969e0',\n",
      "              '_rev': '1-c1ce2942b179ff126fffe0d6743a47e4',\n",
      "              'api_version': 4,\n",
      "              'attributes': {'label': 'speed test'},\n",
      "              'links': {'_collaboration_roots': [],\n",
      "                        'files': {'related': '/api/v1/projects/540e18b1-8dde-4dee-ba77-097662e969e0/links/files',\n",
      "                                  'self': '/api/v1/projects/540e18b1-8dde-4dee-ba77-097662e969e0/links/files/relationships'},\n",
      "                        'folders': {'related': '/api/v1/projects/540e18b1-8dde-4dee-ba77-097662e969e0/links/folders',\n",
      "                                    'self': '/api/v1/projects/540e18b1-8dde-4dee-ba77-097662e969e0/links/folders/relationships'},\n",
      "                        'notes': '/notes',\n",
      "                        'properties': '/properties',\n",
      "                        'self': '/api/v1/projects/540e18b1-8dde-4dee-ba77-097662e969e0',\n",
      "                        'tags': '/tags',\n",
      "                        'timeline-events': '/timeline-events'},\n",
      "              'owner': '15cab930-1e24-0131-026c-22000a977b96',\n",
      "              'type': 'Project'},\n",
      "             {'_id': '4d4838e7-b8cd-41f1-9ac2-a294098694aa',\n",
      "              '_rev': '1-efc3a31747db565f686917c5584ce18f',\n",
      "              'api_version': 4,\n",
      "              'attributes': {'label': 'api demo'},\n",
      "              'links': {'_collaboration_roots': [],\n",
      "                        'children': {'related': '/api/v1/folders/4d4838e7-b8cd-41f1-9ac2-a294098694aa/links/children',\n",
      "                                     'self': '/api/v1/folders/4d4838e7-b8cd-41f1-9ac2-a294098694aa/links/children/relationships'},\n",
      "                        'files': {'related': '/api/v1/folders/4d4838e7-b8cd-41f1-9ac2-a294098694aa/links/files',\n",
      "                                  'self': '/api/v1/folders/4d4838e7-b8cd-41f1-9ac2-a294098694aa/links/files/relationships'},\n",
      "                        'notes': '/notes',\n",
      "                        'parents': {'related': '/api/v1/folders/4d4838e7-b8cd-41f1-9ac2-a294098694aa/links/parents',\n",
      "                                    'self': '/api/v1/folders/4d4838e7-b8cd-41f1-9ac2-a294098694aa/links/parents/relationships'},\n",
      "                        'properties': '/properties',\n",
      "                        'self': '/api/v1/folders/4d4838e7-b8cd-41f1-9ac2-a294098694aa',\n",
      "                        'tags': '/tags',\n",
      "                        'timeline-events': '/timeline-events'},\n",
      "              'owner': '15cab930-1e24-0131-026c-22000a977b96',\n",
      "              'type': 'Folder'}]}\n"
     ]
    }
   ],
   "source": [
    "folders = [{\"type\": \"Folder\", \"attributes\":{\"label\": \"api demo\"}}]\n",
    "r = api.post(make_url(\"/api/v1/projects/540e18b1-8dde-4dee-ba77-097662e969e0\"), data=json.dumps(folders))\n",
    "r.raise_for_status()\n",
    "pprint(r.json())"
   ]
  },
  {
   "cell_type": "markdown",
   "metadata": {},
   "source": [
    "## Creating links"
   ]
  },
  {
   "cell_type": "code",
   "execution_count": 17,
   "metadata": {},
   "outputs": [],
   "source": [
    "link_url = make_url('/api/v1/projects/540e18b1-8dde-4dee-ba77-097662e969e0/links/foo/relationships')\n",
    "links = [{'target_id': '4d4838e7-b8cd-41f1-9ac2-a294098694aa'}]\n",
    "r = api.post(link_url, data=json.dumps(links))"
   ]
  },
  {
   "cell_type": "code",
   "execution_count": 18,
   "metadata": {},
   "outputs": [
    {
     "name": "stdout",
     "output_type": "stream",
     "text": [
      "{'entities': [{'_id': '540e18b1-8dde-4dee-ba77-097662e969e0',\n",
      "               '_rev': '2-968161d1a6699072eb5644cbc8c75b1b',\n",
      "               'api_version': 4,\n",
      "               'attributes': {'label': 'speed test'},\n",
      "               'links': {'_collaboration_roots': [],\n",
      "                         'files': {'related': '/api/v1/projects/540e18b1-8dde-4dee-ba77-097662e969e0/links/files',\n",
      "                                   'self': '/api/v1/projects/540e18b1-8dde-4dee-ba77-097662e969e0/links/files/relationships'},\n",
      "                         'folders': {'related': '/api/v1/projects/540e18b1-8dde-4dee-ba77-097662e969e0/links/folders',\n",
      "                                     'self': '/api/v1/projects/540e18b1-8dde-4dee-ba77-097662e969e0/links/folders/relationships'},\n",
      "                         'notes': '/notes',\n",
      "                         'properties': '/properties',\n",
      "                         'self': '/api/v1/projects/540e18b1-8dde-4dee-ba77-097662e969e0',\n",
      "                         'tags': '/tags',\n",
      "                         'timeline-events': '/timeline-events'},\n",
      "               'owner': '15cab930-1e24-0131-026c-22000a977b96',\n",
      "               'type': 'Project'},\n",
      "              {'_id': '4d4838e7-b8cd-41f1-9ac2-a294098694aa',\n",
      "               '_rev': '2-5a50090b72cc3d13c803f87f2eeb5a05',\n",
      "               'api_version': 4,\n",
      "               'attributes': {'label': 'api demo'},\n",
      "               'links': {'_collaboration_roots': [],\n",
      "                         'children': {'related': '/api/v1/folders/4d4838e7-b8cd-41f1-9ac2-a294098694aa/links/children',\n",
      "                                      'self': '/api/v1/folders/4d4838e7-b8cd-41f1-9ac2-a294098694aa/links/children/relationships'},\n",
      "                         'files': {'related': '/api/v1/folders/4d4838e7-b8cd-41f1-9ac2-a294098694aa/links/files',\n",
      "                                   'self': '/api/v1/folders/4d4838e7-b8cd-41f1-9ac2-a294098694aa/links/files/relationships'},\n",
      "                         'notes': '/notes',\n",
      "                         'parents': {'related': '/api/v1/folders/4d4838e7-b8cd-41f1-9ac2-a294098694aa/links/parents',\n",
      "                                     'self': '/api/v1/folders/4d4838e7-b8cd-41f1-9ac2-a294098694aa/links/parents/relationships'},\n",
      "                         'properties': '/properties',\n",
      "                         'self': '/api/v1/folders/4d4838e7-b8cd-41f1-9ac2-a294098694aa',\n",
      "                         'tags': '/tags',\n",
      "                         'timeline-events': '/timeline-events'},\n",
      "               'owner': '15cab930-1e24-0131-026c-22000a977b96',\n",
      "               'type': 'Folder'}],\n",
      " 'links': [{'_id': '540e18b1-8dde-4dee-ba77-097662e969e0--foo-->4d4838e7-b8cd-41f1-9ac2-a294098694aa',\n",
      "            'links': {'_collaboration_roots': [],\n",
      "                      'self': '/api/v1/relationships/540e18b1-8dde-4dee-ba77-097662e969e0--foo-->4d4838e7-b8cd-41f1-9ac2-a294098694aa'},\n",
      "            'rel': 'foo',\n",
      "            'source_id': '540e18b1-8dde-4dee-ba77-097662e969e0',\n",
      "            'target_id': '4d4838e7-b8cd-41f1-9ac2-a294098694aa',\n",
      "            'type': 'Relation',\n",
      "            'user_id': '15cab930-1e24-0131-026c-22000a977b96'}]}\n"
     ]
    }
   ],
   "source": [
    "r.raise_for_status()\n",
    "pprint(r.json())"
   ]
  },
  {
   "cell_type": "markdown",
   "metadata": {},
   "source": [
    "### Following links"
   ]
  },
  {
   "cell_type": "code",
   "execution_count": 14,
   "metadata": {},
   "outputs": [
    {
     "name": "stdout",
     "output_type": "stream",
     "text": [
      "[{'_id': '4d4838e7-b8cd-41f1-9ac2-a294098694aa',\n",
      "  '_rev': '2-5a50090b72cc3d13c803f87f2eeb5a05',\n",
      "  'api_version': 4,\n",
      "  'attributes': {'label': 'api demo'},\n",
      "  'links': {'_collaboration_roots': [],\n",
      "            'children': {'related': '/api/v1/folders/4d4838e7-b8cd-41f1-9ac2-a294098694aa/links/children',\n",
      "                         'self': '/api/v1/folders/4d4838e7-b8cd-41f1-9ac2-a294098694aa/links/children/relationships'},\n",
      "            'files': {'related': '/api/v1/folders/4d4838e7-b8cd-41f1-9ac2-a294098694aa/links/files',\n",
      "                      'self': '/api/v1/folders/4d4838e7-b8cd-41f1-9ac2-a294098694aa/links/files/relationships'},\n",
      "            'notes': '/notes',\n",
      "            'parents': {'related': '/api/v1/folders/4d4838e7-b8cd-41f1-9ac2-a294098694aa/links/parents',\n",
      "                        'self': '/api/v1/folders/4d4838e7-b8cd-41f1-9ac2-a294098694aa/links/parents/relationships'},\n",
      "            'properties': '/properties',\n",
      "            'self': '/api/v1/folders/4d4838e7-b8cd-41f1-9ac2-a294098694aa',\n",
      "            'tags': '/tags',\n",
      "            'timeline-events': '/timeline-events'},\n",
      "  'owner': '15cab930-1e24-0131-026c-22000a977b96',\n",
      "  'type': 'Folder'}]\n"
     ]
    }
   ],
   "source": [
    "r = api.get(make_url('/api/v1/projects/540e18b1-8dde-4dee-ba77-097662e969e0/links/folders'))\n",
    "r.raise_for_status()\n",
    "targets = r.json()['folders']\n",
    "pprint(targets)"
   ]
  },
  {
   "cell_type": "code",
   "execution_count": 21,
   "metadata": {},
   "outputs": [
    {
     "name": "stdout",
     "output_type": "stream",
     "text": [
      "[{'_id': '4d4838e7-b8cd-41f1-9ac2-a294098694aa',\n",
      "  '_rev': '3-03e2742e04bef7681f327f0b4a00c9d0',\n",
      "  'api_version': 4,\n",
      "  'attributes': {'label': 'api demo'},\n",
      "  'links': {'_collaboration_roots': [],\n",
      "            'children': {'related': '/api/v1/folders/4d4838e7-b8cd-41f1-9ac2-a294098694aa/links/children',\n",
      "                         'self': '/api/v1/folders/4d4838e7-b8cd-41f1-9ac2-a294098694aa/links/children/relationships'},\n",
      "            'files': {'related': '/api/v1/folders/4d4838e7-b8cd-41f1-9ac2-a294098694aa/links/files',\n",
      "                      'self': '/api/v1/folders/4d4838e7-b8cd-41f1-9ac2-a294098694aa/links/files/relationships'},\n",
      "            'notes': '/notes',\n",
      "            'parents': {'related': '/api/v1/folders/4d4838e7-b8cd-41f1-9ac2-a294098694aa/links/parents',\n",
      "                        'self': '/api/v1/folders/4d4838e7-b8cd-41f1-9ac2-a294098694aa/links/parents/relationships'},\n",
      "            'properties': '/properties',\n",
      "            'self': '/api/v1/folders/4d4838e7-b8cd-41f1-9ac2-a294098694aa',\n",
      "            'tags': '/tags',\n",
      "            'timeline-events': '/timeline-events'},\n",
      "  'owner': '15cab930-1e24-0131-026c-22000a977b96',\n",
      "  'type': 'Folder'}]\n"
     ]
    }
   ],
   "source": [
    "r = api.get(make_url('/api/v1/projects/540e18b1-8dde-4dee-ba77-097662e969e0/links/foo'))\n",
    "r.raise_for_status()\n",
    "targets = r.json()['foo']\n",
    "pprint(targets)"
   ]
  }
 ],
 "metadata": {
  "kernelspec": {
   "display_name": "Python 3",
   "language": "python",
   "name": "python3"
  },
  "language_info": {
   "codemirror_mode": {
    "name": "ipython",
    "version": 3.0
   },
   "file_extension": ".py",
   "mimetype": "text/x-python",
   "name": "python",
   "nbconvert_exporter": "python",
   "pygments_lexer": "ipython3",
   "version": "3.4.3"
  }
 },
 "nbformat": 4,
 "nbformat_minor": 0
}