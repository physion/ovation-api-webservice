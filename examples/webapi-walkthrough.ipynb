{
 "cells": [
  {
   "cell_type": "code",
   "execution_count": 1,
   "metadata": {
    "collapsed": true
   },
   "outputs": [],
   "source": [
    "import requests\n",
    "import datetime\n",
    "import json\n",
    "import pytz\n",
    "\n",
    "from urllib.parse import urljoin \n",
    "from getpass import getpass\n",
    "from requests.auth import HTTPBasicAuth\n",
    "from pprint import pprint"
   ]
  },
  {
   "cell_type": "markdown",
   "metadata": {},
   "source": [
    "The Ovation web API is a RESTful API that you use with any HTTP client. In this tutorial, we'll use the Python `requests` package."
   ]
  },
  {
   "cell_type": "markdown",
   "metadata": {},
   "source": [
    "### Utilities"
   ]
  },
  {
   "cell_type": "code",
   "execution_count": 2,
   "metadata": {
    "collapsed": true
   },
   "outputs": [],
   "source": [
    "API_HOST = 'https://api-dev.ovation.io/' #'http://127.0.0.1:3000'\n",
    "def make_url(path, host=API_HOST):\n",
    "    return urljoin(host, path)"
   ]
  },
  {
   "cell_type": "code",
   "execution_count": 3,
   "metadata": {
    "collapsed": false
   },
   "outputs": [
    {
     "data": {
      "text/plain": [
       "'https://api-dev.ovation.io/api/v1/projects'"
      ]
     },
     "execution_count": 3,
     "metadata": {},
     "output_type": "execute_result"
    }
   ],
   "source": [
    "make_url('/api/v1/projects')"
   ]
  },
  {
   "cell_type": "markdown",
   "metadata": {},
   "source": [
    "### Credentials"
   ]
  },
  {
   "cell_type": "markdown",
   "metadata": {},
   "source": [
    "Enter your Ovation API key:"
   ]
  },
  {
   "cell_type": "code",
   "execution_count": 4,
   "metadata": {
    "collapsed": false
   },
   "outputs": [
    {
     "name": "stdout",
     "output_type": "stream",
     "text": [
      "API Key: ········\n"
     ]
    }
   ],
   "source": [
    "api_key = getpass(prompt=\"API Key: \")"
   ]
  },
  {
   "cell_type": "markdown",
   "metadata": {},
   "source": [
    "We create a `requests.Session` object for use with the Ovation API"
   ]
  },
  {
   "cell_type": "code",
   "execution_count": 5,
   "metadata": {
    "collapsed": true
   },
   "outputs": [],
   "source": [
    "def make_session(api_key=api_key):\n",
    "    auth_params = {'api-key' : api_key}\n",
    "    \n",
    "    api = requests.Session()\n",
    "    api.verify = True # Verify SSL certificates\n",
    "    api.headers['content-type'] = 'application/json'\n",
    "    api.headers['authorization'] = 'Bearer {}'.format(api_key)\n",
    "    \n",
    "    return api\n",
    "\n",
    "api = make_session(api_key)"
   ]
  },
  {
   "cell_type": "markdown",
   "metadata": {},
   "source": [
    "### Projects"
   ]
  },
  {
   "cell_type": "code",
   "execution_count": 6,
   "metadata": {
    "collapsed": false
   },
   "outputs": [
    {
     "data": {
      "text/plain": [
       "'https://api-dev.ovation.io/api/v1/projects'"
      ]
     },
     "execution_count": 6,
     "metadata": {},
     "output_type": "execute_result"
    }
   ],
   "source": [
    "make_url('/api/v1/projects')"
   ]
  },
  {
   "cell_type": "code",
   "execution_count": 7,
   "metadata": {
    "collapsed": true
   },
   "outputs": [],
   "source": [
    "r = api.get(make_url('/api/v1/projects'))\n",
    "r.raise_for_status()"
   ]
  },
  {
   "cell_type": "code",
   "execution_count": 8,
   "metadata": {
    "collapsed": true
   },
   "outputs": [],
   "source": [
    "projects = r.json()['projects']"
   ]
  },
  {
   "cell_type": "code",
   "execution_count": 9,
   "metadata": {
    "collapsed": false
   },
   "outputs": [
    {
     "data": {
      "text/plain": [
       "13"
      ]
     },
     "execution_count": 9,
     "metadata": {},
     "output_type": "execute_result"
    }
   ],
   "source": [
    "len(projects)"
   ]
  },
  {
   "cell_type": "code",
   "execution_count": 10,
   "metadata": {
    "collapsed": false
   },
   "outputs": [
    {
     "name": "stdout",
     "output_type": "stream",
     "text": [
      "{'_id': '3d058a54-837c-4b24-bf58-4b0bc09b4e76',\n",
      " '_rev': '3-64743c417f02ed110d2dc437189757ec',\n",
      " 'api_version': 4,\n",
      " 'attributes': {'comment': 'from-api!', 'name': 'demo-patient-1'},\n",
      " 'links': {'_collaboration_roots': [],\n",
      "           'files': {'related': '/api/v1/projects/3d058a54-837c-4b24-bf58-4b0bc09b4e76/links/files',\n",
      "                     'self': '/api/v1/projects/3d058a54-837c-4b24-bf58-4b0bc09b4e76/links/files/relationships'},\n",
      "           'folders': {'related': '/api/v1/projects/3d058a54-837c-4b24-bf58-4b0bc09b4e76/links/folders',\n",
      "                       'self': '/api/v1/projects/3d058a54-837c-4b24-bf58-4b0bc09b4e76/links/folders/relationships'},\n",
      "           'notes': '/notes',\n",
      "           'properties': '/properties',\n",
      "           'self': '/api/v1/projects/3d058a54-837c-4b24-bf58-4b0bc09b4e76',\n",
      "           'tags': '/tags',\n",
      "           'timeline-events': '/timeline-events'},\n",
      " 'owner': '15cab930-1e24-0131-026c-22000a977b96',\n",
      " 'type': 'Project'}\n"
     ]
    }
   ],
   "source": [
    "pprint(projects[0])"
   ]
  },
  {
   "cell_type": "code",
   "execution_count": 12,
   "metadata": {
    "collapsed": false
   },
   "outputs": [
    {
     "name": "stdout",
     "output_type": "stream",
     "text": [
      "{'_id': '52b6366a-1528-4bf9-a091-09c4e935d1cd',\n",
      " '_rev': '3-eec6d9c40436a57aca7d88e96f92cb54',\n",
      " 'api_version': 4,\n",
      " 'attributes': {'name': 'abby'},\n",
      " 'links': {'_collaboration_roots': ['52b6366a-1528-4bf9-a091-09c4e935d1cd'],\n",
      "           'files': {'related': '/api/v1/projects/52b6366a-1528-4bf9-a091-09c4e935d1cd/links/files',\n",
      "                     'self': '/api/v1/projects/52b6366a-1528-4bf9-a091-09c4e935d1cd/links/files/relationships'},\n",
      "           'folders': {'related': '/api/v1/projects/52b6366a-1528-4bf9-a091-09c4e935d1cd/links/folders',\n",
      "                       'self': '/api/v1/projects/52b6366a-1528-4bf9-a091-09c4e935d1cd/links/folders/relationships'},\n",
      "           'notes': '/notes',\n",
      "           'properties': '/properties',\n",
      "           'self': '/api/v1/projects/52b6366a-1528-4bf9-a091-09c4e935d1cd',\n",
      "           'tags': '/tags',\n",
      "           'timeline-events': '/timeline-events'},\n",
      " 'owner': '15cab930-1e24-0131-026c-22000a977b96',\n",
      " 'type': 'Project'}\n"
     ]
    }
   ],
   "source": [
    "project = projects[1]\n",
    "pprint(project)"
   ]
  },
  {
   "cell_type": "markdown",
   "metadata": {},
   "source": [
    "## Add a folder"
   ]
  },
  {
   "cell_type": "markdown",
   "metadata": {},
   "source": [
    "To add a 'child' element, post a new entity descriptor to the parent. In this case, we create a `Folder` in the project by sending a `POST` to the `Project`"
   ]
  },
  {
   "cell_type": "code",
   "execution_count": 12,
   "metadata": {
    "collapsed": false
   },
   "outputs": [
    {
     "name": "stdout",
     "output_type": "stream",
     "text": [
      "{'project': {'_id': '540e18b1-8dde-4dee-ba77-097662e969e0',\n",
      "             '_rev': '1-c1ce2942b179ff126fffe0d6743a47e4',\n",
      "             'api_version': 4,\n",
      "             'attributes': {'label': 'speed test'},\n",
      "             'links': {'_collaboration_roots': [],\n",
      "                       'files': {'related': '/api/v1/projects/540e18b1-8dde-4dee-ba77-097662e969e0/links/files',\n",
      "                                 'self': '/api/v1/projects/540e18b1-8dde-4dee-ba77-097662e969e0/links/files/relationships'},\n",
      "                       'folders': {'related': '/api/v1/projects/540e18b1-8dde-4dee-ba77-097662e969e0/links/folders',\n",
      "                                   'self': '/api/v1/projects/540e18b1-8dde-4dee-ba77-097662e969e0/links/folders/relationships'},\n",
      "                       'notes': '/notes',\n",
      "                       'properties': '/properties',\n",
      "                       'self': '/api/v1/projects/540e18b1-8dde-4dee-ba77-097662e969e0',\n",
      "                       'tags': '/tags',\n",
      "                       'timeline-events': '/timeline-events'},\n",
      "             'owner': '15cab930-1e24-0131-026c-22000a977b96',\n",
      "             'type': 'Project'}}\n"
     ]
    }
   ],
   "source": [
    "pprint(api.get(make_url(\"/api/v1/projects/540e18b1-8dde-4dee-ba77-097662e969e0\")).json())"
   ]
  },
  {
   "cell_type": "code",
   "execution_count": 13,
   "metadata": {
    "collapsed": false
   },
   "outputs": [
    {
     "name": "stdout",
     "output_type": "stream",
     "text": [
      "{'entities': [{'_id': '45f34b3d-0a07-491f-91d0-a29b518e26e0',\n",
      "               'api_version': 4,\n",
      "               'attributes': {'label': 'api demo'},\n",
      "               'links': {'_collaboration_roots': ['52b6366a-1528-4bf9-a091-09c4e935d1cd']},\n",
      "               'owner': '15cab930-1e24-0131-026c-22000a977b96',\n",
      "               'type': 'Folder'}],\n",
      " 'links': [{'_id': '52b6366a-1528-4bf9-a091-09c4e935d1cd--folders-->45f34b3d-0a07-491f-91d0-a29b518e26e0',\n",
      "            'inverse_rel': 'parents',\n",
      "            'links': {'_collaboration_roots': ['52b6366a-1528-4bf9-a091-09c4e935d1cd',\n",
      "                                               '52b6366a-1528-4bf9-a091-09c4e935d1cd'],\n",
      "                      'self': '/api/v1/relationships/52b6366a-1528-4bf9-a091-09c4e935d1cd--folders-->45f34b3d-0a07-491f-91d0-a29b518e26e0'},\n",
      "            'rel': 'folders',\n",
      "            'source_id': '52b6366a-1528-4bf9-a091-09c4e935d1cd',\n",
      "            'target_id': '45f34b3d-0a07-491f-91d0-a29b518e26e0',\n",
      "            'type': 'Relation',\n",
      "            'user_id': '15cab930-1e24-0131-026c-22000a977b96'}],\n",
      " 'updates': [{'_id': '52b6366a-1528-4bf9-a091-09c4e935d1cd',\n",
      "              '_rev': '3-eec6d9c40436a57aca7d88e96f92cb54',\n",
      "              'api_version': 4,\n",
      "              'attributes': {'name': 'abby'},\n",
      "              'links': {'_collaboration_roots': ['52b6366a-1528-4bf9-a091-09c4e935d1cd'],\n",
      "                        'files': {'related': '/api/v1/projects/52b6366a-1528-4bf9-a091-09c4e935d1cd/links/files',\n",
      "                                  'self': '/api/v1/projects/52b6366a-1528-4bf9-a091-09c4e935d1cd/links/files/relationships'},\n",
      "                        'folders': {'related': '/api/v1/projects/52b6366a-1528-4bf9-a091-09c4e935d1cd/links/folders',\n",
      "                                    'self': '/api/v1/projects/52b6366a-1528-4bf9-a091-09c4e935d1cd/links/folders/relationships'},\n",
      "                        'notes': '/notes',\n",
      "                        'properties': '/properties',\n",
      "                        'self': '/api/v1/projects/52b6366a-1528-4bf9-a091-09c4e935d1cd',\n",
      "                        'tags': '/tags',\n",
      "                        'timeline-events': '/timeline-events'},\n",
      "              'owner': '15cab930-1e24-0131-026c-22000a977b96',\n",
      "              'type': 'Project'},\n",
      "             {'_id': '45f34b3d-0a07-491f-91d0-a29b518e26e0',\n",
      "              '_rev': '1-a0679a83eff4dccf1afc0e19185f0e52',\n",
      "              'api_version': 4,\n",
      "              'attributes': {'label': 'api demo'},\n",
      "              'links': {'_collaboration_roots': ['52b6366a-1528-4bf9-a091-09c4e935d1cd'],\n",
      "                        'children': {'related': '/api/v1/folders/45f34b3d-0a07-491f-91d0-a29b518e26e0/links/children',\n",
      "                                     'self': '/api/v1/folders/45f34b3d-0a07-491f-91d0-a29b518e26e0/links/children/relationships'},\n",
      "                        'files': {'related': '/api/v1/folders/45f34b3d-0a07-491f-91d0-a29b518e26e0/links/files',\n",
      "                                  'self': '/api/v1/folders/45f34b3d-0a07-491f-91d0-a29b518e26e0/links/files/relationships'},\n",
      "                        'notes': '/notes',\n",
      "                        'parents': {'related': '/api/v1/folders/45f34b3d-0a07-491f-91d0-a29b518e26e0/links/parents',\n",
      "                                    'self': '/api/v1/folders/45f34b3d-0a07-491f-91d0-a29b518e26e0/links/parents/relationships'},\n",
      "                        'properties': '/properties',\n",
      "                        'self': '/api/v1/folders/45f34b3d-0a07-491f-91d0-a29b518e26e0',\n",
      "                        'tags': '/tags',\n",
      "                        'timeline-events': '/timeline-events'},\n",
      "              'owner': '15cab930-1e24-0131-026c-22000a977b96',\n",
      "              'type': 'Folder'}]}\n"
     ]
    }
   ],
   "source": [
    "folders = [{\"type\": \"Folder\", \"attributes\":{\"label\": \"api demo\"}}]\n",
    "r = api.post(make_url(\"/api/v1/projects/{}\".format(project['_id'])), data=json.dumps(folders))\n",
    "r.raise_for_status()\n",
    "pprint(r.json())"
   ]
  },
  {
   "cell_type": "code",
   "execution_count": 14,
   "metadata": {
    "collapsed": false
   },
   "outputs": [
    {
     "name": "stdout",
     "output_type": "stream",
     "text": [
      "{'_id': '45f34b3d-0a07-491f-91d0-a29b518e26e0',\n",
      " 'api_version': 4,\n",
      " 'attributes': {'label': 'api demo'},\n",
      " 'links': {'_collaboration_roots': ['52b6366a-1528-4bf9-a091-09c4e935d1cd']},\n",
      " 'owner': '15cab930-1e24-0131-026c-22000a977b96',\n",
      " 'type': 'Folder'}\n"
     ]
    }
   ],
   "source": [
    "folder = r.json()['entities'][0]\n",
    "pprint(folder)"
   ]
  },
  {
   "cell_type": "markdown",
   "metadata": {},
   "source": [
    "## Creating links"
   ]
  },
  {
   "cell_type": "code",
   "execution_count": 15,
   "metadata": {
    "collapsed": true
   },
   "outputs": [],
   "source": [
    "link_url = make_url('/api/v1/projects/{}/links/foo/relationships'.format(project['_id']))\n",
    "links = [{'target_id': folder['_id']}]\n",
    "r = api.post(link_url, data=json.dumps(links))"
   ]
  },
  {
   "cell_type": "code",
   "execution_count": 16,
   "metadata": {
    "collapsed": false
   },
   "outputs": [
    {
     "name": "stdout",
     "output_type": "stream",
     "text": [
      "{'entities': [{'_id': '52b6366a-1528-4bf9-a091-09c4e935d1cd',\n",
      "               '_rev': '4-8c45666c0e498fabb4923bb83aab9750',\n",
      "               'api_version': 4,\n",
      "               'attributes': {'name': 'abby'},\n",
      "               'links': {'_collaboration_roots': ['52b6366a-1528-4bf9-a091-09c4e935d1cd'],\n",
      "                         'files': {'related': '/api/v1/projects/52b6366a-1528-4bf9-a091-09c4e935d1cd/links/files',\n",
      "                                   'self': '/api/v1/projects/52b6366a-1528-4bf9-a091-09c4e935d1cd/links/files/relationships'},\n",
      "                         'folders': {'related': '/api/v1/projects/52b6366a-1528-4bf9-a091-09c4e935d1cd/links/folders',\n",
      "                                     'self': '/api/v1/projects/52b6366a-1528-4bf9-a091-09c4e935d1cd/links/folders/relationships'},\n",
      "                         'notes': '/notes',\n",
      "                         'properties': '/properties',\n",
      "                         'self': '/api/v1/projects/52b6366a-1528-4bf9-a091-09c4e935d1cd',\n",
      "                         'tags': '/tags',\n",
      "                         'timeline-events': '/timeline-events'},\n",
      "               'owner': '15cab930-1e24-0131-026c-22000a977b96',\n",
      "               'type': 'Project'},\n",
      "              {'_id': '45f34b3d-0a07-491f-91d0-a29b518e26e0',\n",
      "               '_rev': '2-08cd3bae70e58a3ac07f0639c274b767',\n",
      "               'api_version': 4,\n",
      "               'attributes': {'label': 'api demo'},\n",
      "               'links': {'_collaboration_roots': ['52b6366a-1528-4bf9-a091-09c4e935d1cd'],\n",
      "                         'children': {'related': '/api/v1/folders/45f34b3d-0a07-491f-91d0-a29b518e26e0/links/children',\n",
      "                                      'self': '/api/v1/folders/45f34b3d-0a07-491f-91d0-a29b518e26e0/links/children/relationships'},\n",
      "                         'files': {'related': '/api/v1/folders/45f34b3d-0a07-491f-91d0-a29b518e26e0/links/files',\n",
      "                                   'self': '/api/v1/folders/45f34b3d-0a07-491f-91d0-a29b518e26e0/links/files/relationships'},\n",
      "                         'notes': '/notes',\n",
      "                         'parents': {'related': '/api/v1/folders/45f34b3d-0a07-491f-91d0-a29b518e26e0/links/parents',\n",
      "                                     'self': '/api/v1/folders/45f34b3d-0a07-491f-91d0-a29b518e26e0/links/parents/relationships'},\n",
      "                         'properties': '/properties',\n",
      "                         'self': '/api/v1/folders/45f34b3d-0a07-491f-91d0-a29b518e26e0',\n",
      "                         'tags': '/tags',\n",
      "                         'timeline-events': '/timeline-events'},\n",
      "               'owner': '15cab930-1e24-0131-026c-22000a977b96',\n",
      "               'type': 'Folder'}],\n",
      " 'links': [{'_id': '52b6366a-1528-4bf9-a091-09c4e935d1cd--foo-->45f34b3d-0a07-491f-91d0-a29b518e26e0',\n",
      "            'links': {'_collaboration_roots': ['52b6366a-1528-4bf9-a091-09c4e935d1cd',\n",
      "                                               '52b6366a-1528-4bf9-a091-09c4e935d1cd'],\n",
      "                      'self': '/api/v1/relationships/52b6366a-1528-4bf9-a091-09c4e935d1cd--foo-->45f34b3d-0a07-491f-91d0-a29b518e26e0'},\n",
      "            'rel': 'foo',\n",
      "            'source_id': '52b6366a-1528-4bf9-a091-09c4e935d1cd',\n",
      "            'target_id': '45f34b3d-0a07-491f-91d0-a29b518e26e0',\n",
      "            'type': 'Relation',\n",
      "            'user_id': '15cab930-1e24-0131-026c-22000a977b96'}]}\n"
     ]
    }
   ],
   "source": [
    "r.raise_for_status()\n",
    "pprint(r.json())"
   ]
  },
  {
   "cell_type": "markdown",
   "metadata": {},
   "source": [
    "### Following links"
   ]
  },
  {
   "cell_type": "code",
   "execution_count": 17,
   "metadata": {
    "collapsed": false
   },
   "outputs": [
    {
     "name": "stdout",
     "output_type": "stream",
     "text": [
      "[{'_id': '45f34b3d-0a07-491f-91d0-a29b518e26e0',\n",
      "  '_rev': '3-dab5a5774423fc0c54afa6f0081cf998',\n",
      "  'api_version': 4,\n",
      "  'attributes': {'label': 'api demo'},\n",
      "  'links': {'_collaboration_roots': ['52b6366a-1528-4bf9-a091-09c4e935d1cd'],\n",
      "            'children': {'related': '/api/v1/folders/45f34b3d-0a07-491f-91d0-a29b518e26e0/links/children',\n",
      "                         'self': '/api/v1/folders/45f34b3d-0a07-491f-91d0-a29b518e26e0/links/children/relationships'},\n",
      "            'files': {'related': '/api/v1/folders/45f34b3d-0a07-491f-91d0-a29b518e26e0/links/files',\n",
      "                      'self': '/api/v1/folders/45f34b3d-0a07-491f-91d0-a29b518e26e0/links/files/relationships'},\n",
      "            'notes': '/notes',\n",
      "            'parents': {'related': '/api/v1/folders/45f34b3d-0a07-491f-91d0-a29b518e26e0/links/parents',\n",
      "                        'self': '/api/v1/folders/45f34b3d-0a07-491f-91d0-a29b518e26e0/links/parents/relationships'},\n",
      "            'properties': '/properties',\n",
      "            'self': '/api/v1/folders/45f34b3d-0a07-491f-91d0-a29b518e26e0',\n",
      "            'tags': '/tags',\n",
      "            'timeline-events': '/timeline-events'},\n",
      "  'owner': '15cab930-1e24-0131-026c-22000a977b96',\n",
      "  'type': 'Folder'}]\n"
     ]
    }
   ],
   "source": [
    "r = api.get(make_url('/api/v1/projects/{}/links/folders'.format(project['_id'])))\n",
    "r.raise_for_status()\n",
    "targets = r.json()['folders']\n",
    "pprint(targets)"
   ]
  },
  {
   "cell_type": "code",
   "execution_count": 18,
   "metadata": {
    "collapsed": false
   },
   "outputs": [
    {
     "name": "stdout",
     "output_type": "stream",
     "text": [
      "[{'_id': '45f34b3d-0a07-491f-91d0-a29b518e26e0',\n",
      "  '_rev': '3-dab5a5774423fc0c54afa6f0081cf998',\n",
      "  'api_version': 4,\n",
      "  'attributes': {'label': 'api demo'},\n",
      "  'links': {'_collaboration_roots': ['52b6366a-1528-4bf9-a091-09c4e935d1cd'],\n",
      "            'children': {'related': '/api/v1/folders/45f34b3d-0a07-491f-91d0-a29b518e26e0/links/children',\n",
      "                         'self': '/api/v1/folders/45f34b3d-0a07-491f-91d0-a29b518e26e0/links/children/relationships'},\n",
      "            'files': {'related': '/api/v1/folders/45f34b3d-0a07-491f-91d0-a29b518e26e0/links/files',\n",
      "                      'self': '/api/v1/folders/45f34b3d-0a07-491f-91d0-a29b518e26e0/links/files/relationships'},\n",
      "            'notes': '/notes',\n",
      "            'parents': {'related': '/api/v1/folders/45f34b3d-0a07-491f-91d0-a29b518e26e0/links/parents',\n",
      "                        'self': '/api/v1/folders/45f34b3d-0a07-491f-91d0-a29b518e26e0/links/parents/relationships'},\n",
      "            'properties': '/properties',\n",
      "            'self': '/api/v1/folders/45f34b3d-0a07-491f-91d0-a29b518e26e0',\n",
      "            'tags': '/tags',\n",
      "            'timeline-events': '/timeline-events'},\n",
      "  'owner': '15cab930-1e24-0131-026c-22000a977b96',\n",
      "  'type': 'Folder'}]\n"
     ]
    }
   ],
   "source": [
    "r = api.get(make_url('/api/v1/projects/{}/links/foo'.format(project['_id'])))\n",
    "r.raise_for_status()\n",
    "targets = r.json()['foo']\n",
    "pprint(targets)"
   ]
  },
  {
   "cell_type": "markdown",
   "metadata": {},
   "source": [
    "## Tags"
   ]
  },
  {
   "cell_type": "markdown",
   "metadata": {},
   "source": [
    "### Add a tag"
   ]
  },
  {
   "cell_type": "code",
   "execution_count": 27,
   "metadata": {
    "collapsed": false
   },
   "outputs": [
    {
     "name": "stdout",
     "output_type": "stream",
     "text": [
      "'https://api-dev.ovation.io/api/v1/entities/45f34b3d-0a07-491f-91d0-a29b518e26e0/annotations/tags'\n"
     ]
    }
   ],
   "source": [
    "tags_url = make_url('/api/v1/entities/{}/annotations/tags'.format(folder['_id'])) #folder['links']\n",
    "pprint(tags_url)"
   ]
  },
  {
   "cell_type": "code",
   "execution_count": 28,
   "metadata": {
    "collapsed": false
   },
   "outputs": [],
   "source": [
    "r = api.post(tags_url, data=json.dumps([{'tag': 'whoop'}]))\n",
    "r.raise_for_status()"
   ]
  },
  {
   "cell_type": "markdown",
   "metadata": {},
   "source": [
    "### Get tags"
   ]
  },
  {
   "cell_type": "code",
   "execution_count": 29,
   "metadata": {
    "collapsed": false
   },
   "outputs": [
    {
     "name": "stdout",
     "output_type": "stream",
     "text": [
      "{'tags': {'45f34b3d-0a07-491f-91d0-a29b518e26e0': {'15cab930-1e24-0131-026c-22000a977b96': [{'_id': '03d477e0f13ca1b90e7e967fbf0610da',\n",
      "                                                                                             '_rev': '1-02b11c19ab451d175b801fb4d3496188',\n",
      "                                                                                             'annotation': {'tag': 'whoop'},\n",
      "                                                                                             'annotation_type': 'tags',\n",
      "                                                                                             'entity': '45f34b3d-0a07-491f-91d0-a29b518e26e0',\n",
      "                                                                                             'links': {'_collaboration_roots': ['52b6366a-1528-4bf9-a091-09c4e935d1cd']},\n",
      "                                                                                             'type': 'Annotation',\n",
      "                                                                                             'user': '15cab930-1e24-0131-026c-22000a977b96'},\n",
      "                                                                                            {'_id': '4932e7b74eb0b23d821d7219a74b8634',\n",
      "                                                                                             '_rev': '1-02b11c19ab451d175b801fb4d3496188',\n",
      "                                                                                             'annotation': {'tag': 'whoop'},\n",
      "                                                                                             'annotation_type': 'tags',\n",
      "                                                                                             'entity': '45f34b3d-0a07-491f-91d0-a29b518e26e0',\n",
      "                                                                                             'links': {'_collaboration_roots': ['52b6366a-1528-4bf9-a091-09c4e935d1cd']},\n",
      "                                                                                             'type': 'Annotation',\n",
      "                                                                                             'user': '15cab930-1e24-0131-026c-22000a977b96'}]}}}\n"
     ]
    }
   ],
   "source": [
    "r = api.get(tags_url)\n",
    "r.raise_for_status()\n",
    "pprint(r.json())"
   ]
  },
  {
   "cell_type": "code",
   "execution_count": null,
   "metadata": {
    "collapsed": true
   },
   "outputs": [],
   "source": []
  }
 ],
 "metadata": {
  "kernelspec": {
   "display_name": "Python 3",
   "language": "python",
   "name": "python3"
  },
  "language_info": {
   "codemirror_mode": {
    "name": "ipython",
    "version": 3
   },
   "file_extension": ".py",
   "mimetype": "text/x-python",
   "name": "python",
   "nbconvert_exporter": "python",
   "pygments_lexer": "ipython3",
   "version": "3.5.0"
  }
 },
 "nbformat": 4,
 "nbformat_minor": 0
}
