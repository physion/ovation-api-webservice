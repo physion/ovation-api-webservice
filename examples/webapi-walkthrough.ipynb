{
 "cells": [
  {
   "cell_type": "code",
   "execution_count": 115,
   "metadata": {
    "collapsed": true
   },
   "outputs": [],
   "source": [
    "import requests\n",
    "import pprint as pp\n",
    "import datetime\n",
    "import json\n",
    "\n",
    "from urllib.parse import urljoin \n",
    "from getpass import getpass\n",
    "from requests.auth import HTTPBasicAuth"
   ]
  },
  {
   "cell_type": "markdown",
   "metadata": {},
   "source": [
    "The Ovation web API is a RESTful API that you use with any HTTP client. In this tutorial, we'll use the Python `requests` package."
   ]
  },
  {
   "cell_type": "markdown",
   "metadata": {},
   "source": [
    "### Utilities"
   ]
  },
  {
   "cell_type": "code",
   "execution_count": 23,
   "metadata": {
    "collapsed": true
   },
   "outputs": [],
   "source": [
    "API_HOST = 'http://127.0.0.1:3000' #'https://api-dev.ovation.io/'\n",
    "def make_url(path, host=API_HOST):\n",
    "    return urljoin(host, path)"
   ]
  },
  {
   "cell_type": "code",
   "execution_count": 14,
   "metadata": {
    "collapsed": false
   },
   "outputs": [
    {
     "data": {
      "text/plain": [
       "'http://0.0.0.0:3000/api/v1/projects'"
      ]
     },
     "execution_count": 14,
     "metadata": {},
     "output_type": "execute_result"
    }
   ],
   "source": [
    "make_url('/api/v1/projects')"
   ]
  },
  {
   "cell_type": "markdown",
   "metadata": {},
   "source": [
    "### Credentials"
   ]
  },
  {
   "cell_type": "markdown",
   "metadata": {},
   "source": [
    "Enter your Ovation API key:"
   ]
  },
  {
   "cell_type": "code",
   "execution_count": 16,
   "metadata": {
    "collapsed": false
   },
   "outputs": [
    {
     "name": "stdout",
     "output_type": "stream",
     "text": [
      "API Key: ········\n"
     ]
    }
   ],
   "source": [
    "api_key = getpass(prompt=\"API Key: \")"
   ]
  },
  {
   "cell_type": "markdown",
   "metadata": {},
   "source": [
    "We create a `requests.Session` object for use with the Ovation API"
   ]
  },
  {
   "cell_type": "code",
   "execution_count": 34,
   "metadata": {
    "collapsed": true
   },
   "outputs": [],
   "source": [
    "def make_session(api_key=api_key):\n",
    "    auth_params = {'api-key' : api_key}\n",
    "    \n",
    "    api = requests.Session()\n",
    "    api.verify = True # Verify SSL certificates\n",
    "    api.headers['content-type'] = 'application/json'\n",
    "    api.headers['authorization'] = 'Token token={}'.format(api_key)\n",
    "    \n",
    "    return api\n",
    "\n",
    "api = make_session(api_key)"
   ]
  },
  {
   "cell_type": "markdown",
   "metadata": {},
   "source": [
    "### Projects"
   ]
  },
  {
   "cell_type": "code",
   "execution_count": 77,
   "metadata": {
    "collapsed": false
   },
   "outputs": [
    {
     "data": {
      "text/plain": [
       "'http://127.0.0.1:3000/api/v1/projects'"
      ]
     },
     "execution_count": 77,
     "metadata": {},
     "output_type": "execute_result"
    }
   ],
   "source": [
    "make_url('/api/v1/projects')"
   ]
  },
  {
   "cell_type": "code",
   "execution_count": 121,
   "metadata": {
    "collapsed": false
   },
   "outputs": [],
   "source": [
    "r = api.get(make_url('/api/v1/projects'))\n",
    "r.raise_for_status()"
   ]
  },
  {
   "cell_type": "code",
   "execution_count": 122,
   "metadata": {
    "collapsed": false
   },
   "outputs": [],
   "source": [
    "projects = r.json()['projects']"
   ]
  },
  {
   "cell_type": "code",
   "execution_count": 123,
   "metadata": {
    "collapsed": false
   },
   "outputs": [
    {
     "data": {
      "text/plain": [
       "10"
      ]
     },
     "execution_count": 123,
     "metadata": {},
     "output_type": "execute_result"
    }
   ],
   "source": [
    "len(projects)"
   ]
  },
  {
   "cell_type": "code",
   "execution_count": 124,
   "metadata": {
    "collapsed": false
   },
   "outputs": [
    {
     "name": "stdout",
     "output_type": "stream",
     "text": [
      "{'_id': '52b6366a-1528-4bf9-a091-09c4e935d1cd',\n",
      " '_rev': '1-90c4459b197e1917c171d0cf38ee694c',\n",
      " 'attributes': {'name': 'abby'},\n",
      " 'links': {'_collaboration_roots': ['52b6366a-1528-4bf9-a091-09c4e935d1cd'],\n",
      "           'analysis_records': '/api/v1/entities/52b6366a-1528-4bf9-a091-09c4e935d1cd/links/analysis_records',\n",
      "           'experiments': '/api/v1/entities/52b6366a-1528-4bf9-a091-09c4e935d1cd/links/experiments',\n",
      "           'notes': '/api/v1/entities/52b6366a-1528-4bf9-a091-09c4e935d1cd/annotations/notes',\n",
      "           'owner': '/api/v1/entities/52b6366a-1528-4bf9-a091-09c4e935d1cd/links/owner',\n",
      "           'properties': '/api/v1/entities/52b6366a-1528-4bf9-a091-09c4e935d1cd/annotations/properties',\n",
      "           'self': '/api/v1/entities/52b6366a-1528-4bf9-a091-09c4e935d1cd',\n",
      "           'tags': '/api/v1/entities/52b6366a-1528-4bf9-a091-09c4e935d1cd/annotations/tags',\n",
      "           'timeline-events': '/api/v1/entities/52b6366a-1528-4bf9-a091-09c4e935d1cd/annotations/timeline-events'},\n",
      " 'named_links': {},\n",
      " 'type': 'Project'}\n"
     ]
    }
   ],
   "source": [
    "pp.pprint(projects[0])"
   ]
  },
  {
   "cell_type": "code",
   "execution_count": 125,
   "metadata": {
    "collapsed": false
   },
   "outputs": [
    {
     "name": "stdout",
     "output_type": "stream",
     "text": [
      "{'_id': '647ee703-d6ee-44ba-ac9f-a9e6c87e3301',\n",
      " '_rev': '14-7f659152074eb5d9477f85516551b23d',\n",
      " 'attributes': {'name': 'sftp-upload-test'},\n",
      " 'links': {'_collaboration_roots': ['647ee703-d6ee-44ba-ac9f-a9e6c87e3301'],\n",
      "           'analysis_records': '/api/v1/entities/647ee703-d6ee-44ba-ac9f-a9e6c87e3301/links/analysis_records',\n",
      "           'experiments': '/api/v1/entities/647ee703-d6ee-44ba-ac9f-a9e6c87e3301/links/experiments',\n",
      "           'notes': '/api/v1/entities/647ee703-d6ee-44ba-ac9f-a9e6c87e3301/links/notes',\n",
      "           'owner': '/api/v1/entities/647ee703-d6ee-44ba-ac9f-a9e6c87e3301/links/owner',\n",
      "           'properties': '/api/v1/entities/647ee703-d6ee-44ba-ac9f-a9e6c87e3301/links/properties',\n",
      "           'self': '/api/v1/entities/647ee703-d6ee-44ba-ac9f-a9e6c87e3301',\n",
      "           'tags': '/api/v1/entities/647ee703-d6ee-44ba-ac9f-a9e6c87e3301/links/tags',\n",
      "           'timeline-events': '/api/v1/entities/647ee703-d6ee-44ba-ac9f-a9e6c87e3301/links/timeline-events'},\n",
      " 'named_links': {},\n",
      " 'type': 'Project'}\n"
     ]
    }
   ],
   "source": [
    "pp.pprint(projects[1])"
   ]
  },
  {
   "cell_type": "markdown",
   "metadata": {},
   "source": [
    "## Creating links"
   ]
  },
  {
   "cell_type": "code",
   "execution_count": 157,
   "metadata": {
    "collapsed": false
   },
   "outputs": [
    {
     "name": "stdout",
     "output_type": "stream",
     "text": [
      "{'entities': [{'_id': '52b6366a-1528-4bf9-a091-09c4e935d1cd',\n",
      "               '_rev': '2-69dbfca3c25590f089e9bcf2c6ccedc8',\n",
      "               'api_version': 4,\n",
      "               'attributes': {'name': 'abby'},\n",
      "               'links': {'_collaboration_roots': ['52b6366a-1528-4bf9-a091-09c4e935d1cd'],\n",
      "                         'analysis_records': '/api/v1/entities/52b6366a-1528-4bf9-a091-09c4e935d1cd/links/analysis_records',\n",
      "                         'experiments': '/api/v1/entities/52b6366a-1528-4bf9-a091-09c4e935d1cd/links/experiments',\n",
      "                         'notes': '/api/v1/entities/52b6366a-1528-4bf9-a091-09c4e935d1cd/links/notes',\n",
      "                         'owner': '/api/v1/entities/52b6366a-1528-4bf9-a091-09c4e935d1cd/links/owner',\n",
      "                         'properties': '/api/v1/entities/52b6366a-1528-4bf9-a091-09c4e935d1cd/links/properties',\n",
      "                         'self': '/api/v1/entities/52b6366a-1528-4bf9-a091-09c4e935d1cd',\n",
      "                         'sftp': '/api/v1/entities/52b6366a-1528-4bf9-a091-09c4e935d1cd/links/sftp',\n",
      "                         'tags': '/api/v1/entities/52b6366a-1528-4bf9-a091-09c4e935d1cd/links/tags',\n",
      "                         'timeline-events': '/api/v1/entities/52b6366a-1528-4bf9-a091-09c4e935d1cd/links/timeline-events'},\n",
      "               'named_links': {},\n",
      "               'owner': '15cab930-1e24-0131-026c-22000a977b96',\n",
      "               'type': 'Project'},\n",
      "              {'_id': '647ee703-d6ee-44ba-ac9f-a9e6c87e3301',\n",
      "               '_rev': '16-f8b6591a6b680037253dc67a21b844f8',\n",
      "               'api_version': 4,\n",
      "               'attributes': {'name': 'sftp-upload-test'},\n",
      "               'links': {'_collaboration_roots': ['52b6366a-1528-4bf9-a091-09c4e935d1cd',\n",
      "                                                  '647ee703-d6ee-44ba-ac9f-a9e6c87e3301'],\n",
      "                         'analysis_records': '/api/v1/entities/647ee703-d6ee-44ba-ac9f-a9e6c87e3301/links/analysis_records',\n",
      "                         'experiments': '/api/v1/entities/647ee703-d6ee-44ba-ac9f-a9e6c87e3301/links/experiments',\n",
      "                         'notes': '/api/v1/entities/647ee703-d6ee-44ba-ac9f-a9e6c87e3301/links/notes',\n",
      "                         'owner': '/api/v1/entities/647ee703-d6ee-44ba-ac9f-a9e6c87e3301/links/owner',\n",
      "                         'properties': '/api/v1/entities/647ee703-d6ee-44ba-ac9f-a9e6c87e3301/links/properties',\n",
      "                         'self': '/api/v1/entities/647ee703-d6ee-44ba-ac9f-a9e6c87e3301',\n",
      "                         'tags': '/api/v1/entities/647ee703-d6ee-44ba-ac9f-a9e6c87e3301/links/tags',\n",
      "                         'timeline-events': '/api/v1/entities/647ee703-d6ee-44ba-ac9f-a9e6c87e3301/links/timeline-events'},\n",
      "               'named_links': {},\n",
      "               'owner': '15cab930-1e24-0131-026c-22000a977b96',\n",
      "               'type': 'Project'}],\n",
      " 'links': [{'_id': '52b6366a-1528-4bf9-a091-09c4e935d1cd--sftp-->647ee703-d6ee-44ba-ac9f-a9e6c87e3301',\n",
      "            'rel': 'sftp',\n",
      "            'source_id': '52b6366a-1528-4bf9-a091-09c4e935d1cd',\n",
      "            'target_id': '647ee703-d6ee-44ba-ac9f-a9e6c87e3301',\n",
      "            'user_id': '15cab930-1e24-0131-026c-22000a977b96'}]}\n"
     ]
    }
   ],
   "source": [
    "links = [\n",
    "  {\"target_id\": projects[1]['_id']}\n",
    "]\n",
    "r = api.post(make_url('/api/v1/entities/52b6366a-1528-4bf9-a091-09c4e935d1cd/links/sftp'), data=json.dumps(links))\n",
    "r.raise_for_status()\n",
    "pp.pprint(r.json())"
   ]
  },
  {
   "cell_type": "code",
   "execution_count": 172,
   "metadata": {
    "collapsed": false
   },
   "outputs": [
    {
     "name": "stdout",
     "output_type": "stream",
     "text": [
      "{'sftp': [{'_id': '647ee703-d6ee-44ba-ac9f-a9e6c87e3301',\n",
      "           '_rev': '17-caee57966eb8f2cda9e68bb534ed71aa',\n",
      "           'api_version': 4,\n",
      "           'attributes': {'name': 'sftp-upload-test'},\n",
      "           'links': {'_collaboration_roots': ['52b6366a-1528-4bf9-a091-09c4e935d1cd',\n",
      "                                              '647ee703-d6ee-44ba-ac9f-a9e6c87e3301'],\n",
      "                     'analysis_records': '/api/v1/entities/647ee703-d6ee-44ba-ac9f-a9e6c87e3301/links/analysis_records',\n",
      "                     'experiments': '/api/v1/entities/647ee703-d6ee-44ba-ac9f-a9e6c87e3301/links/experiments',\n",
      "                     'notes': '/api/v1/entities/647ee703-d6ee-44ba-ac9f-a9e6c87e3301/links/notes',\n",
      "                     'owner': '/api/v1/entities/647ee703-d6ee-44ba-ac9f-a9e6c87e3301/links/owner',\n",
      "                     'properties': '/api/v1/entities/647ee703-d6ee-44ba-ac9f-a9e6c87e3301/links/properties',\n",
      "                     'self': '/api/v1/entities/647ee703-d6ee-44ba-ac9f-a9e6c87e3301',\n",
      "                     'tags': '/api/v1/entities/647ee703-d6ee-44ba-ac9f-a9e6c87e3301/links/tags',\n",
      "                     'timeline-events': '/api/v1/entities/647ee703-d6ee-44ba-ac9f-a9e6c87e3301/links/timeline-events'},\n",
      "           'named_links': {},\n",
      "           'owner': '15cab930-1e24-0131-026c-22000a977b96',\n",
      "           'type': 'Project'}]}\n"
     ]
    }
   ],
   "source": [
    "r = api.get(make_url('/api/v1/entities/52b6366a-1528-4bf9-a091-09c4e935d1cd/links/sftp'))\n",
    "pp.pprint(r.json())"
   ]
  },
  {
   "cell_type": "markdown",
   "metadata": {},
   "source": [
    "### Following links"
   ]
  },
  {
   "cell_type": "code",
   "execution_count": 84,
   "metadata": {
    "collapsed": false
   },
   "outputs": [],
   "source": [
    "r = api.get(make_url(projects[0]['links']['experiments']))\n",
    "r.raise_for_status()"
   ]
  },
  {
   "cell_type": "code",
   "execution_count": 85,
   "metadata": {
    "collapsed": false
   },
   "outputs": [
    {
     "name": "stdout",
     "output_type": "stream",
     "text": [
      "[]\n"
     ]
    }
   ],
   "source": [
    "experiments = r.json()['rel']\n",
    "pp.pprint(experiments)"
   ]
  },
  {
   "cell_type": "code",
   "execution_count": 72,
   "metadata": {
    "collapsed": false
   },
   "outputs": [
    {
     "ename": "IndexError",
     "evalue": "list index out of range",
     "output_type": "error",
     "traceback": [
      "\u001b[0;31m---------------------------------------------------------------------------\u001b[0m",
      "\u001b[0;31mIndexError\u001b[0m                                Traceback (most recent call last)",
      "\u001b[0;32m<ipython-input-72-2bf77f9d2ea2>\u001b[0m in \u001b[0;36m<module>\u001b[0;34m()\u001b[0m\n\u001b[0;32m----> 1\u001b[0;31m \u001b[0mexp\u001b[0m \u001b[0;34m=\u001b[0m \u001b[0mexperiments\u001b[0m\u001b[0;34m[\u001b[0m\u001b[0;36m0\u001b[0m\u001b[0;34m]\u001b[0m\u001b[0;34m\u001b[0m\u001b[0m\n\u001b[0m\u001b[1;32m      2\u001b[0m \u001b[0mpp\u001b[0m\u001b[0;34m.\u001b[0m\u001b[0mpprint\u001b[0m\u001b[0;34m(\u001b[0m\u001b[0mexp\u001b[0m\u001b[0;34m)\u001b[0m\u001b[0;34m\u001b[0m\u001b[0m\n",
      "\u001b[0;31mIndexError\u001b[0m: list index out of range"
     ]
    }
   ],
   "source": [
    "exp = experiments[0]\n",
    "pp.pprint(exp)"
   ]
  },
  {
   "cell_type": "code",
   "execution_count": 48,
   "metadata": {
    "collapsed": false
   },
   "outputs": [
    {
     "ename": "TypeError",
     "evalue": "string indices must be integers",
     "output_type": "error",
     "traceback": [
      "\u001b[0;31m---------------------------------------------------------------------------\u001b[0m",
      "\u001b[0;31mTypeError\u001b[0m                                 Traceback (most recent call last)",
      "\u001b[0;32m<ipython-input-48-3376fc36cf8a>\u001b[0m in \u001b[0;36m<module>\u001b[0;34m()\u001b[0m\n\u001b[1;32m      2\u001b[0m     \u001b[0mexperiments\u001b[0m \u001b[0;34m=\u001b[0m \u001b[0mapi\u001b[0m\u001b[0;34m.\u001b[0m\u001b[0mget\u001b[0m\u001b[0;34m(\u001b[0m\u001b[0mmake_url\u001b[0m\u001b[0;34m(\u001b[0m\u001b[0mp\u001b[0m\u001b[0;34m[\u001b[0m\u001b[0;34m'links'\u001b[0m\u001b[0;34m]\u001b[0m\u001b[0;34m[\u001b[0m\u001b[0;34m'experiments'\u001b[0m\u001b[0;34m]\u001b[0m\u001b[0;34m)\u001b[0m\u001b[0;34m)\u001b[0m\u001b[0;34m.\u001b[0m\u001b[0mjson\u001b[0m\u001b[0;34m(\u001b[0m\u001b[0;34m)\u001b[0m\u001b[0;34m\u001b[0m\u001b[0m\n\u001b[1;32m      3\u001b[0m     \u001b[0;32mfor\u001b[0m \u001b[0mexp\u001b[0m \u001b[0;32min\u001b[0m \u001b[0mexperiments\u001b[0m\u001b[0;34m:\u001b[0m\u001b[0;34m\u001b[0m\u001b[0m\n\u001b[0;32m----> 4\u001b[0;31m         \u001b[0mpp\u001b[0m\u001b[0;34m.\u001b[0m\u001b[0mpprint\u001b[0m\u001b[0;34m(\u001b[0m\u001b[0mapi\u001b[0m\u001b[0;34m.\u001b[0m\u001b[0mget\u001b[0m\u001b[0;34m(\u001b[0m\u001b[0mmake_url\u001b[0m\u001b[0;34m(\u001b[0m\u001b[0mexp\u001b[0m\u001b[0;34m[\u001b[0m\u001b[0;34m'links'\u001b[0m\u001b[0;34m]\u001b[0m\u001b[0;34m[\u001b[0m\u001b[0;34m'epoch_groups'\u001b[0m\u001b[0;34m]\u001b[0m\u001b[0;34m)\u001b[0m\u001b[0;34m)\u001b[0m\u001b[0;34m.\u001b[0m\u001b[0mjson\u001b[0m\u001b[0;34m(\u001b[0m\u001b[0;34m)\u001b[0m\u001b[0;34m)\u001b[0m\u001b[0;34m\u001b[0m\u001b[0m\n\u001b[0m\u001b[1;32m      5\u001b[0m         \u001b[0mpp\u001b[0m\u001b[0;34m.\u001b[0m\u001b[0mpprint\u001b[0m\u001b[0;34m(\u001b[0m\u001b[0mapi\u001b[0m\u001b[0;34m.\u001b[0m\u001b[0mget\u001b[0m\u001b[0;34m(\u001b[0m\u001b[0mmake_url\u001b[0m\u001b[0;34m(\u001b[0m\u001b[0mexp\u001b[0m\u001b[0;34m[\u001b[0m\u001b[0;34m'links'\u001b[0m\u001b[0;34m]\u001b[0m\u001b[0;34m[\u001b[0m\u001b[0;34m'epochs'\u001b[0m\u001b[0;34m]\u001b[0m\u001b[0;34m)\u001b[0m\u001b[0;34m)\u001b[0m\u001b[0;34m.\u001b[0m\u001b[0mjson\u001b[0m\u001b[0;34m(\u001b[0m\u001b[0;34m)\u001b[0m\u001b[0;34m)\u001b[0m\u001b[0;34m\u001b[0m\u001b[0m\n",
      "\u001b[0;31mTypeError\u001b[0m: string indices must be integers"
     ]
    }
   ],
   "source": [
    "for p in projects:\n",
    "    experiments = api.get(make_url(p['links']['experiments'])).json()\n",
    "    for exp in experiments:\n",
    "        pp.pprint(api.get(make_url(exp['links']['epoch_groups'])).json())\n",
    "        pp.pprint(api.get(make_url(exp['links']['epochs'])).json())"
   ]
  },
  {
   "cell_type": "markdown",
   "metadata": {},
   "source": [
    "### Adding analysis record"
   ]
  },
  {
   "cell_type": "code",
   "execution_count": 92,
   "metadata": {
    "collapsed": false
   },
   "outputs": [
    {
     "data": {
      "text/plain": [
       "[{'_id': '0fd8fd6e-d996-4595-a547-745e949c98af',\n",
       "  'links': {'self': '/api/v1/entities/0fd8fd6e-d996-4595-a547-745e949c98af',\n",
       "   'parent': '/api/v1/entities/0fd8fd6e-d996-4595-a547-745e949c98af/links/parent',\n",
       "   'owner': '/api/v1/entities/0fd8fd6e-d996-4595-a547-745e949c98af/links/owner',\n",
       "   '_collaboration_roots': '/api/v1/entities/0fd8fd6e-d996-4595-a547-745e949c98af/links/_collaboration_roots'},\n",
       "  'attributes': {'name': 'Tutorial Analysis',\n",
       "   'date': '2014-10-10T13:32:26.077167-04:00'},\n",
       "  'type': 'AnalysisRecord'}]"
      ]
     },
     "execution_count": 92,
     "metadata": {},
     "output_type": "execute_result"
    }
   ],
   "source": [
    "# TODO we should define the types somewhere\n",
    "est = pytz.timezone('US/Eastern')\n",
    "d = datetime.datetime.now(est)\n",
    "\n",
    "new_record = {'type': 'AnalysisRecord',\n",
    "              'attributes': {'name': 'Tutorial Analysis',\n",
    "                              'date': d.isoformat()},\n",
    "              'links': {'parent': [{'target_id': projects[0]['_id'],\n",
    "                                    'inverse_rel': 'analysis_records'}]}\n",
    "              }\n",
    "\n",
    "r = api.post(make_url('/api/v1/entities'), data=json.dumps(new_record))\n",
    "r.json()"
   ]
  },
  {
   "cell_type": "code",
   "execution_count": 93,
   "metadata": {
    "collapsed": true
   },
   "outputs": [],
   "source": [
    "ar = r.json()[0]"
   ]
  },
  {
   "cell_type": "code",
   "execution_count": 66,
   "metadata": {
    "collapsed": false
   },
   "outputs": [
    {
     "data": {
      "text/plain": [
       "201"
      ]
     },
     "execution_count": 66,
     "metadata": {},
     "output_type": "execute_result"
    }
   ],
   "source": [
    "r.status_code"
   ]
  },
  {
   "cell_type": "markdown",
   "metadata": {},
   "source": [
    "Refresh projects so that we get the up-to-date links"
   ]
  },
  {
   "cell_type": "code",
   "execution_count": 77,
   "metadata": {
    "collapsed": false
   },
   "outputs": [
    {
     "data": {
      "text/plain": [
       "'/api/v1/entities/7cebfee3-ee3f-4f34-a0dc-e4e7f79a18a6'"
      ]
     },
     "execution_count": 77,
     "metadata": {},
     "output_type": "execute_result"
    }
   ],
   "source": [
    "projects[0]['links']['self']"
   ]
  },
  {
   "cell_type": "code",
   "execution_count": 84,
   "metadata": {
    "collapsed": true
   },
   "outputs": [],
   "source": [
    "p = api.get(make_url(projects[0]['links']['self'])).json()['entity']"
   ]
  },
  {
   "cell_type": "code",
   "execution_count": 85,
   "metadata": {
    "collapsed": false
   },
   "outputs": [
    {
     "data": {
      "text/plain": [
       "{'_id': '7cebfee3-ee3f-4f34-a0dc-e4e7f79a18a6',\n",
       " 'named_links': {},\n",
       " 'attributes': {'name': 'My First Project',\n",
       "  'purpose': 'First Project',\n",
       "  'start': '2014-09-25T22:18:19.724-04:00'},\n",
       " 'type': 'Project',\n",
       " 'links': {'experiments': '/api/v1/entities/7cebfee3-ee3f-4f34-a0dc-e4e7f79a18a6/links/experiments',\n",
       "  'self': '/api/v1/entities/7cebfee3-ee3f-4f34-a0dc-e4e7f79a18a6',\n",
       "  'owner': '/api/v1/entities/7cebfee3-ee3f-4f34-a0dc-e4e7f79a18a6/links/owner',\n",
       "  '_collaboration_roots': '/api/v1/entities/7cebfee3-ee3f-4f34-a0dc-e4e7f79a18a6/links/_collaboration_roots'},\n",
       " '_rev': '3-b0ede23a375c31c56663960447319237'}"
      ]
     },
     "execution_count": 85,
     "metadata": {},
     "output_type": "execute_result"
    }
   ],
   "source": [
    "p"
   ]
  },
  {
   "cell_type": "code",
   "execution_count": 94,
   "metadata": {
    "collapsed": false
   },
   "outputs": [
    {
     "data": {
      "text/plain": [
       "[{'_id': '0fd8fd6e-d996-4595-a547-745e949c98af',\n",
       "  'links': {'self': '/api/v1/entities/0fd8fd6e-d996-4595-a547-745e949c98af',\n",
       "   'parent': '/api/v1/entities/0fd8fd6e-d996-4595-a547-745e949c98af/links/parent',\n",
       "   'owner': '/api/v1/entities/0fd8fd6e-d996-4595-a547-745e949c98af/links/owner',\n",
       "   '_collaboration_roots': '/api/v1/entities/0fd8fd6e-d996-4595-a547-745e949c98af/links/_collaboration_roots'},\n",
       "  'attributes': {'name': 'Tutorial Analysis',\n",
       "   'date': '2014-10-10T13:32:26.077167-04:00'},\n",
       "  'type': 'AnalysisRecord',\n",
       "  '_rev': '1-bd7b00dcd33ed2cb8a387745b6133896'}]"
      ]
     },
     "execution_count": 94,
     "metadata": {},
     "output_type": "execute_result"
    }
   ],
   "source": [
    "api.get(make_url(ar['links']['self'])).json()"
   ]
  },
  {
   "cell_type": "code",
   "execution_count": 98,
   "metadata": {
    "collapsed": false
   },
   "outputs": [
    {
     "data": {
      "text/plain": [
       "[]"
      ]
     },
     "execution_count": 98,
     "metadata": {},
     "output_type": "execute_result"
    }
   ],
   "source": [
    "# TODO p['links']['analysis_records']\n",
    "api.get(make_url('/api/v1/entities/{}/links/analysis_records'.format(p['_id']))).json()"
   ]
  },
  {
   "cell_type": "code",
   "execution_count": 96,
   "metadata": {
    "collapsed": false
   },
   "outputs": [
    {
     "data": {
      "text/plain": [
       "'7cebfee3-ee3f-4f34-a0dc-e4e7f79a18a6'"
      ]
     },
     "execution_count": 96,
     "metadata": {},
     "output_type": "execute_result"
    }
   ],
   "source": []
  }
 ],
 "metadata": {
  "kernelspec": {
   "display_name": "Python 3",
   "language": "python",
   "name": "python3"
  },
  "language_info": {
   "codemirror_mode": {
    "name": "ipython",
    "version": 3
   },
   "file_extension": ".py",
   "mimetype": "text/x-python",
   "name": "python",
   "nbconvert_exporter": "python",
   "pygments_lexer": "ipython3",
   "version": "3.4.3"
  }
 },
 "nbformat": 4,
 "nbformat_minor": 0
}
