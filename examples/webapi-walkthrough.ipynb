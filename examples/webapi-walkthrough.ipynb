{
 "cells": [
  {
   "cell_type": "code",
   "execution_count": 4,
   "metadata": {
    "collapsed": true
   },
   "outputs": [],
   "source": [
    "import requests\n",
    "import pprint as pp\n",
    "\n",
    "from urllib.parse import urljoin \n",
    "from getpass import getpass\n",
    "from requests.auth import HTTPBasicAuth"
   ]
  },
  {
   "cell_type": "markdown",
   "metadata": {},
   "source": [
    "The Ovation web API is a RESTful API that you use with any HTTP client. In this tutorial, we'll use the Python `requests` package."
   ]
  },
  {
   "cell_type": "markdown",
   "metadata": {},
   "source": [
    "### Utilities"
   ]
  },
  {
   "cell_type": "code",
   "execution_count": 23,
   "metadata": {
    "collapsed": true
   },
   "outputs": [],
   "source": [
    "API_HOST = 'http://127.0.0.1:3000' #'https://api-dev.ovation.io/'\n",
    "def make_url(path, host=API_HOST):\n",
    "    return urljoin(host, path)"
   ]
  },
  {
   "cell_type": "code",
   "execution_count": 14,
   "metadata": {
    "collapsed": false
   },
   "outputs": [
    {
     "data": {
      "text/plain": [
       "'http://0.0.0.0:3000/api/v1/projects'"
      ]
     },
     "execution_count": 14,
     "metadata": {},
     "output_type": "execute_result"
    }
   ],
   "source": [
    "make_url('/api/v1/projects')"
   ]
  },
  {
   "cell_type": "markdown",
   "metadata": {},
   "source": [
    "### Credentials"
   ]
  },
  {
   "cell_type": "markdown",
   "metadata": {},
   "source": [
    "Enter your Ovation API key:"
   ]
  },
  {
   "cell_type": "code",
   "execution_count": 16,
   "metadata": {
    "collapsed": false
   },
   "outputs": [
    {
     "name": "stdout",
     "output_type": "stream",
     "text": [
      "API Key: ········\n"
     ]
    }
   ],
   "source": [
    "api_key = getpass(prompt=\"API Key: \")"
   ]
  },
  {
   "cell_type": "markdown",
   "metadata": {},
   "source": [
    "We create a `requests.Session` object for use with the Ovation API"
   ]
  },
  {
   "cell_type": "code",
   "execution_count": 17,
   "metadata": {
    "collapsed": true
   },
   "outputs": [],
   "source": [
    "def make_session(api_key=api_key):\n",
    "    auth_params = {'api-key' : api_key}\n",
    "    \n",
    "    api = requests.Session()\n",
    "    api.verify = True # Verify SSL certificates\n",
    "    api.headers['content-type'] = 'application/json'\n",
    "    api.headers['Authorization'] = 'Token: token={}'.format(api_key)\n",
    "    \n",
    "    return api\n",
    "\n",
    "api = make_session(api_key)"
   ]
  },
  {
   "cell_type": "markdown",
   "metadata": {},
   "source": [
    "### Projects"
   ]
  },
  {
   "cell_type": "code",
   "execution_count": 24,
   "metadata": {
    "collapsed": false
   },
   "outputs": [
    {
     "data": {
      "text/plain": [
       "'http://127.0.0.1:3000/api/v1/projects'"
      ]
     },
     "execution_count": 24,
     "metadata": {},
     "output_type": "execute_result"
    }
   ],
   "source": [
    "make_url('/api/v1/projects')"
   ]
  },
  {
   "cell_type": "code",
   "execution_count": 25,
   "metadata": {
    "collapsed": false
   },
   "outputs": [
    {
     "ename": "HTTPError",
     "evalue": "404 Client Error: Not Found",
     "output_type": "error",
     "traceback": [
      "\u001b[0;31m---------------------------------------------------------------------------\u001b[0m",
      "\u001b[0;31mHTTPError\u001b[0m                                 Traceback (most recent call last)",
      "\u001b[0;32m<ipython-input-25-a367cc17e922>\u001b[0m in \u001b[0;36m<module>\u001b[0;34m()\u001b[0m\n\u001b[1;32m      1\u001b[0m \u001b[0mr\u001b[0m \u001b[0;34m=\u001b[0m \u001b[0mapi\u001b[0m\u001b[0;34m.\u001b[0m\u001b[0mget\u001b[0m\u001b[0;34m(\u001b[0m\u001b[0mmake_url\u001b[0m\u001b[0;34m(\u001b[0m\u001b[0;34m'/api/v1/projects'\u001b[0m\u001b[0;34m)\u001b[0m\u001b[0;34m)\u001b[0m\u001b[0;34m\u001b[0m\u001b[0m\n\u001b[0;32m----> 2\u001b[0;31m \u001b[0mr\u001b[0m\u001b[0;34m.\u001b[0m\u001b[0mraise_for_status\u001b[0m\u001b[0;34m(\u001b[0m\u001b[0;34m)\u001b[0m\u001b[0;34m\u001b[0m\u001b[0m\n\u001b[0m",
      "\u001b[0;32m/Users/barry/anaconda/lib/python3.4/site-packages/requests/models.py\u001b[0m in \u001b[0;36mraise_for_status\u001b[0;34m(self)\u001b[0m\n\u001b[1;32m    849\u001b[0m \u001b[0;34m\u001b[0m\u001b[0m\n\u001b[1;32m    850\u001b[0m         \u001b[0;32mif\u001b[0m \u001b[0mhttp_error_msg\u001b[0m\u001b[0;34m:\u001b[0m\u001b[0;34m\u001b[0m\u001b[0m\n\u001b[0;32m--> 851\u001b[0;31m             \u001b[0;32mraise\u001b[0m \u001b[0mHTTPError\u001b[0m\u001b[0;34m(\u001b[0m\u001b[0mhttp_error_msg\u001b[0m\u001b[0;34m,\u001b[0m \u001b[0mresponse\u001b[0m\u001b[0;34m=\u001b[0m\u001b[0mself\u001b[0m\u001b[0;34m)\u001b[0m\u001b[0;34m\u001b[0m\u001b[0m\n\u001b[0m\u001b[1;32m    852\u001b[0m \u001b[0;34m\u001b[0m\u001b[0m\n\u001b[1;32m    853\u001b[0m     \u001b[0;32mdef\u001b[0m \u001b[0mclose\u001b[0m\u001b[0;34m(\u001b[0m\u001b[0mself\u001b[0m\u001b[0;34m)\u001b[0m\u001b[0;34m:\u001b[0m\u001b[0;34m\u001b[0m\u001b[0m\n",
      "\u001b[0;31mHTTPError\u001b[0m: 404 Client Error: Not Found"
     ]
    }
   ],
   "source": [
    "r = api.get(make_url('/api/v1/projects'))\n",
    "r.raise_for_status()"
   ]
  },
  {
   "cell_type": "code",
   "execution_count": null,
   "metadata": {
    "collapsed": true
   },
   "outputs": [],
   "source": [
    "projects = r.json()"
   ]
  },
  {
   "cell_type": "code",
   "execution_count": null,
   "metadata": {
    "collapsed": false
   },
   "outputs": [],
   "source": [
    "len(projects)"
   ]
  },
  {
   "cell_type": "code",
   "execution_count": 9,
   "metadata": {
    "collapsed": false
   },
   "outputs": [
    {
     "name": "stdout",
     "output_type": "stream",
     "text": [
      "{'_id': '0f1ad537-3868-456a-805e-9b2f9cc7499a',\n",
      " '_rev': '12-8b431d7df2b4a71a84be00619a8a340e',\n",
      " 'annotations': {'keywords': {'ovation://entities/30925590-cf08-0131-805d-22000a7bab2e': [{'_id': 'keywords_b61ba6e8-58a0-4264-b226-8876bde00646',\n",
      "                                                                                           '_rev': '9-bbf1b4efaecb3b6acab89a8b17af0a48',\n",
      "                                                                                           'annotation': {'tag': 'tag1'},\n",
      "                                                                                           'annotation_type': 'keywords',\n",
      "                                                                                           'entity': 'ovation://entities/0f1ad537-3868-456a-805e-9b2f9cc7499a',\n",
      "                                                                                           'links': {'_collaboration_roots': ['0f1ad537-3868-456a-805e-9b2f9cc7499a']},\n",
      "                                                                                           'user': 'ovation://entities/30925590-cf08-0131-805d-22000a7bab2e'},\n",
      "                                                                                          {'_id': 'keywords_838585fb-9a1d-4685-985c-bf7e3286fd45',\n",
      "                                                                                           '_rev': '1-147818983e88e859b559b969da4fa892',\n",
      "                                                                                           'annotation': {':tag': 'bloop'},\n",
      "                                                                                           'annotation_type': 'keywords',\n",
      "                                                                                           'entity': 'ovation://entities/0f1ad537-3868-456a-805e-9b2f9cc7499a',\n",
      "                                                                                           'links': {'_collaboration_roots': ['0f1ad537-3868-456a-805e-9b2f9cc7499a']},\n",
      "                                                                                           'user': 'ovation://entities/30925590-cf08-0131-805d-22000a7bab2e'},\n",
      "                                                                                          {'_id': 'keywords_9b111f8f-678c-45e2-b032-a1a2bea15916',\n",
      "                                                                                           '_rev': '8-231cbd3d04e23640ce92582ebe93d186',\n",
      "                                                                                           'annotation': {'tag': 'tag2'},\n",
      "                                                                                           'annotation_type': 'keywords',\n",
      "                                                                                           'entity': 'ovation://entities/0f1ad537-3868-456a-805e-9b2f9cc7499a',\n",
      "                                                                                           'links': {'_collaboration_roots': ['0f1ad537-3868-456a-805e-9b2f9cc7499a']},\n",
      "                                                                                           'user': 'ovation://entities/30925590-cf08-0131-805d-22000a7bab2e'}]},\n",
      "                 'notes': {'ovation://entities/30925590-cf08-0131-805d-22000a7bab2e': [{'_id': 'notes_2ff62ac4-add3-48e3-ac55-2ba66402fee8',\n",
      "                                                                                        '_rev': '6-8c452c59b011847edb28dea230d08344',\n",
      "                                                                                        'annotation': {'text': 'Hi '\n",
      "                                                                                                               'Adam',\n",
      "                                                                                                       'time_stamp': '2014-10-03T14:38:17.970-04:00'},\n",
      "                                                                                        'annotation_type': 'notes',\n",
      "                                                                                        'entity': 'ovation://entities/0f1ad537-3868-456a-805e-9b2f9cc7499a',\n",
      "                                                                                        'links': {'_collaboration_roots': ['0f1ad537-3868-456a-805e-9b2f9cc7499a']},\n",
      "                                                                                        'user': 'ovation://entities/30925590-cf08-0131-805d-22000a7bab2e'},\n",
      "                                                                                       {'_id': 'notes_d3f071fa-3946-4daa-9c75-41fbadf4f618',\n",
      "                                                                                        '_rev': '6-8c452c59b011847edb28dea230d08344',\n",
      "                                                                                        'annotation': {'text': 'Hi '\n",
      "                                                                                                               'Adam',\n",
      "                                                                                                       'time_stamp': '2014-10-03T14:38:17.970-04:00'},\n",
      "                                                                                        'annotation_type': 'notes',\n",
      "                                                                                        'entity': 'ovation://entities/0f1ad537-3868-456a-805e-9b2f9cc7499a',\n",
      "                                                                                        'links': {'_collaboration_roots': ['0f1ad537-3868-456a-805e-9b2f9cc7499a']},\n",
      "                                                                                        'user': 'ovation://entities/30925590-cf08-0131-805d-22000a7bab2e'}]},\n",
      "                 'properties': {'ovation://entities/30925590-cf08-0131-805d-22000a7bab2e': [{'_id': 'properties_4c0698bd-dfa3-41c8-be66-b734ca8aa64b',\n",
      "                                                                                             '_rev': '7-f05409fde1e579131f4339d258c668c2',\n",
      "                                                                                             'annotation': {'key': 'key1',\n",
      "                                                                                                            'value': 'value1'},\n",
      "                                                                                             'annotation_type': 'properties',\n",
      "                                                                                             'entity': 'ovation://entities/0f1ad537-3868-456a-805e-9b2f9cc7499a',\n",
      "                                                                                             'links': {'_collaboration_roots': ['0f1ad537-3868-456a-805e-9b2f9cc7499a']},\n",
      "                                                                                             'user': 'ovation://entities/30925590-cf08-0131-805d-22000a7bab2e'},\n",
      "                                                                                            {'_id': 'properties_d6d092e9-010f-45da-a2fa-126777f6e2fa',\n",
      "                                                                                             '_rev': '6-6cd015f4eca4b0f1a90f1554e315d72b',\n",
      "                                                                                             'annotation': {'key': 'key2',\n",
      "                                                                                                            'value': 'value2'},\n",
      "                                                                                             'annotation_type': 'properties',\n",
      "                                                                                             'entity': 'ovation://entities/0f1ad537-3868-456a-805e-9b2f9cc7499a',\n",
      "                                                                                             'links': {'_collaboration_roots': ['0f1ad537-3868-456a-805e-9b2f9cc7499a']},\n",
      "                                                                                             'user': 'ovation://entities/30925590-cf08-0131-805d-22000a7bab2e'}]}},\n",
      " 'attributes': {},\n",
      " 'links': {'_collaboration_roots': '/api/v1/entities/0f1ad537-3868-456a-805e-9b2f9cc7499a/links/_collaboration_roots',\n",
      "           'analysis_records': '/api/v1/entities/0f1ad537-3868-456a-805e-9b2f9cc7499a/links/analysis_records',\n",
      "           'experiments': '/api/v1/entities/0f1ad537-3868-456a-805e-9b2f9cc7499a/links/experiments',\n",
      "           'notes': '/api/v1/entities/0f1ad537-3868-456a-805e-9b2f9cc7499a/annotations/notes',\n",
      "           'owner': '/api/v1/entities/0f1ad537-3868-456a-805e-9b2f9cc7499a/links/owner',\n",
      "           'properties': '/api/v1/entities/0f1ad537-3868-456a-805e-9b2f9cc7499a/annotations/properties',\n",
      "           'self': '/api/v1/entities/0f1ad537-3868-456a-805e-9b2f9cc7499a',\n",
      "           'tags': '/api/v1/entities/0f1ad537-3868-456a-805e-9b2f9cc7499a/annotations/tags',\n",
      "           'test-link': '/api/v1/entities/0f1ad537-3868-456a-805e-9b2f9cc7499a/links/test-link',\n",
      "           'timeline-events': '/api/v1/entities/0f1ad537-3868-456a-805e-9b2f9cc7499a/annotations/timeline-events'},\n",
      " 'type': 'Project'}\n"
     ]
    }
   ],
   "source": [
    "pp.pprint(projects[0])"
   ]
  },
  {
   "cell_type": "markdown",
   "metadata": {},
   "source": [
    "### Following links"
   ]
  },
  {
   "cell_type": "code",
   "execution_count": 10,
   "metadata": {
    "collapsed": true
   },
   "outputs": [],
   "source": [
    "r = api.get(make_url(projects[0]['links']['experiments']))\n",
    "r.raise_for_status()"
   ]
  },
  {
   "cell_type": "code",
   "execution_count": 11,
   "metadata": {
    "collapsed": true
   },
   "outputs": [],
   "source": [
    "experiments = r.json()"
   ]
  },
  {
   "cell_type": "code",
   "execution_count": 12,
   "metadata": {
    "collapsed": false
   },
   "outputs": [
    {
     "name": "stdout",
     "output_type": "stream",
     "text": [
      "{'_id': 'a6d89990-a563-4b3e-943f-92ecbca002a0',\n",
      " '_rev': '1-db78e0aad6836f790ecd1338e72fa634',\n",
      " 'attributes': {'purpose': 'Hi Adam',\n",
      "                'start': '2014-09-25T19:39:29.997-04:00'},\n",
      " 'links': {'_collaboration_roots': '/api/v1/entities/a6d89990-a563-4b3e-943f-92ecbca002a0/links/_collaboration_roots',\n",
      "           'analysis_records': '/api/v1/entities/a6d89990-a563-4b3e-943f-92ecbca002a0/links/analysis_records',\n",
      "           'epochs': '/api/v1/entities/a6d89990-a563-4b3e-943f-92ecbca002a0/links/epochs',\n",
      "           'notes': '/api/v1/entities/a6d89990-a563-4b3e-943f-92ecbca002a0/annotations/notes',\n",
      "           'owner': '/api/v1/entities/a6d89990-a563-4b3e-943f-92ecbca002a0/links/owner',\n",
      "           'projects': '/api/v1/entities/a6d89990-a563-4b3e-943f-92ecbca002a0/links/projects',\n",
      "           'properties': '/api/v1/entities/a6d89990-a563-4b3e-943f-92ecbca002a0/annotations/properties',\n",
      "           'self': '/api/v1/entities/a6d89990-a563-4b3e-943f-92ecbca002a0',\n",
      "           'tags': '/api/v1/entities/a6d89990-a563-4b3e-943f-92ecbca002a0/annotations/tags',\n",
      "           'timeline-events': '/api/v1/entities/a6d89990-a563-4b3e-943f-92ecbca002a0/annotations/timeline-events'},\n",
      " 'named_links': {},\n",
      " 'type': 'Experiment'}\n"
     ]
    }
   ],
   "source": [
    "exp = experiments[0]\n",
    "pp.pprint(exp)"
   ]
  },
  {
   "cell_type": "code",
   "execution_count": 15,
   "metadata": {
    "collapsed": false
   },
   "outputs": [
    {
     "ename": "KeyError",
     "evalue": "'epoch_groups'",
     "output_type": "error",
     "traceback": [
      "\u001b[0;31m---------------------------------------------------------------------------\u001b[0m\n\u001b[0;31mKeyError\u001b[0m                                  Traceback (most recent call last)",
      "\u001b[0;32m<ipython-input-15-96963deacbb8>\u001b[0m in \u001b[0;36m<module>\u001b[0;34m()\u001b[0m\n\u001b[1;32m      3\u001b[0m     \u001b[0mexperiments\u001b[0m \u001b[0;34m=\u001b[0m \u001b[0mapi\u001b[0m\u001b[0;34m.\u001b[0m\u001b[0mget\u001b[0m\u001b[0;34m(\u001b[0m\u001b[0mmake_url\u001b[0m\u001b[0;34m(\u001b[0m\u001b[0mp\u001b[0m\u001b[0;34m[\u001b[0m\u001b[0;34m'links'\u001b[0m\u001b[0;34m]\u001b[0m\u001b[0;34m[\u001b[0m\u001b[0;34m'experiments'\u001b[0m\u001b[0;34m]\u001b[0m\u001b[0;34m)\u001b[0m\u001b[0;34m)\u001b[0m\u001b[0;34m.\u001b[0m\u001b[0mjson\u001b[0m\u001b[0;34m(\u001b[0m\u001b[0;34m)\u001b[0m\u001b[0;34m\u001b[0m\u001b[0m\n\u001b[1;32m      4\u001b[0m     \u001b[0;32mfor\u001b[0m \u001b[0mexp\u001b[0m \u001b[0;32min\u001b[0m \u001b[0mexperiments\u001b[0m\u001b[0;34m:\u001b[0m\u001b[0;34m\u001b[0m\u001b[0m\n\u001b[0;32m----> 5\u001b[0;31m         \u001b[0mpp\u001b[0m\u001b[0;34m.\u001b[0m\u001b[0mpprint\u001b[0m\u001b[0;34m(\u001b[0m\u001b[0mapi\u001b[0m\u001b[0;34m.\u001b[0m\u001b[0mget\u001b[0m\u001b[0;34m(\u001b[0m\u001b[0mmake_url\u001b[0m\u001b[0;34m(\u001b[0m\u001b[0mexp\u001b[0m\u001b[0;34m[\u001b[0m\u001b[0;34m'links'\u001b[0m\u001b[0;34m]\u001b[0m\u001b[0;34m[\u001b[0m\u001b[0;34m'epoch_groups'\u001b[0m\u001b[0;34m]\u001b[0m\u001b[0;34m)\u001b[0m\u001b[0;34m)\u001b[0m\u001b[0;34m.\u001b[0m\u001b[0mjson\u001b[0m\u001b[0;34m(\u001b[0m\u001b[0;34m)\u001b[0m\u001b[0;34m)\u001b[0m\u001b[0;34m\u001b[0m\u001b[0m\n\u001b[0m\u001b[1;32m      6\u001b[0m         \u001b[0mpp\u001b[0m\u001b[0;34m.\u001b[0m\u001b[0mpprint\u001b[0m\u001b[0;34m(\u001b[0m\u001b[0mapi\u001b[0m\u001b[0;34m.\u001b[0m\u001b[0mget\u001b[0m\u001b[0;34m(\u001b[0m\u001b[0mmake_url\u001b[0m\u001b[0;34m(\u001b[0m\u001b[0mexp\u001b[0m\u001b[0;34m[\u001b[0m\u001b[0;34m'links'\u001b[0m\u001b[0;34m]\u001b[0m\u001b[0;34m[\u001b[0m\u001b[0;34m'epochs'\u001b[0m\u001b[0;34m]\u001b[0m\u001b[0;34m)\u001b[0m\u001b[0;34m)\u001b[0m\u001b[0;34m.\u001b[0m\u001b[0mjson\u001b[0m\u001b[0;34m(\u001b[0m\u001b[0;34m)\u001b[0m\u001b[0;34m)\u001b[0m\u001b[0;34m\u001b[0m\u001b[0m\n",
      "\u001b[0;31mKeyError\u001b[0m: 'epoch_groups'"
     ]
    }
   ],
   "source": [
    "for p in projects:\n",
    "    experiments = api.get(make_url(p['links']['experiments'])).json()\n",
    "    for exp in experiments:\n",
    "        pp.pprint(api.get(make_url(exp['links']['epoch_groups'])).json())\n",
    "        pp.pprint(api.get(make_url(exp['links']['epochs'])).json())"
   ]
  },
  {
   "cell_type": "markdown",
   "metadata": {},
   "source": [
    "### Adding analysis record"
   ]
  },
  {
   "cell_type": "code",
   "execution_count": 92,
   "metadata": {
    "collapsed": false
   },
   "outputs": [
    {
     "data": {
      "text/plain": [
       "[{'_id': '0fd8fd6e-d996-4595-a547-745e949c98af',\n",
       "  'links': {'self': '/api/v1/entities/0fd8fd6e-d996-4595-a547-745e949c98af',\n",
       "   'parent': '/api/v1/entities/0fd8fd6e-d996-4595-a547-745e949c98af/links/parent',\n",
       "   'owner': '/api/v1/entities/0fd8fd6e-d996-4595-a547-745e949c98af/links/owner',\n",
       "   '_collaboration_roots': '/api/v1/entities/0fd8fd6e-d996-4595-a547-745e949c98af/links/_collaboration_roots'},\n",
       "  'attributes': {'name': 'Tutorial Analysis',\n",
       "   'date': '2014-10-10T13:32:26.077167-04:00'},\n",
       "  'type': 'AnalysisRecord'}]"
      ]
     },
     "execution_count": 92,
     "metadata": {},
     "output_type": "execute_result"
    }
   ],
   "source": [
    "# TODO we should define the types somewhere\n",
    "est = pytz.timezone('US/Eastern')\n",
    "d = datetime.datetime.now(est)\n",
    "\n",
    "new_record = {'type': 'AnalysisRecord',\n",
    "              'attributes': {'name': 'Tutorial Analysis',\n",
    "                              'date': d.isoformat()},\n",
    "              'links': {'parent': [{'target_id': projects[0]['_id'],\n",
    "                                    'inverse_rel': 'analysis_records'}]}\n",
    "              }\n",
    "\n",
    "r = api.post(make_url('/api/v1/entities'), data=json.dumps(new_record))\n",
    "r.json()"
   ]
  },
  {
   "cell_type": "code",
   "execution_count": 93,
   "metadata": {
    "collapsed": true
   },
   "outputs": [],
   "source": [
    "ar = r.json()[0]"
   ]
  },
  {
   "cell_type": "code",
   "execution_count": 66,
   "metadata": {
    "collapsed": false
   },
   "outputs": [
    {
     "data": {
      "text/plain": [
       "201"
      ]
     },
     "execution_count": 66,
     "metadata": {},
     "output_type": "execute_result"
    }
   ],
   "source": [
    "r.status_code"
   ]
  },
  {
   "cell_type": "markdown",
   "metadata": {},
   "source": [
    "Refresh projects so that we get the up-to-date links"
   ]
  },
  {
   "cell_type": "code",
   "execution_count": 77,
   "metadata": {
    "collapsed": false
   },
   "outputs": [
    {
     "data": {
      "text/plain": [
       "'/api/v1/entities/7cebfee3-ee3f-4f34-a0dc-e4e7f79a18a6'"
      ]
     },
     "execution_count": 77,
     "metadata": {},
     "output_type": "execute_result"
    }
   ],
   "source": [
    "projects[0]['links']['self']"
   ]
  },
  {
   "cell_type": "code",
   "execution_count": 84,
   "metadata": {
    "collapsed": true
   },
   "outputs": [],
   "source": [
    "p = api.get(make_url(projects[0]['links']['self'])).json()[0]"
   ]
  },
  {
   "cell_type": "code",
   "execution_count": 85,
   "metadata": {
    "collapsed": false
   },
   "outputs": [
    {
     "data": {
      "text/plain": [
       "{'_id': '7cebfee3-ee3f-4f34-a0dc-e4e7f79a18a6',\n",
       " 'named_links': {},\n",
       " 'attributes': {'name': 'My First Project',\n",
       "  'purpose': 'First Project',\n",
       "  'start': '2014-09-25T22:18:19.724-04:00'},\n",
       " 'type': 'Project',\n",
       " 'links': {'experiments': '/api/v1/entities/7cebfee3-ee3f-4f34-a0dc-e4e7f79a18a6/links/experiments',\n",
       "  'self': '/api/v1/entities/7cebfee3-ee3f-4f34-a0dc-e4e7f79a18a6',\n",
       "  'owner': '/api/v1/entities/7cebfee3-ee3f-4f34-a0dc-e4e7f79a18a6/links/owner',\n",
       "  '_collaboration_roots': '/api/v1/entities/7cebfee3-ee3f-4f34-a0dc-e4e7f79a18a6/links/_collaboration_roots'},\n",
       " '_rev': '3-b0ede23a375c31c56663960447319237'}"
      ]
     },
     "execution_count": 85,
     "metadata": {},
     "output_type": "execute_result"
    }
   ],
   "source": [
    "p"
   ]
  },
  {
   "cell_type": "code",
   "execution_count": 94,
   "metadata": {
    "collapsed": false
   },
   "outputs": [
    {
     "data": {
      "text/plain": [
       "[{'_id': '0fd8fd6e-d996-4595-a547-745e949c98af',\n",
       "  'links': {'self': '/api/v1/entities/0fd8fd6e-d996-4595-a547-745e949c98af',\n",
       "   'parent': '/api/v1/entities/0fd8fd6e-d996-4595-a547-745e949c98af/links/parent',\n",
       "   'owner': '/api/v1/entities/0fd8fd6e-d996-4595-a547-745e949c98af/links/owner',\n",
       "   '_collaboration_roots': '/api/v1/entities/0fd8fd6e-d996-4595-a547-745e949c98af/links/_collaboration_roots'},\n",
       "  'attributes': {'name': 'Tutorial Analysis',\n",
       "   'date': '2014-10-10T13:32:26.077167-04:00'},\n",
       "  'type': 'AnalysisRecord',\n",
       "  '_rev': '1-bd7b00dcd33ed2cb8a387745b6133896'}]"
      ]
     },
     "execution_count": 94,
     "metadata": {},
     "output_type": "execute_result"
    }
   ],
   "source": [
    "api.get(make_url(ar['links']['self'])).json()"
   ]
  },
  {
   "cell_type": "code",
   "execution_count": 98,
   "metadata": {
    "collapsed": false
   },
   "outputs": [
    {
     "data": {
      "text/plain": [
       "[]"
      ]
     },
     "execution_count": 98,
     "metadata": {},
     "output_type": "execute_result"
    }
   ],
   "source": [
    "# TODO p['links']['analysis_records']\n",
    "api.get(make_url('/api/v1/entities/{}/links/analysis_records'.format(p['_id']))).json()"
   ]
  },
  {
   "cell_type": "code",
   "execution_count": 96,
   "metadata": {
    "collapsed": false
   },
   "outputs": [
    {
     "data": {
      "text/plain": [
       "'7cebfee3-ee3f-4f34-a0dc-e4e7f79a18a6'"
      ]
     },
     "execution_count": 96,
     "metadata": {},
     "output_type": "execute_result"
    }
   ],
   "source": []
  }
 ],
 "metadata": {
  "kernelspec": {
   "display_name": "Python 3",
   "language": "python",
   "name": "python3"
  },
  "language_info": {
   "codemirror_mode": {
    "name": "ipython",
    "version": 3
   },
   "file_extension": ".py",
   "mimetype": "text/x-python",
   "name": "python",
   "nbconvert_exporter": "python",
   "pygments_lexer": "ipython3",
   "version": "3.4.3"
  }
 },
 "nbformat": 4,
 "nbformat_minor": 0
}
